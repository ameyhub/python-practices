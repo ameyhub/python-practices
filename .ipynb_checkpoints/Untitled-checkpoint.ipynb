{
 "cells": [
  {
   "cell_type": "code",
   "execution_count": 1,
   "id": "75075b46",
   "metadata": {},
   "outputs": [
    {
     "name": "stdout",
     "output_type": "stream",
     "text": [
      "hello world!\n"
     ]
    }
   ],
   "source": [
    "print('hello world!')"
   ]
  },
  {
   "cell_type": "code",
   "execution_count": 2,
   "id": "69f621da",
   "metadata": {},
   "outputs": [
    {
     "name": "stdout",
     "output_type": "stream",
     "text": [
      "Hello world!\n"
     ]
    }
   ],
   "source": [
    "print(\"Hello world!\")"
   ]
  },
  {
   "cell_type": "code",
   "execution_count": 3,
   "id": "fe336955",
   "metadata": {},
   "outputs": [
    {
     "name": "stdout",
     "output_type": "stream",
     "text": [
      "<class 'int'>\n",
      "<class 'str'>\n"
     ]
    }
   ],
   "source": [
    "x = 5\n",
    "y = \"Amey\"\n",
    "\n",
    "print(type(x))\n",
    "print(type(y))"
   ]
  },
  {
   "cell_type": "code",
   "execution_count": 4,
   "id": "1229e383",
   "metadata": {},
   "outputs": [
    {
     "name": "stdout",
     "output_type": "stream",
     "text": [
      "amey\n"
     ]
    }
   ],
   "source": [
    "x = \"amey\"\n",
    "x = 'amey'\n",
    "print(x)"
   ]
  },
  {
   "cell_type": "code",
   "execution_count": 6,
   "id": "aed16865",
   "metadata": {},
   "outputs": [
    {
     "name": "stdout",
     "output_type": "stream",
     "text": [
      "Amey\n"
     ]
    }
   ],
   "source": [
    "a = 'amey'\n",
    "A = 'Amey'\n",
    "print(A)"
   ]
  },
  {
   "cell_type": "code",
   "execution_count": 7,
   "id": "9b74b1fc",
   "metadata": {},
   "outputs": [],
   "source": [
    "myvar='amey'\n",
    "\n",
    "my_var='amey'\n",
    "\n",
    "_my_var='amey'\n",
    "\n",
    "myVar='amey'\n",
    "\n",
    "MYVAR='amey'\n",
    "\n",
    "myvar2='amey'"
   ]
  },
  {
   "cell_type": "code",
   "execution_count": 8,
   "id": "da0a5ab4",
   "metadata": {},
   "outputs": [],
   "source": [
    "#camel Case\n",
    "\n",
    "myVariableName='john'\n",
    "\n",
    "#Pascal Case\n",
    "\n",
    "MyVariableName='john'\n",
    "\n",
    "#Snake Case\n",
    "\n",
    "my_variable_name='john'"
   ]
  },
  {
   "cell_type": "code",
   "execution_count": 10,
   "id": "fa5e3f38",
   "metadata": {},
   "outputs": [
    {
     "name": "stdout",
     "output_type": "stream",
     "text": [
      "orange\n",
      "pineapple\n",
      "apple\n"
     ]
    }
   ],
   "source": [
    "x,y,z = \"orange\", 'pineapple', \"apple\"\n",
    "\n",
    "print(x)\n",
    "print(y)\n",
    "print(z)"
   ]
  },
  {
   "cell_type": "code",
   "execution_count": 12,
   "id": "6eb90c82",
   "metadata": {},
   "outputs": [
    {
     "name": "stdout",
     "output_type": "stream",
     "text": [
      "banana\n",
      "banana\n",
      "banana\n"
     ]
    }
   ],
   "source": [
    "x=y=z=\"banana\"\n",
    "print(x)\n",
    "print(y)\n",
    "print(z)"
   ]
  },
  {
   "cell_type": "code",
   "execution_count": 13,
   "id": "6a888b80",
   "metadata": {},
   "outputs": [
    {
     "name": "stdout",
     "output_type": "stream",
     "text": [
      "apple\n",
      "banana\n",
      "cherry\n"
     ]
    }
   ],
   "source": [
    "fruits = ['apple','banana', 'cherry']\n",
    "x,y,z = fruits\n",
    "print(x)\n",
    "print(y)\n",
    "print(z)"
   ]
  },
  {
   "cell_type": "code",
   "execution_count": 15,
   "id": "f38b3af5",
   "metadata": {},
   "outputs": [
    {
     "name": "stdout",
     "output_type": "stream",
     "text": [
      "pythonjavaGo\n"
     ]
    }
   ],
   "source": [
    "x='python'\n",
    "y='java'\n",
    "z='Go'\n",
    "\n",
    "print(x+y+z)"
   ]
  },
  {
   "cell_type": "code",
   "execution_count": 16,
   "id": "d19d9405",
   "metadata": {},
   "outputs": [
    {
     "name": "stdout",
     "output_type": "stream",
     "text": [
      "python java Go\n"
     ]
    }
   ],
   "source": [
    "x='python'\n",
    "y='java'\n",
    "z='Go'\n",
    "\n",
    "print(x,y,z)"
   ]
  },
  {
   "cell_type": "code",
   "execution_count": 17,
   "id": "591f505a",
   "metadata": {},
   "outputs": [
    {
     "name": "stdout",
     "output_type": "stream",
     "text": [
      "15\n"
     ]
    }
   ],
   "source": [
    "x,y = 5,10\n",
    "print(x+y)"
   ]
  },
  {
   "cell_type": "code",
   "execution_count": 18,
   "id": "303d9e55",
   "metadata": {},
   "outputs": [
    {
     "ename": "TypeError",
     "evalue": "unsupported operand type(s) for +: 'int' and 'str'",
     "output_type": "error",
     "traceback": [
      "\u001b[0;31m---------------------------------------------------------------------------\u001b[0m",
      "\u001b[0;31mTypeError\u001b[0m                                 Traceback (most recent call last)",
      "\u001b[0;32m/tmp/ipykernel_9533/2523910954.py\u001b[0m in \u001b[0;36m<module>\u001b[0;34m\u001b[0m\n\u001b[1;32m      2\u001b[0m \u001b[0my\u001b[0m\u001b[0;34m=\u001b[0m\u001b[0;34m'steel'\u001b[0m\u001b[0;34m\u001b[0m\u001b[0;34m\u001b[0m\u001b[0m\n\u001b[1;32m      3\u001b[0m \u001b[0;34m\u001b[0m\u001b[0m\n\u001b[0;32m----> 4\u001b[0;31m \u001b[0mprint\u001b[0m\u001b[0;34m(\u001b[0m\u001b[0mx\u001b[0m\u001b[0;34m+\u001b[0m\u001b[0my\u001b[0m\u001b[0;34m)\u001b[0m\u001b[0;34m\u001b[0m\u001b[0;34m\u001b[0m\u001b[0m\n\u001b[0m",
      "\u001b[0;31mTypeError\u001b[0m: unsupported operand type(s) for +: 'int' and 'str'"
     ]
    }
   ],
   "source": [
    "x=5\n",
    "y='steel'\n",
    "\n",
    "print(x+y)"
   ]
  },
  {
   "cell_type": "code",
   "execution_count": 19,
   "id": "e64e864e",
   "metadata": {},
   "outputs": [
    {
     "name": "stdout",
     "output_type": "stream",
     "text": [
      "5 steel\n"
     ]
    }
   ],
   "source": [
    "x=5\n",
    "y='steel'\n",
    "\n",
    "print(x,y)"
   ]
  },
  {
   "cell_type": "code",
   "execution_count": 22,
   "id": "f0713b78",
   "metadata": {},
   "outputs": [
    {
     "name": "stdout",
     "output_type": "stream",
     "text": [
      "python and java\n"
     ]
    }
   ],
   "source": [
    "x=\"and java\"\n",
    "\n",
    "def timepass():\n",
    "    print(\"python \"+x)\n",
    "\n",
    "timepass()"
   ]
  },
  {
   "cell_type": "code",
   "execution_count": 2,
   "id": "6f0abb08",
   "metadata": {},
   "outputs": [
    {
     "name": "stdout",
     "output_type": "stream",
     "text": [
      "python is awesom\n",
      "python and java\n"
     ]
    }
   ],
   "source": [
    "x='and java'\n",
    "\n",
    "def newfunc1():\n",
    "    x=\"is awesom\"\n",
    "    print('python '+x)\n",
    "\n",
    "newfunc1()\n",
    "print('python ' +x)"
   ]
  },
  {
   "cell_type": "code",
   "execution_count": 4,
   "id": "498f62f0",
   "metadata": {},
   "outputs": [
    {
     "name": "stdout",
     "output_type": "stream",
     "text": [
      "python is fantastic\n"
     ]
    }
   ],
   "source": [
    "def newfunct2():\n",
    "    global q\n",
    "    q='fantastic'\n",
    "\n",
    "newfunct2()\n",
    "\n",
    "print('python is '+q)"
   ]
  },
  {
   "cell_type": "code",
   "execution_count": 5,
   "id": "4ebf0540",
   "metadata": {},
   "outputs": [
    {
     "name": "stdout",
     "output_type": "stream",
     "text": [
      "python is fantastic\n"
     ]
    }
   ],
   "source": [
    "w='awesome'\n",
    "def newfunc3():\n",
    "    global w\n",
    "    w='fantastic'\n",
    "\n",
    "newfunc3()\n",
    "\n",
    "print('python is '+w)"
   ]
  },
  {
   "cell_type": "code",
   "execution_count": 2,
   "id": "40757966",
   "metadata": {},
   "outputs": [
    {
     "name": "stdout",
     "output_type": "stream",
     "text": [
      "\n",
      "HI MY NAME IS AMEY\n",
      "\n"
     ]
    }
   ],
   "source": [
    "a = \"\"\"\n",
    "HI MY NAME IS AMEY\n",
    "\"\"\"\n",
    "print(a)"
   ]
  },
  {
   "cell_type": "code",
   "execution_count": 4,
   "id": "607d2276",
   "metadata": {},
   "outputs": [
    {
     "name": "stdout",
     "output_type": "stream",
     "text": [
      "\n",
      "Hi My Name is Amey\n",
      "\n"
     ]
    }
   ],
   "source": [
    "a = '''\n",
    "Hi My Name is Amey\n",
    "'''\n",
    "print(a)"
   ]
  },
  {
   "cell_type": "code",
   "execution_count": 5,
   "id": "dc3356ab",
   "metadata": {},
   "outputs": [
    {
     "name": "stdout",
     "output_type": "stream",
     "text": [
      "e\n"
     ]
    }
   ],
   "source": [
    "a = 'hello world!'\n",
    "print(a[1])"
   ]
  },
  {
   "cell_type": "code",
   "execution_count": 8,
   "id": "0046026f",
   "metadata": {},
   "outputs": [
    {
     "name": "stdout",
     "output_type": "stream",
     "text": [
      "h\n",
      "e\n",
      "l\n",
      "l\n",
      "o\n",
      " \n",
      "w\n",
      "o\n",
      "r\n",
      "l\n",
      "d\n",
      "!\n"
     ]
    }
   ],
   "source": [
    "for x in 'hello world!':\n",
    "    print(x)"
   ]
  },
  {
   "cell_type": "code",
   "execution_count": 10,
   "id": "93162ad3",
   "metadata": {},
   "outputs": [
    {
     "name": "stdout",
     "output_type": "stream",
     "text": [
      "False\n"
     ]
    }
   ],
   "source": [
    "txt = \"the best things in life are free!\"\n",
    "print(\"amey\" in txt)"
   ]
  },
  {
   "cell_type": "code",
   "execution_count": 14,
   "id": "c95d89b0",
   "metadata": {},
   "outputs": [
    {
     "name": "stdout",
     "output_type": "stream",
     "text": [
      "character or statment is exisit\n"
     ]
    }
   ],
   "source": [
    "if \"free\" in txt:\n",
    "    print(\"character or statment is exisit\")\n",
    "else:\n",
    "    print(\"character or statment is not exisit\")"
   ]
  },
  {
   "cell_type": "code",
   "execution_count": 2,
   "id": "ce17de30",
   "metadata": {},
   "outputs": [
    {
     "name": "stdout",
     "output_type": "stream",
     "text": [
      "['apple', 'banana', 'cherry']\n"
     ]
    }
   ],
   "source": [
    "thislist = ['apple', 'banana', 'cherry']\n",
    "print(thislist)"
   ]
  },
  {
   "cell_type": "code",
   "execution_count": 3,
   "id": "e40ad82b",
   "metadata": {},
   "outputs": [
    {
     "name": "stdout",
     "output_type": "stream",
     "text": [
      "yes\n",
      "0\n"
     ]
    }
   ],
   "source": [
    "if 'apple' in thislist:\n",
    "    print('yes')\n",
    "    print(thislist.index('apple'))\n",
    "else:\n",
    "    print('No')"
   ]
  },
  {
   "cell_type": "code",
   "execution_count": 4,
   "id": "36bc7145",
   "metadata": {},
   "outputs": [
    {
     "name": "stdout",
     "output_type": "stream",
     "text": [
      "['apple', 'blackcurrent', 'cherry']\n"
     ]
    }
   ],
   "source": [
    "thislist[1] = 'blackcurrent'\n",
    "print(thislist)"
   ]
  },
  {
   "cell_type": "code",
   "execution_count": 5,
   "id": "0e7454fc",
   "metadata": {},
   "outputs": [
    {
     "name": "stdout",
     "output_type": "stream",
     "text": [
      "['apple', 'banana', 'watermelon']\n"
     ]
    }
   ],
   "source": [
    "thislist[1:3] = ['banana', 'watermelon']\n",
    "print(thislist)"
   ]
  },
  {
   "cell_type": "code",
   "execution_count": 6,
   "id": "80ee0c0f",
   "metadata": {},
   "outputs": [
    {
     "name": "stdout",
     "output_type": "stream",
     "text": [
      "['orange', 'cheery', 'kiwi']\n"
     ]
    }
   ],
   "source": [
    "thislist=['orange','cheery', 'kiwi']\n",
    "print(thislist)"
   ]
  },
  {
   "cell_type": "code",
   "execution_count": 7,
   "id": "9bfbbffa",
   "metadata": {},
   "outputs": [
    {
     "name": "stdout",
     "output_type": "stream",
     "text": [
      "['orange', 'cheery', 'kiwi']\n"
     ]
    }
   ],
   "source": [
    "print(thislist)"
   ]
  },
  {
   "cell_type": "code",
   "execution_count": 8,
   "id": "c866e71a",
   "metadata": {},
   "outputs": [],
   "source": [
    "thislist.insert(3, \"watermelon\")"
   ]
  },
  {
   "cell_type": "code",
   "execution_count": 9,
   "id": "35744841",
   "metadata": {},
   "outputs": [
    {
     "name": "stdout",
     "output_type": "stream",
     "text": [
      "['orange', 'cheery', 'kiwi', 'watermelon']\n"
     ]
    }
   ],
   "source": [
    "print(thislist)"
   ]
  },
  {
   "cell_type": "code",
   "execution_count": 10,
   "id": "1ace5fed",
   "metadata": {},
   "outputs": [
    {
     "name": "stdout",
     "output_type": "stream",
     "text": [
      "['orange', 'cheery', 'kiwi', 'watermelon', 'blackcurrent']\n"
     ]
    }
   ],
   "source": [
    "for i in range(1):\n",
    "    thislist.append(\"blackcurrent\")\n",
    "\n",
    "print(thislist)\n",
    "    "
   ]
  },
  {
   "cell_type": "code",
   "execution_count": 12,
   "id": "2acc661f",
   "metadata": {},
   "outputs": [
    {
     "name": "stdout",
     "output_type": "stream",
     "text": [
      "['orange', 'cheery', 'kiwi', 'watermelon', 'blackcurrent', 'banana', 'pineapple', 'apple', 'banana', 'pineapple', 'apple', 'banana', 'pineapple', 'apple', 'banana', 'pineapple', 'apple', 'banana', 'pineapple', 'apple']\n"
     ]
    }
   ],
   "source": [
    "for i in range(len(thislist)):\n",
    "    thislist.append(\"banana\")\n",
    "    thislist.append(\"pineapple\")\n",
    "    thislist.append(\"apple\")\n",
    "    \n",
    "print(thislist)"
   ]
  },
  {
   "cell_type": "code",
   "execution_count": 14,
   "id": "67dd6fa2",
   "metadata": {},
   "outputs": [
    {
     "data": {
      "text/plain": [
       "['orange',\n",
       " 'cheery',\n",
       " 'kiwi',\n",
       " 'watermelon',\n",
       " 'blackcurrent',\n",
       " 'banana',\n",
       " 'pineapple',\n",
       " 'apple',\n",
       " 'banana',\n",
       " 'pineapple',\n",
       " 'apple',\n",
       " 'banana',\n",
       " 'pineapple',\n",
       " 'apple',\n",
       " 'banana',\n",
       " 'pineapple',\n",
       " 'apple',\n",
       " 'banana',\n",
       " 'pineapple',\n",
       " 'apple']"
      ]
     },
     "execution_count": 14,
     "metadata": {},
     "output_type": "execute_result"
    }
   ],
   "source": [
    "thislist"
   ]
  },
  {
   "cell_type": "code",
   "execution_count": 15,
   "id": "57ef2666",
   "metadata": {},
   "outputs": [
    {
     "name": "stdout",
     "output_type": "stream",
     "text": [
      "['orange', 'banana', 'apple', 'blackcurrent', 'kiwi', 'cheery', 'watermelon', 'pineapple']\n"
     ]
    }
   ],
   "source": [
    "thislist = list(set(thislist))\n",
    "print(thislist)"
   ]
  },
  {
   "cell_type": "code",
   "execution_count": 16,
   "id": "b635ce37",
   "metadata": {},
   "outputs": [
    {
     "name": "stdout",
     "output_type": "stream",
     "text": [
      "['orange', 'apple', 'blackcurrent', 'kiwi', 'cheery', 'watermelon', 'pineapple']\n",
      "['orange', 'apple', 'blackcurrent', 'cheery', 'watermelon', 'pineapple']\n"
     ]
    }
   ],
   "source": [
    "# remove -> method is removes the specified item.\n",
    "\n",
    "thislist.remove(\"banana\")\n",
    "print(thislist)\n",
    "\n",
    "\n",
    "#POP -> method is removes the specified index.\n",
    "\n",
    "thislist.pop(3)\n",
    "print(thislist)"
   ]
  },
  {
   "cell_type": "code",
   "execution_count": 17,
   "id": "da369f46",
   "metadata": {},
   "outputs": [
    {
     "name": "stdout",
     "output_type": "stream",
     "text": [
      "['orange', 'apple', 'blackcurrent', 'cheery', 'watermelon', 'pineapple']\n"
     ]
    }
   ],
   "source": [
    "print(thislist)"
   ]
  },
  {
   "cell_type": "code",
   "execution_count": 19,
   "id": "d65ac820",
   "metadata": {},
   "outputs": [
    {
     "name": "stdout",
     "output_type": "stream",
     "text": [
      "['blackcurrent', 'cheery', 'watermelon', 'pineapple']\n"
     ]
    }
   ],
   "source": [
    "#delete del -> keyword also remove the specified index\n",
    "\n",
    "del thislist[0]\n",
    "print(thislist)\n",
    "\n",
    "#orange and apple is delete from the list"
   ]
  },
  {
   "cell_type": "code",
   "execution_count": 25,
   "id": "af4baef3",
   "metadata": {},
   "outputs": [
    {
     "name": "stdout",
     "output_type": "stream",
     "text": [
      "[]\n"
     ]
    }
   ],
   "source": [
    "#Clear() -> method empties the list\n",
    "\n",
    "thislist.clear()\n",
    "print(thislist)"
   ]
  },
  {
   "cell_type": "code",
   "execution_count": 26,
   "id": "00b217f3",
   "metadata": {},
   "outputs": [],
   "source": [
    "thislist=['orange', 'apple', 'blackcurrent', 'cheery', 'watermelon', 'pineapple']"
   ]
  },
  {
   "cell_type": "code",
   "execution_count": 27,
   "id": "12384c18",
   "metadata": {},
   "outputs": [
    {
     "data": {
      "text/plain": [
       "['orange', 'apple', 'blackcurrent', 'cheery', 'watermelon', 'pineapple']"
      ]
     },
     "execution_count": 27,
     "metadata": {},
     "output_type": "execute_result"
    }
   ],
   "source": [
    "thislist"
   ]
  },
  {
   "cell_type": "code",
   "execution_count": 2,
   "id": "866cfb00",
   "metadata": {},
   "outputs": [],
   "source": [
    "fruits = ('orange', 'apple', 'blackcurrent', 'cheery', 'watermelon', 'pineapple')"
   ]
  },
  {
   "cell_type": "code",
   "execution_count": 3,
   "id": "ae703a58",
   "metadata": {},
   "outputs": [
    {
     "data": {
      "text/plain": [
       "('orange', 'apple', 'blackcurrent', 'cheery', 'watermelon', 'pineapple')"
      ]
     },
     "execution_count": 3,
     "metadata": {},
     "output_type": "execute_result"
    }
   ],
   "source": [
    "fruits"
   ]
  },
  {
   "cell_type": "code",
   "execution_count": 4,
   "id": "ed85bb49",
   "metadata": {},
   "outputs": [
    {
     "name": "stdout",
     "output_type": "stream",
     "text": [
      "orange\n",
      "apple\n",
      "blackcurrent\n",
      "cheery\n",
      "watermelon\n",
      "pineapple\n"
     ]
    }
   ],
   "source": [
    "for x in fruits:\n",
    "    print(x)"
   ]
  },
  {
   "cell_type": "code",
   "execution_count": 7,
   "id": "13309a0d",
   "metadata": {},
   "outputs": [
    {
     "name": "stdout",
     "output_type": "stream",
     "text": [
      "orange 0\n",
      "apple 1\n",
      "blackcurrent 2\n",
      "cheery 3\n",
      "watermelon 4\n",
      "pineapple 5\n"
     ]
    }
   ],
   "source": [
    "for x in range(len(fruits)):\n",
    "    print(fruits[x], x)"
   ]
  },
  {
   "cell_type": "code",
   "execution_count": 9,
   "id": "6eca82af",
   "metadata": {},
   "outputs": [
    {
     "name": "stdout",
     "output_type": "stream",
     "text": [
      "orange 0\n",
      "apple 1\n",
      "blackcurrent 2\n",
      "cheery 3\n",
      "watermelon 4\n",
      "pineapple 5\n"
     ]
    }
   ],
   "source": [
    "i=0\n",
    "\n",
    "while i < len(fruits):\n",
    "    print(fruits[i], i)\n",
    "    i = i +1"
   ]
  },
  {
   "cell_type": "code",
   "execution_count": 10,
   "id": "ae959fbe",
   "metadata": {},
   "outputs": [],
   "source": [
    "#join two tuples\n",
    "\n",
    "car = (\"BMW\", \"AUDIO\", \"MG\", \"SKODA\")"
   ]
  },
  {
   "cell_type": "code",
   "execution_count": 11,
   "id": "22b0137d",
   "metadata": {},
   "outputs": [
    {
     "name": "stdout",
     "output_type": "stream",
     "text": [
      "('BMW', 'AUDIO', 'MG', 'SKODA', 'orange', 'apple', 'blackcurrent', 'cheery', 'watermelon', 'pineapple')\n"
     ]
    }
   ],
   "source": [
    "joinTuple = car + fruits\n",
    "\n",
    "print(joinTuple)"
   ]
  },
  {
   "cell_type": "code",
   "execution_count": 12,
   "id": "f25f2364",
   "metadata": {},
   "outputs": [
    {
     "name": "stdout",
     "output_type": "stream",
     "text": [
      "('orange', 'apple', 'blackcurrent', 'cheery', 'watermelon', 'pineapple', 'orange', 'apple', 'blackcurrent', 'cheery', 'watermelon', 'pineapple', 'orange', 'apple', 'blackcurrent', 'cheery', 'watermelon', 'pineapple')\n"
     ]
    }
   ],
   "source": [
    "joinTuple = fruits *3\n",
    "print(joinTuple)"
   ]
  },
  {
   "cell_type": "code",
   "execution_count": 13,
   "id": "ff2870d4",
   "metadata": {},
   "outputs": [
    {
     "name": "stdout",
     "output_type": "stream",
     "text": [
      "2\n"
     ]
    }
   ],
   "source": [
    "thistuple = (1, 3, 7, 8, 7, 5, 4, 6, 8, 5)\n",
    "\n",
    "x = thistuple.count(5)\n",
    "\n",
    "print(x)"
   ]
  },
  {
   "cell_type": "code",
   "execution_count": 14,
   "id": "25b33539",
   "metadata": {},
   "outputs": [
    {
     "name": "stdout",
     "output_type": "stream",
     "text": [
      "3\n"
     ]
    }
   ],
   "source": [
    "thistuple = (1, 3, 7, 8, 7, 5, 4, 6, 8, 5)\n",
    "\n",
    "x = thistuple.index(8)\n",
    "\n",
    "print(x)"
   ]
  },
  {
   "cell_type": "code",
   "execution_count": 15,
   "id": "5378906d",
   "metadata": {},
   "outputs": [],
   "source": [
    "# sets\n"
   ]
  },
  {
   "cell_type": "code",
   "execution_count": 16,
   "id": "1a7d8837",
   "metadata": {},
   "outputs": [],
   "source": [
    "thisset = {'orange', 'apple', 'blackcurrent', 'cheery', 'watermelon', 'pineapple'}"
   ]
  },
  {
   "cell_type": "code",
   "execution_count": 17,
   "id": "e0766227",
   "metadata": {},
   "outputs": [
    {
     "data": {
      "text/plain": [
       "{'apple', 'blackcurrent', 'cheery', 'orange', 'pineapple', 'watermelon'}"
      ]
     },
     "execution_count": 17,
     "metadata": {},
     "output_type": "execute_result"
    }
   ],
   "source": [
    "thisset"
   ]
  },
  {
   "cell_type": "code",
   "execution_count": 22,
   "id": "bba246eb",
   "metadata": {},
   "outputs": [
    {
     "name": "stdout",
     "output_type": "stream",
     "text": [
      "{'graph', 'blackcurrent', 'pineapple', 'apple', 'cheery', 'watermelon', 'orange'}\n"
     ]
    }
   ],
   "source": [
    "x = list(thisset)\n",
    "x.append(\"cheery\")\n",
    "thisset= set(x)\n",
    "print(thisset)"
   ]
  },
  {
   "cell_type": "code",
   "execution_count": 24,
   "id": "46a23403",
   "metadata": {},
   "outputs": [
    {
     "name": "stdout",
     "output_type": "stream",
     "text": [
      "('graph', 'blackcurrent', 'pineapple', 'apple', 'cheery', 'watermelon', 'orange', 'cheery', 'cheery')\n"
     ]
    }
   ],
   "source": [
    "x = list(thisset)\n",
    "x.append(\"cheery\")\n",
    "thistuple= tuple(x)\n",
    "print(thistuple)"
   ]
  },
  {
   "cell_type": "code",
   "execution_count": 26,
   "id": "8ab257d8",
   "metadata": {},
   "outputs": [
    {
     "name": "stdout",
     "output_type": "stream",
     "text": [
      "{True, 2, 'cherry', 'banana', 'apple'}\n"
     ]
    }
   ],
   "source": [
    "#set\n",
    "thisset = {\"apple\", \"banana\", \"cherry\", True, 1, 2}\n",
    "\n",
    "print(thisset)"
   ]
  },
  {
   "cell_type": "code",
   "execution_count": 27,
   "id": "ed8c4977",
   "metadata": {},
   "outputs": [
    {
     "name": "stdout",
     "output_type": "stream",
     "text": [
      "5\n"
     ]
    }
   ],
   "source": [
    "print(len(thisset))"
   ]
  },
  {
   "cell_type": "code",
   "execution_count": 28,
   "id": "95d62900",
   "metadata": {},
   "outputs": [
    {
     "name": "stdout",
     "output_type": "stream",
     "text": [
      "{'banana', 'apple', 'cherry'}\n",
      "{1, 3, 5, 7, 9}\n",
      "{False, True}\n"
     ]
    }
   ],
   "source": [
    "set1 = {\"apple\", \"banana\", \"cherry\"}\n",
    "set2 = {1, 5, 7, 9, 3}\n",
    "set3 = {True, False, False}\n",
    "\n",
    "print(set1)\n",
    "print(set2)\n",
    "print(set3)"
   ]
  },
  {
   "cell_type": "code",
   "execution_count": 29,
   "id": "23e4d413",
   "metadata": {},
   "outputs": [
    {
     "name": "stdout",
     "output_type": "stream",
     "text": [
      "<class 'set'>\n"
     ]
    }
   ],
   "source": [
    "print(type(thisset))"
   ]
  },
  {
   "cell_type": "code",
   "execution_count": 69,
   "id": "93647847",
   "metadata": {},
   "outputs": [
    {
     "name": "stdout",
     "output_type": "stream",
     "text": [
      "{'banana', 'apple', 'cherry'}\n"
     ]
    }
   ],
   "source": [
    "## set construstor\n",
    "\n",
    "thisset = set((\"apple\", \"banana\", \"cherry\"))\n",
    "\n",
    "print(thisset)"
   ]
  },
  {
   "cell_type": "code",
   "execution_count": 63,
   "id": "e2d07f03",
   "metadata": {},
   "outputs": [
    {
     "name": "stdout",
     "output_type": "stream",
     "text": [
      "banana\n",
      "apple\n",
      "cherry\n"
     ]
    }
   ],
   "source": [
    "for x in thisset:\n",
    "    print(x)"
   ]
  },
  {
   "cell_type": "code",
   "execution_count": 64,
   "id": "6e537a1e",
   "metadata": {},
   "outputs": [
    {
     "name": "stdout",
     "output_type": "stream",
     "text": [
      "True\n"
     ]
    }
   ],
   "source": [
    "print(\"banana\" in thisset)"
   ]
  },
  {
   "cell_type": "code",
   "execution_count": 65,
   "id": "8f7c3748",
   "metadata": {},
   "outputs": [
    {
     "data": {
      "text/plain": [
       "{'apple', 'banana', 'cherry'}"
      ]
     },
     "execution_count": 65,
     "metadata": {},
     "output_type": "execute_result"
    }
   ],
   "source": [
    "thisset"
   ]
  },
  {
   "cell_type": "code",
   "execution_count": 35,
   "id": "33b0db09",
   "metadata": {},
   "outputs": [],
   "source": [
    "thisset.add(\"orange\")"
   ]
  },
  {
   "cell_type": "code",
   "execution_count": 36,
   "id": "425a3243",
   "metadata": {},
   "outputs": [
    {
     "name": "stdout",
     "output_type": "stream",
     "text": [
      "{'banana', 'apple', 'cherry', 'orange'}\n"
     ]
    }
   ],
   "source": [
    "print(thisset)"
   ]
  },
  {
   "cell_type": "code",
   "execution_count": 70,
   "id": "44388f58",
   "metadata": {},
   "outputs": [],
   "source": [
    "tropicalSet={\"pineapple\", \"mango\", \"papaya\", \"orange\"}"
   ]
  },
  {
   "cell_type": "code",
   "execution_count": 71,
   "id": "c2578be2",
   "metadata": {},
   "outputs": [
    {
     "name": "stdout",
     "output_type": "stream",
     "text": [
      "{'cherry', 'mango', 'pineapple', 'banana', 'apple', 'papaya', 'orange'}\n"
     ]
    }
   ],
   "source": [
    "thisset.update(tropicalSet)\n",
    "print(thisset)"
   ]
  },
  {
   "cell_type": "code",
   "execution_count": 53,
   "id": "095ec340",
   "metadata": {},
   "outputs": [
    {
     "name": "stdout",
     "output_type": "stream",
     "text": [
      "{'bike', 'pineapple', 'car', 'papaya', 'truck', 'mango', 'orange'}\n"
     ]
    }
   ],
   "source": [
    "mySet=[\"car\",\"bike\",\"truck\"]\n",
    "\n",
    "thisset.update(mySet)\n",
    "print(thisset)"
   ]
  },
  {
   "cell_type": "code",
   "execution_count": 54,
   "id": "63c63908",
   "metadata": {},
   "outputs": [
    {
     "name": "stdout",
     "output_type": "stream",
     "text": [
      "{'bike', 'pineapple', 'car', 'papaya', 'truck', 'mango'}\n"
     ]
    }
   ],
   "source": [
    "##remove\n",
    "\n",
    "thisset.remove(\"orange\")\n",
    "print(thisset)"
   ]
  },
  {
   "cell_type": "code",
   "execution_count": 55,
   "id": "f6834b12",
   "metadata": {},
   "outputs": [
    {
     "name": "stdout",
     "output_type": "stream",
     "text": [
      "{'bike', 'pineapple', 'car', 'papaya', 'truck'}\n"
     ]
    }
   ],
   "source": [
    "thisset.discard(\"mango\")\n",
    "print(thisset)"
   ]
  },
  {
   "cell_type": "code",
   "execution_count": 56,
   "id": "9a102bb2",
   "metadata": {},
   "outputs": [
    {
     "name": "stdout",
     "output_type": "stream",
     "text": [
      "{'bike', 'pineapple', 'papaya', 'truck'}\n"
     ]
    }
   ],
   "source": [
    "thisset.pop()\n",
    "print(thisset)"
   ]
  },
  {
   "cell_type": "code",
   "execution_count": 57,
   "id": "90520c87",
   "metadata": {},
   "outputs": [
    {
     "name": "stdout",
     "output_type": "stream",
     "text": [
      "{'bike', 'pineapple', 'truck'}\n"
     ]
    }
   ],
   "source": [
    "thisset.pop()\n",
    "print(thisset)"
   ]
  },
  {
   "cell_type": "code",
   "execution_count": 50,
   "id": "9acdf03f",
   "metadata": {},
   "outputs": [
    {
     "name": "stdout",
     "output_type": "stream",
     "text": [
      "set()\n"
     ]
    }
   ],
   "source": [
    "thisset.clear()\n",
    "print(thisset)"
   ]
  },
  {
   "cell_type": "code",
   "execution_count": 68,
   "id": "092619a9",
   "metadata": {},
   "outputs": [
    {
     "ename": "NameError",
     "evalue": "name 'thisset' is not defined",
     "output_type": "error",
     "traceback": [
      "\u001b[0;31m---------------------------------------------------------------------------\u001b[0m",
      "\u001b[0;31mNameError\u001b[0m                                 Traceback (most recent call last)",
      "\u001b[0;32m/tmp/ipykernel_4615/3720978059.py\u001b[0m in \u001b[0;36m<module>\u001b[0;34m\u001b[0m\n\u001b[1;32m      1\u001b[0m \u001b[0;32mdel\u001b[0m \u001b[0mthisset\u001b[0m\u001b[0;34m\u001b[0m\u001b[0;34m\u001b[0m\u001b[0m\n\u001b[0;32m----> 2\u001b[0;31m \u001b[0mprint\u001b[0m\u001b[0;34m(\u001b[0m\u001b[0mthisset\u001b[0m\u001b[0;34m)\u001b[0m\u001b[0;34m\u001b[0m\u001b[0;34m\u001b[0m\u001b[0m\n\u001b[0m",
      "\u001b[0;31mNameError\u001b[0m: name 'thisset' is not defined"
     ]
    }
   ],
   "source": [
    "del thisset\n",
    "print(thisset)"
   ]
  },
  {
   "cell_type": "code",
   "execution_count": 72,
   "id": "ecb1504c",
   "metadata": {},
   "outputs": [
    {
     "data": {
      "text/plain": [
       "{'apple', 'banana', 'cherry', 'mango', 'orange', 'papaya', 'pineapple'}"
      ]
     },
     "execution_count": 72,
     "metadata": {},
     "output_type": "execute_result"
    }
   ],
   "source": [
    "thisset"
   ]
  },
  {
   "cell_type": "code",
   "execution_count": 73,
   "id": "105c143d",
   "metadata": {},
   "outputs": [
    {
     "name": "stdout",
     "output_type": "stream",
     "text": [
      "cherry\n",
      "mango\n",
      "pineapple\n",
      "banana\n",
      "apple\n",
      "papaya\n",
      "orange\n"
     ]
    }
   ],
   "source": [
    "for x in thisset:\n",
    "    print(x)"
   ]
  },
  {
   "cell_type": "code",
   "execution_count": 74,
   "id": "ef6d4077",
   "metadata": {
    "scrolled": true
   },
   "outputs": [
    {
     "name": "stdout",
     "output_type": "stream",
     "text": [
      "{'pineapple', 'apple', 'papaya', 'cherry', 'banana', 'mango', 'orange'}\n"
     ]
    }
   ],
   "source": [
    "newSet=thisset.union(tropicalSet)\n",
    "print(newSet)"
   ]
  },
  {
   "cell_type": "code",
   "execution_count": 75,
   "id": "76c4d6ff",
   "metadata": {},
   "outputs": [],
   "source": [
    "thisset.update(tropicalSet)"
   ]
  },
  {
   "cell_type": "code",
   "execution_count": 76,
   "id": "05176691",
   "metadata": {},
   "outputs": [
    {
     "name": "stdout",
     "output_type": "stream",
     "text": [
      "{'pineapple', 'apple', 'papaya', 'cherry', 'banana', 'mango', 'orange'}\n"
     ]
    }
   ],
   "source": [
    "print(thisset)"
   ]
  },
  {
   "cell_type": "code",
   "execution_count": 78,
   "id": "1875a89a",
   "metadata": {},
   "outputs": [
    {
     "name": "stdout",
     "output_type": "stream",
     "text": [
      "{'banana', 'apple'}\n"
     ]
    }
   ],
   "source": [
    "##keeping only the duplicates\n",
    "\n",
    "x={\"apple\", \"banana\", \"cherry\"}\n",
    "y={\"google\", \"microsoft\", \"apple\", \"banana\"}\n",
    "\n",
    "x.intersection_update(y)\n",
    "\n",
    "print(x)"
   ]
  },
  {
   "cell_type": "code",
   "execution_count": 80,
   "id": "dbcd6bd6",
   "metadata": {},
   "outputs": [
    {
     "name": "stdout",
     "output_type": "stream",
     "text": [
      "{'banana', 'apple'}\n"
     ]
    }
   ],
   "source": [
    "\n",
    "x={\"apple\", \"banana\", \"cherry\"}\n",
    "y={\"google\", \"microsoft\", \"apple\", \"banana\"}\n",
    "\n",
    "z=x.intersection(y)\n",
    "\n",
    "print(z)"
   ]
  },
  {
   "cell_type": "code",
   "execution_count": 81,
   "id": "427618d7",
   "metadata": {},
   "outputs": [
    {
     "name": "stdout",
     "output_type": "stream",
     "text": [
      "{'cherry', 'goole', 'microsoft'}\n"
     ]
    }
   ],
   "source": [
    "\n",
    "x={\"apple\", \"banana\", \"cherry\"}\n",
    "y={\"goole\", \"microsoft\", \"apple\", \"banana\"}\n",
    "\n",
    "x.symmetric_difference_update(y)\n",
    "\n",
    "print(x)"
   ]
  },
  {
   "cell_type": "code",
   "execution_count": 83,
   "id": "8499debd",
   "metadata": {},
   "outputs": [
    {
     "name": "stdout",
     "output_type": "stream",
     "text": [
      "{'cherry', 'goole', 'microsoft'}\n"
     ]
    }
   ],
   "source": [
    "x={\"apple\", \"banana\", \"cherry\"}\n",
    "y={\"goole\", \"microsoft\", \"apple\", \"banana\"}\n",
    "\n",
    "z=x.symmetric_difference(y)\n",
    "\n",
    "print(z)"
   ]
  },
  {
   "cell_type": "code",
   "execution_count": 85,
   "id": "ad78a713",
   "metadata": {},
   "outputs": [
    {
     "name": "stdout",
     "output_type": "stream",
     "text": [
      "{True, 232323, 'cherry', 'goole', 'microsoft'}\n"
     ]
    }
   ],
   "source": [
    "x={\"apple\", \"banana\", \"cherry\", True}\n",
    "y={\"goole\", \"microsoft\", \"apple\", \"banana\", 232323}\n",
    "\n",
    "z=x.symmetric_difference(y)\n",
    "\n",
    "print(z)"
   ]
  },
  {
   "cell_type": "code",
   "execution_count": 87,
   "id": "d84d93e3",
   "metadata": {},
   "outputs": [
    {
     "name": "stdout",
     "output_type": "stream",
     "text": [
      "{'brand': 'TATA', 'model': 'Nexon', 'year': '2018'}\n"
     ]
    }
   ],
   "source": [
    "## dictionary\n",
    "\n",
    "thisDict={\n",
    "    \"brand\":\"TATA\",\n",
    "    \"model\":\"Nexon\",\n",
    "    \"year\":\"2018\"\n",
    "}\n",
    "\n",
    "print(thisDict)"
   ]
  },
  {
   "cell_type": "code",
   "execution_count": 88,
   "id": "f5938f80",
   "metadata": {},
   "outputs": [
    {
     "name": "stdout",
     "output_type": "stream",
     "text": [
      "TATA\n"
     ]
    }
   ],
   "source": [
    "print(thisDict[\"brand\"])"
   ]
  },
  {
   "cell_type": "code",
   "execution_count": 90,
   "id": "45393222",
   "metadata": {},
   "outputs": [
    {
     "name": "stdout",
     "output_type": "stream",
     "text": [
      "Nexon\n"
     ]
    }
   ],
   "source": [
    "print(thisDict[\"model\"])"
   ]
  },
  {
   "cell_type": "code",
   "execution_count": 91,
   "id": "187b9d7c",
   "metadata": {},
   "outputs": [
    {
     "name": "stdout",
     "output_type": "stream",
     "text": [
      "{'brand': 'TATA', 'model': 'Nexon', 'year': 2024}\n"
     ]
    }
   ],
   "source": [
    "# duplicates not allowed\n",
    "\n",
    "thisDict={\n",
    "    \"brand\":\"TATA\",\n",
    "    \"model\":\"Nexon\",\n",
    "    \"year\":\"2018\",\n",
    "    \"year\":2024\n",
    "}\n",
    "\n",
    "print(thisDict)"
   ]
  },
  {
   "cell_type": "code",
   "execution_count": 92,
   "id": "b40304ff",
   "metadata": {},
   "outputs": [
    {
     "name": "stdout",
     "output_type": "stream",
     "text": [
      "3\n"
     ]
    }
   ],
   "source": [
    "print(len(thisDict))"
   ]
  },
  {
   "cell_type": "code",
   "execution_count": 99,
   "id": "1adba4f8",
   "metadata": {},
   "outputs": [
    {
     "name": "stdout",
     "output_type": "stream",
     "text": [
      "{'brand': 'TATA', 'model': 'Nexon', 'year': 2024, 'colours': ['red', 'white']}\n"
     ]
    }
   ],
   "source": [
    "thisDict={\n",
    "    \"brand\":\"TATA\",\n",
    "    \"model\":\"Nexon\",\n",
    "    \"year\":\"2018\",\n",
    "    \"year\":2024,\n",
    "    \"colours\":[\"red\",\"white\"]\n",
    "}\n",
    "\n",
    "\n",
    "print(thisDict)"
   ]
  },
  {
   "cell_type": "code",
   "execution_count": 96,
   "id": "c5b565ec",
   "metadata": {},
   "outputs": [
    {
     "name": "stdout",
     "output_type": "stream",
     "text": [
      "<class 'dict'>\n"
     ]
    }
   ],
   "source": [
    "print(type(thisDict))"
   ]
  },
  {
   "cell_type": "code",
   "execution_count": 97,
   "id": "a8904ccd",
   "metadata": {},
   "outputs": [
    {
     "data": {
      "text/plain": [
       "dict"
      ]
     },
     "execution_count": 97,
     "metadata": {},
     "output_type": "execute_result"
    }
   ],
   "source": [
    "type(thisDict)"
   ]
  },
  {
   "cell_type": "code",
   "execution_count": 98,
   "id": "490f8977",
   "metadata": {},
   "outputs": [
    {
     "name": "stdout",
     "output_type": "stream",
     "text": [
      "{'firstnamae': 'Amey', 'lastname': 'Didolkar', 'country': 'India'}\n"
     ]
    }
   ],
   "source": [
    "thisDict=dict(firstnamae=\"Amey\", lastname=\"Didolkar\", country=\"India\")\n",
    "print(thisDict)"
   ]
  },
  {
   "cell_type": "code",
   "execution_count": 101,
   "id": "c0aafd81",
   "metadata": {},
   "outputs": [
    {
     "data": {
      "text/plain": [
       "dict_keys(['brand', 'model', 'year', 'colours'])"
      ]
     },
     "execution_count": 101,
     "metadata": {},
     "output_type": "execute_result"
    }
   ],
   "source": [
    "thisDict.keys()"
   ]
  },
  {
   "cell_type": "code",
   "execution_count": 104,
   "id": "3c80439d",
   "metadata": {},
   "outputs": [
    {
     "name": "stdout",
     "output_type": "stream",
     "text": [
      "dict_keys(['brand', 'model', 'year', 'colours'])\n",
      "dict_keys(['brand', 'model', 'year', 'colours', 'Country'])\n"
     ]
    }
   ],
   "source": [
    "##added a new item in the DICT\n",
    "\n",
    "thisDict={\n",
    "    \"brand\":\"TATA\",\n",
    "    \"model\":\"Nexon\",\n",
    "    \"year\":\"2018\",\n",
    "    \"year\":2024,\n",
    "    \"colours\":[\"red\",\"white\"]\n",
    "}\n",
    "\n",
    "x = thisDict.keys()\n",
    "\n",
    "print(x)\n",
    "\n",
    "thisDict[\"Country\"]=\"India\"\n",
    "\n",
    "print(x)"
   ]
  },
  {
   "cell_type": "code",
   "execution_count": 107,
   "id": "089c723d",
   "metadata": {},
   "outputs": [
    {
     "name": "stdout",
     "output_type": "stream",
     "text": [
      "dict_values(['TATA', 'Nexon', 2024, ['red', 'white'], 'India'])\n"
     ]
    }
   ],
   "source": [
    "x = thisDict.values()\n",
    "print(x)"
   ]
  },
  {
   "cell_type": "code",
   "execution_count": 109,
   "id": "7fd8bdce",
   "metadata": {},
   "outputs": [
    {
     "name": "stdout",
     "output_type": "stream",
     "text": [
      "dict_values(['TATA', 'Nexon', 2024, ['red', 'white']])\n",
      "{'brand': 'TATA', 'model': 'Nexon', 'year': 2024, 'colours': 'black'}\n"
     ]
    }
   ],
   "source": [
    "## cahnge the value \n",
    "thisDict={\n",
    "    \"brand\":\"TATA\",\n",
    "    \"model\":\"Nexon\",\n",
    "    \"year\":\"2018\",\n",
    "    \"year\":2024,\n",
    "    \"colours\":[\"red\",\"white\"]\n",
    "}\n",
    "\n",
    "x = thisDict.values()\n",
    "print(x)\n",
    "\n",
    "thisDict[\"colours\"]=\"black\"\n",
    "\n",
    "print(thisDict)"
   ]
  },
  {
   "cell_type": "code",
   "execution_count": 110,
   "id": "1030125c",
   "metadata": {},
   "outputs": [
    {
     "name": "stdout",
     "output_type": "stream",
     "text": [
      "dict_values(['TATA', 'Nexon', 2024, 'black'])\n",
      "{'brand': 'TATA', 'model': 'altroz', 'year': 2024, 'colours': ['red', 'white']}\n"
     ]
    }
   ],
   "source": [
    "thisDict={\n",
    "    \"brand\":\"TATA\",\n",
    "    \"model\":\"Nexon\",\n",
    "    \"year\":\"2018\",\n",
    "    \"year\":2024,\n",
    "    \"colours\":[\"red\",\"white\"]\n",
    "}\n",
    "\n",
    "X = thisDict.items()\n",
    "print(x)\n",
    "\n",
    "thisDict[\"model\"]=\"altroz\"\n",
    "\n",
    "print(thisDict)"
   ]
  },
  {
   "cell_type": "code",
   "execution_count": 112,
   "id": "1fac1869",
   "metadata": {},
   "outputs": [
    {
     "name": "stdout",
     "output_type": "stream",
     "text": [
      "no\n"
     ]
    }
   ],
   "source": [
    "thisDict={\n",
    "    \"brand\":\"TATA\",\n",
    "    \"model\":\"Nexon\",\n",
    "    \"year\":\"2018\",\n",
    "    \"year\":2024,\n",
    "    \"colours\":[\"red\",\"white\"]\n",
    "}\n",
    "\n",
    "if \"models\" in thisDict:\n",
    "    print(\"yes\")\n",
    "else:\n",
    "    print(\"no\")"
   ]
  },
  {
   "cell_type": "code",
   "execution_count": 123,
   "id": "0d2e54d5",
   "metadata": {},
   "outputs": [],
   "source": [
    "thisDict = {\n",
    "    \"brand\":\"TATA\",\n",
    "    \"model\":\"Nexon\",\n",
    "    \"year\":\"2018\",\n",
    "    \"year\":2024,\n",
    "    \"colours\":[\"red\",\"white\"]\n",
    "}"
   ]
  },
  {
   "cell_type": "code",
   "execution_count": 115,
   "id": "677312bb",
   "metadata": {},
   "outputs": [
    {
     "name": "stdout",
     "output_type": "stream",
     "text": [
      "{'brand': 'TATA', 'model': 'Nexon', 'year': 2023, 'colours': ['red', 'white']}\n"
     ]
    }
   ],
   "source": [
    "thisDict[\"year\"]=2023\n",
    "\n",
    "print(thisDict)"
   ]
  },
  {
   "cell_type": "code",
   "execution_count": 116,
   "id": "d23ae92c",
   "metadata": {},
   "outputs": [],
   "source": [
    "thisDict.update({\"year\":2022})"
   ]
  },
  {
   "cell_type": "code",
   "execution_count": 117,
   "id": "a99b846d",
   "metadata": {},
   "outputs": [
    {
     "name": "stdout",
     "output_type": "stream",
     "text": [
      "{'brand': 'TATA', 'model': 'Nexon', 'year': 2022, 'colours': ['red', 'white']}\n"
     ]
    }
   ],
   "source": [
    "print(thisDict)"
   ]
  },
  {
   "cell_type": "code",
   "execution_count": 120,
   "id": "a228bc3a",
   "metadata": {},
   "outputs": [
    {
     "name": "stdout",
     "output_type": "stream",
     "text": [
      "{'brand': 'TATA', 'model': 'Nexon', 'year': 2022}\n"
     ]
    }
   ],
   "source": [
    "thisDict.pop(\"colours\")\n",
    "\n",
    "print(thisDict)"
   ]
  },
  {
   "cell_type": "code",
   "execution_count": 133,
   "id": "c5e33f6b",
   "metadata": {},
   "outputs": [
    {
     "name": "stdout",
     "output_type": "stream",
     "text": [
      "{'brand': 'TATA', 'model': 'Nexon', 'year': 2024, 'colours': ['red', 'white']}\n"
     ]
    }
   ],
   "source": [
    "thisDict = {\n",
    "    \"brand\":\"TATA\",\n",
    "    \"model\":\"Nexon\",\n",
    "    \"year\":\"2018\",\n",
    "    \"year\":2024,\n",
    "    \"colours\":[\"red\",\"white\"]\n",
    "}\n",
    "\n",
    "print(thisDict)"
   ]
  },
  {
   "cell_type": "code",
   "execution_count": 122,
   "id": "0f7d57c4",
   "metadata": {},
   "outputs": [
    {
     "name": "stdout",
     "output_type": "stream",
     "text": [
      "{'brand': 'TATA', 'model': 'Nexon', 'year': 2024}\n"
     ]
    }
   ],
   "source": [
    "thisDict.popitem()\n",
    "\n",
    "print(thisDict)"
   ]
  },
  {
   "cell_type": "code",
   "execution_count": 126,
   "id": "a3686a5e",
   "metadata": {},
   "outputs": [
    {
     "name": "stdout",
     "output_type": "stream",
     "text": [
      "{'brand': 'TATA', 'year': 2024}\n"
     ]
    }
   ],
   "source": [
    "del thisDict[\"model\"]\n",
    "\n",
    "print(thisDict)"
   ]
  },
  {
   "cell_type": "code",
   "execution_count": 132,
   "id": "537d9068",
   "metadata": {},
   "outputs": [
    {
     "ename": "NameError",
     "evalue": "name 'thisDict' is not defined",
     "output_type": "error",
     "traceback": [
      "\u001b[0;31m---------------------------------------------------------------------------\u001b[0m",
      "\u001b[0;31mNameError\u001b[0m                                 Traceback (most recent call last)",
      "\u001b[0;32m/tmp/ipykernel_4615/1575532555.py\u001b[0m in \u001b[0;36m<module>\u001b[0;34m\u001b[0m\n\u001b[1;32m      1\u001b[0m \u001b[0;32mdel\u001b[0m \u001b[0mthisDict\u001b[0m\u001b[0;34m\u001b[0m\u001b[0;34m\u001b[0m\u001b[0m\n\u001b[1;32m      2\u001b[0m \u001b[0;34m\u001b[0m\u001b[0m\n\u001b[0;32m----> 3\u001b[0;31m \u001b[0mprint\u001b[0m\u001b[0;34m(\u001b[0m\u001b[0mthisDict\u001b[0m\u001b[0;34m)\u001b[0m\u001b[0;34m\u001b[0m\u001b[0;34m\u001b[0m\u001b[0m\n\u001b[0m",
      "\u001b[0;31mNameError\u001b[0m: name 'thisDict' is not defined"
     ]
    }
   ],
   "source": [
    "del thisDict\n",
    "\n",
    "print(thisDict)"
   ]
  },
  {
   "cell_type": "code",
   "execution_count": 134,
   "id": "2214701a",
   "metadata": {},
   "outputs": [
    {
     "name": "stdout",
     "output_type": "stream",
     "text": [
      "{}\n"
     ]
    }
   ],
   "source": [
    "thisDict.clear()\n",
    "\n",
    "print(thisDict)"
   ]
  },
  {
   "cell_type": "code",
   "execution_count": 158,
   "id": "48a27b8a",
   "metadata": {},
   "outputs": [
    {
     "name": "stdout",
     "output_type": "stream",
     "text": [
      "{'brand': 'TATA', 'model': 'Nexon', 'year': 2024, 'colours': ['red', 'white']}\n"
     ]
    }
   ],
   "source": [
    "# loop through a dictinory\n",
    "\n",
    "thisDict = {\n",
    "    \"brand\":\"TATA\",\n",
    "    \"model\":\"Nexon\",\n",
    "    \"year\":\"2018\",\n",
    "    \"year\":2024,\n",
    "    \"colours\":[\"red\",\"white\"]\n",
    "}\n",
    "\n",
    "print(thisDict)"
   ]
  },
  {
   "cell_type": "code",
   "execution_count": 136,
   "id": "08359f8a",
   "metadata": {},
   "outputs": [
    {
     "name": "stdout",
     "output_type": "stream",
     "text": [
      "brand\n",
      "model\n",
      "year\n",
      "colours\n"
     ]
    }
   ],
   "source": [
    "for x in thisDict:\n",
    "    print(x)"
   ]
  },
  {
   "cell_type": "code",
   "execution_count": 137,
   "id": "885f4174",
   "metadata": {},
   "outputs": [
    {
     "name": "stdout",
     "output_type": "stream",
     "text": [
      "TATA\n",
      "Nexon\n",
      "2024\n",
      "['red', 'white']\n"
     ]
    }
   ],
   "source": [
    "for x in thisDict:\n",
    "    print(thisDict[x])"
   ]
  },
  {
   "cell_type": "code",
   "execution_count": 138,
   "id": "dda661bf",
   "metadata": {},
   "outputs": [
    {
     "name": "stdout",
     "output_type": "stream",
     "text": [
      "TATA\n",
      "Nexon\n",
      "2024\n",
      "['red', 'white']\n"
     ]
    }
   ],
   "source": [
    "for x in thisDict.values():\n",
    "    print(x)"
   ]
  },
  {
   "cell_type": "code",
   "execution_count": 140,
   "id": "2106cb9b",
   "metadata": {},
   "outputs": [
    {
     "name": "stdout",
     "output_type": "stream",
     "text": [
      "brand\n",
      "model\n",
      "year\n",
      "colours\n"
     ]
    }
   ],
   "source": [
    "for x in thisDict.keys():\n",
    "    print(x)"
   ]
  },
  {
   "cell_type": "code",
   "execution_count": 141,
   "id": "a310037e",
   "metadata": {},
   "outputs": [
    {
     "name": "stdout",
     "output_type": "stream",
     "text": [
      "brand TATA\n",
      "model Nexon\n",
      "year 2024\n",
      "colours ['red', 'white']\n"
     ]
    }
   ],
   "source": [
    "for x, y in thisDict.items():\n",
    "    print(x,y)"
   ]
  },
  {
   "cell_type": "code",
   "execution_count": 142,
   "id": "ceaaff4b",
   "metadata": {},
   "outputs": [
    {
     "name": "stdout",
     "output_type": "stream",
     "text": [
      "{'brand': 'TATA', 'model': 'Nexon', 'year': 2024, 'colours': ['red', 'white']}\n"
     ]
    }
   ],
   "source": [
    "newDict = thisDict\n",
    "\n",
    "print(newDict)"
   ]
  },
  {
   "cell_type": "code",
   "execution_count": 145,
   "id": "501c8912",
   "metadata": {},
   "outputs": [
    {
     "name": "stdout",
     "output_type": "stream",
     "text": [
      "0\n"
     ]
    }
   ],
   "source": [
    "newDict = 0\n",
    "\n",
    "print(newDict)"
   ]
  },
  {
   "cell_type": "code",
   "execution_count": 146,
   "id": "d270dbc6",
   "metadata": {},
   "outputs": [],
   "source": [
    "newDict = dict(thisDict)"
   ]
  },
  {
   "cell_type": "code",
   "execution_count": 147,
   "id": "609dfa7a",
   "metadata": {},
   "outputs": [
    {
     "data": {
      "text/plain": [
       "{'brand': 'TATA', 'model': 'Nexon', 'year': 2024, 'colours': ['red', 'white']}"
      ]
     },
     "execution_count": 147,
     "metadata": {},
     "output_type": "execute_result"
    }
   ],
   "source": [
    "newDict"
   ]
  },
  {
   "cell_type": "code",
   "execution_count": 149,
   "id": "b4cdc003",
   "metadata": {},
   "outputs": [
    {
     "name": "stdout",
     "output_type": "stream",
     "text": [
      "{'car1': {'brand': 'TATA', 'model': 'Nexon', 'year': 2024, 'colours': ['red', 'white']}, 'car2': {'brand': 'TATA', 'model': 'Nexon', 'year': 2024, 'colours': ['red', 'white']}, 'car3': {'brand': 'TATA', 'model': 'Nexon', 'year': 2024, 'colours': ['red', 'white']}, 'car4': {'brand': 'TATA', 'model': 'Nexon', 'year': 2024, 'colours': ['red', 'white']}, 'car5': {'brand': 'TATA', 'model': 'Nexon', 'year': 2024, 'colours': ['red', 'white']}, 'car6': {'brand': 'TATA', 'model': 'Nexon', 'year': 2024, 'colours': ['red', 'white']}}\n"
     ]
    }
   ],
   "source": [
    "thisDict = {\n",
    "    \"car1\":{\n",
    "        \"brand\":\"TATA\",\n",
    "        \"model\":\"Nexon\",\n",
    "        \"year\":2024,\n",
    "        \"colours\":[\"red\",\"white\"]\n",
    "    },\n",
    "    \"car2\":{\n",
    "        \"brand\":\"TATA\",\n",
    "        \"model\":\"Nexon\",\n",
    "        \"year\":2024,\n",
    "        \"colours\":[\"red\",\"white\"]\n",
    "    },\n",
    "    \"car3\":{\n",
    "        \"brand\":\"TATA\",\n",
    "        \"model\":\"Nexon\",\n",
    "        \"year\":2024,\n",
    "        \"colours\":[\"red\",\"white\"]\n",
    "    },\n",
    "    \"car4\":{\n",
    "        \"brand\":\"TATA\",\n",
    "        \"model\":\"Nexon\",\n",
    "        \"year\":2024,\n",
    "        \"colours\":[\"red\",\"white\"]\n",
    "    },\n",
    "    \"car5\":{\n",
    "        \"brand\":\"TATA\",\n",
    "        \"model\":\"Nexon\",\n",
    "        \"year\":2024,\n",
    "        \"colours\":[\"red\",\"white\"]\n",
    "    },\n",
    "    \"car6\":{\n",
    "        \"brand\":\"TATA\",\n",
    "        \"model\":\"Nexon\",\n",
    "        \"year\":2024,\n",
    "        \"colours\":[\"red\",\"white\"]\n",
    "    }\n",
    "    \n",
    "    \n",
    "}\n",
    "\n",
    "print(thisDict)"
   ]
  },
  {
   "cell_type": "code",
   "execution_count": 157,
   "id": "b8c74ad2",
   "metadata": {},
   "outputs": [
    {
     "name": "stdout",
     "output_type": "stream",
     "text": [
      "{'car1': {'brand': 'TATA', 'model': 'Nexon', 'year': 2024, 'colours': ['red', 'white']}, 'car2': {'brand': 'TATA', 'model': 'Nexon', 'year': 2024, 'colours': ['red', 'white']}, 'car3': {'brand': 'TATA', 'model': 'Nexon', 'year': 2024, 'colours': ['red', 'white']}}\n"
     ]
    }
   ],
   "source": [
    "car1={\n",
    "        \"brand\":\"TATA\",\n",
    "        \"model\":\"Nexon\",\n",
    "        \"year\":2024,\n",
    "        \"colours\":[\"red\",\"white\"]\n",
    "}\n",
    "car2={\n",
    "        \"brand\":\"TATA\",\n",
    "        \"model\":\"Nexon\",\n",
    "        \"year\":2024,\n",
    "        \"colours\":[\"red\",\"white\"]\n",
    "}\n",
    "car3={\n",
    "        \"brand\":\"TATA\",\n",
    "        \"model\":\"Nexon\",\n",
    "        \"year\":2024,\n",
    "        \"colours\":[\"red\",\"white\"]\n",
    "}\n",
    "\n",
    "Dfile={\n",
    "    \"car1\":car1,\n",
    "    \"car2\":car2,\n",
    "    \"car3\":car3\n",
    "}\n",
    "\n",
    "print(Dfile)"
   ]
  },
  {
   "cell_type": "code",
   "execution_count": 154,
   "id": "71fac344",
   "metadata": {},
   "outputs": [
    {
     "name": "stdout",
     "output_type": "stream",
     "text": [
      "Nexon\n"
     ]
    }
   ],
   "source": [
    "print(Dfile[\"car3\"][\"model\"])"
   ]
  },
  {
   "cell_type": "code",
   "execution_count": 155,
   "id": "f4425445",
   "metadata": {},
   "outputs": [
    {
     "name": "stdout",
     "output_type": "stream",
     "text": [
      "{'key1': 0, 'key2': 0, 'key3': 0}\n"
     ]
    }
   ],
   "source": [
    "## fromkeys\n",
    "\n",
    "x = ('key1', 'key2', 'key3')\n",
    "y = 0\n",
    "\n",
    "thisDict = dict.fromkeys(x, y)\n",
    "\n",
    "print(thisDict)"
   ]
  },
  {
   "cell_type": "code",
   "execution_count": 156,
   "id": "acfe37be",
   "metadata": {},
   "outputs": [
    {
     "name": "stdout",
     "output_type": "stream",
     "text": [
      "{'key1': None, 'key2': None, 'key3': None}\n"
     ]
    }
   ],
   "source": [
    "## fromkeys\n",
    "\n",
    "x = ('key1', 'key2', 'key3')\n",
    "\n",
    "thisDict = dict.fromkeys(x)\n",
    "\n",
    "print(thisDict)"
   ]
  },
  {
   "cell_type": "code",
   "execution_count": 159,
   "id": "f7b93ac7",
   "metadata": {},
   "outputs": [
    {
     "name": "stdout",
     "output_type": "stream",
     "text": [
      "Nexon\n"
     ]
    }
   ],
   "source": [
    "print(thisDict[\"model\"])"
   ]
  },
  {
   "cell_type": "code",
   "execution_count": 160,
   "id": "8f6f0595",
   "metadata": {},
   "outputs": [
    {
     "name": "stdout",
     "output_type": "stream",
     "text": [
      "Nexon\n"
     ]
    }
   ],
   "source": [
    "print(thisDict.get(\"model\"))"
   ]
  },
  {
   "cell_type": "code",
   "execution_count": 161,
   "id": "da03de51",
   "metadata": {},
   "outputs": [
    {
     "data": {
      "text/plain": [
       "'\\n\\nequals: a == b\\nNot equals: a !=b\\nless than: a < b\\nless than or equal to: a <= b\\nGreater than: a > b\\nGreater than or equal to: a >= b\\n\\n'"
      ]
     },
     "execution_count": 161,
     "metadata": {},
     "output_type": "execute_result"
    }
   ],
   "source": [
    "## python if......Else\n",
    "\"\"\"\n",
    "\n",
    "equals: a == b\n",
    "Not equals: a !=b\n",
    "less than: a < b\n",
    "less than or equal to: a <= b\n",
    "Greater than: a > b\n",
    "Greater than or equal to: a >= b\n",
    "\n",
    "\"\"\"\n"
   ]
  },
  {
   "cell_type": "code",
   "execution_count": 165,
   "id": "ded044f0",
   "metadata": {},
   "outputs": [
    {
     "name": "stdout",
     "output_type": "stream",
     "text": [
      "yes\n"
     ]
    }
   ],
   "source": [
    "a = 449\n",
    "b = 47\n",
    "\n",
    "if a > b:\n",
    "    print(\"yes\")"
   ]
  },
  {
   "cell_type": "code",
   "execution_count": 168,
   "id": "7c3fa986",
   "metadata": {},
   "outputs": [
    {
     "name": "stdout",
     "output_type": "stream",
     "text": [
      "a and b are equal\n"
     ]
    }
   ],
   "source": [
    "## else if\n",
    "\n",
    "a = 449\n",
    "b = 449\n",
    "\n",
    "if a > b:\n",
    "    print(\"b is greater than a\")\n",
    "elif a == b:\n",
    "    print(\"a and b are equal\")"
   ]
  },
  {
   "cell_type": "code",
   "execution_count": 169,
   "id": "bb1e052c",
   "metadata": {},
   "outputs": [
    {
     "name": "stdout",
     "output_type": "stream",
     "text": [
      "a is greater than b\n"
     ]
    }
   ],
   "source": [
    "## else\n",
    "\n",
    "a = 200\n",
    "b = 33\n",
    "\n",
    "if b > a:\n",
    "    print(\"b is greater than a\")\n",
    "elif a == b:\n",
    "    print(\"a and b are equal\")\n",
    "else:\n",
    "    print(\"a is greater than b\")"
   ]
  },
  {
   "cell_type": "code",
   "execution_count": 170,
   "id": "02c8653f",
   "metadata": {},
   "outputs": [
    {
     "name": "stdout",
     "output_type": "stream",
     "text": [
      "a is greater than b\n"
     ]
    }
   ],
   "source": [
    "a=200\n",
    "b=33\n",
    "\n",
    "if a>b:\n",
    "    print(\"a is greater than b\")\n",
    "else:\n",
    "    print(\"b is greater than a\")"
   ]
  },
  {
   "cell_type": "code",
   "execution_count": 171,
   "id": "e05ae9c1",
   "metadata": {},
   "outputs": [
    {
     "name": "stdout",
     "output_type": "stream",
     "text": [
      " a is greater than b\n"
     ]
    }
   ],
   "source": [
    "## short hand if\n",
    "\n",
    "if a > b: print(\" a is greater than b\")"
   ]
  },
  {
   "cell_type": "code",
   "execution_count": 172,
   "id": "5bc5ceaf",
   "metadata": {},
   "outputs": [
    {
     "name": "stdout",
     "output_type": "stream",
     "text": [
      "a is greater than b\n"
     ]
    }
   ],
   "source": [
    "## short hand if else\n",
    "\n",
    "print(\"a is greater than b\") if a > b else print(\"b is greater than a\")"
   ]
  },
  {
   "cell_type": "code",
   "execution_count": 175,
   "id": "433785d2",
   "metadata": {},
   "outputs": [
    {
     "name": "stdout",
     "output_type": "stream",
     "text": [
      "a is equal to b\n"
     ]
    }
   ],
   "source": [
    "a = 3300\n",
    "b = 3300\n",
    "\n",
    "print(\"a is greater than b\") if a > b else print(\"a is equal to b\") if a == b else print(\"b is greater than a\")"
   ]
  },
  {
   "cell_type": "code",
   "execution_count": 176,
   "id": "980c25cf",
   "metadata": {},
   "outputs": [
    {
     "name": "stdout",
     "output_type": "stream",
     "text": [
      "Both conditions are True\n"
     ]
    }
   ],
   "source": [
    "## and\n",
    "\n",
    "a = 200\n",
    "b = 33\n",
    "c = 5656\n",
    "\n",
    "if a > b and c > a:\n",
    "    print(\"Both conditions are True\")"
   ]
  },
  {
   "cell_type": "code",
   "execution_count": 178,
   "id": "b9d37151",
   "metadata": {},
   "outputs": [
    {
     "name": "stdout",
     "output_type": "stream",
     "text": [
      "At least one of the conditions is true\n"
     ]
    }
   ],
   "source": [
    "## or\n",
    "\n",
    "a = 200\n",
    "b = 33\n",
    "c = 5656\n",
    "\n",
    "if a > b or a > c:\n",
    "    print(\"At least one of the conditions is true\")"
   ]
  },
  {
   "cell_type": "code",
   "execution_count": 179,
   "id": "15ad8700",
   "metadata": {},
   "outputs": [
    {
     "name": "stdout",
     "output_type": "stream",
     "text": [
      " a is not greater than b\n"
     ]
    }
   ],
   "source": [
    "## not\n",
    "\n",
    "a = 33\n",
    "b = 200\n",
    "\n",
    "if not a > b:\n",
    "    print(\" a is not greater than b\")"
   ]
  },
  {
   "cell_type": "code",
   "execution_count": 180,
   "id": "d230a2ad",
   "metadata": {},
   "outputs": [
    {
     "name": "stdout",
     "output_type": "stream",
     "text": [
      "above two,\n",
      "and also above 20!\n"
     ]
    }
   ],
   "source": [
    "## nester if \n",
    "\n",
    "q = 49\n",
    "\n",
    "if q > 2:\n",
    "    print(\"above two,\")\n",
    "    if q > 20:\n",
    "        print(\"and also above 20!\")\n",
    "    else:\n",
    "        print(\"but not above 20.\")"
   ]
  },
  {
   "cell_type": "code",
   "execution_count": 181,
   "id": "f61110f2",
   "metadata": {},
   "outputs": [],
   "source": [
    "a = 30\n",
    "b = 60\n",
    "\n",
    "if b > a:\n",
    "    pass"
   ]
  },
  {
   "cell_type": "code",
   "execution_count": 183,
   "id": "35d035d4",
   "metadata": {},
   "outputs": [
    {
     "name": "stdout",
     "output_type": "stream",
     "text": [
      "1\n",
      "2\n",
      "3\n",
      "4\n",
      "5\n",
      "6\n",
      "7\n",
      "8\n"
     ]
    }
   ],
   "source": [
    "## while loop\n",
    "\n",
    "i = 1\n",
    "\n",
    "while i <= 8:\n",
    "    print(i)\n",
    "    i+=1"
   ]
  },
  {
   "cell_type": "code",
   "execution_count": 185,
   "id": "dd7bd09d",
   "metadata": {},
   "outputs": [
    {
     "name": "stdout",
     "output_type": "stream",
     "text": [
      "1\n",
      "2\n",
      "3\n",
      "4\n",
      "5\n"
     ]
    }
   ],
   "source": [
    "## break\n",
    "\n",
    "\n",
    "i = 1\n",
    "\n",
    "while i < 9:\n",
    "    print(i)\n",
    "    if i == 5:\n",
    "        break\n",
    "    i += 1 ## i = i + 1"
   ]
  },
  {
   "cell_type": "code",
   "execution_count": 189,
   "id": "b7339989",
   "metadata": {},
   "outputs": [
    {
     "name": "stdout",
     "output_type": "stream",
     "text": [
      "1\n",
      "2\n",
      "3\n",
      "5\n",
      "6\n",
      "7\n",
      "8\n",
      "9\n"
     ]
    }
   ],
   "source": [
    "## continue\n",
    "\n",
    "i = 0\n",
    "\n",
    "while i < 9:\n",
    "    i = i + 1\n",
    "    if i == 4:\n",
    "        continue\n",
    "    print(i)"
   ]
  },
  {
   "cell_type": "code",
   "execution_count": 191,
   "id": "f23482d0",
   "metadata": {},
   "outputs": [
    {
     "name": "stdout",
     "output_type": "stream",
     "text": [
      "1\n",
      "2\n",
      "3\n",
      "4\n",
      "5\n",
      "\n",
      "i is no longer less than 6\n"
     ]
    }
   ],
   "source": [
    "## else\n",
    "\n",
    "i = 1 \n",
    "\n",
    "\n",
    "while i < 6:\n",
    "    print(i)\n",
    "    i += 1\n",
    "else:\n",
    "    print(\"\\ni is no longer less than 6\")"
   ]
  },
  {
   "cell_type": "code",
   "execution_count": null,
   "id": "0432b714",
   "metadata": {},
   "outputs": [],
   "source": [
    "## for loop"
   ]
  },
  {
   "cell_type": "code",
   "execution_count": 1,
   "id": "150f577e",
   "metadata": {},
   "outputs": [
    {
     "name": "stdout",
     "output_type": "stream",
     "text": [
      "apple\n",
      "banana\n",
      "cherry\n"
     ]
    }
   ],
   "source": [
    "fruits = [\"apple\", \"banana\", \"cherry\"]\n",
    "for x in fruits:\n",
    "    print(x)"
   ]
  },
  {
   "cell_type": "code",
   "execution_count": 2,
   "id": "ea174c1e",
   "metadata": {},
   "outputs": [
    {
     "name": "stdout",
     "output_type": "stream",
     "text": [
      "b\n",
      "a\n",
      "n\n",
      "a\n",
      "n\n",
      "a\n"
     ]
    }
   ],
   "source": [
    "for x in \"banana\":\n",
    "    print(x)"
   ]
  },
  {
   "cell_type": "code",
   "execution_count": 4,
   "id": "f351b466",
   "metadata": {},
   "outputs": [
    {
     "name": "stdout",
     "output_type": "stream",
     "text": [
      "apple\n",
      "banana\n"
     ]
    }
   ],
   "source": [
    "for x in fruits:\n",
    "    print(x)\n",
    "    if x == \"banana\":\n",
    "        break"
   ]
  },
  {
   "cell_type": "code",
   "execution_count": 6,
   "id": "d50512c7",
   "metadata": {},
   "outputs": [
    {
     "name": "stdout",
     "output_type": "stream",
     "text": [
      "apple\n"
     ]
    }
   ],
   "source": [
    "for x in fruits:\n",
    "    if x == \"banana\":\n",
    "        break\n",
    "    print(x)"
   ]
  },
  {
   "cell_type": "code",
   "execution_count": 7,
   "id": "3952bcc5",
   "metadata": {},
   "outputs": [
    {
     "name": "stdout",
     "output_type": "stream",
     "text": [
      "apple\n",
      "cherry\n"
     ]
    }
   ],
   "source": [
    "for x in fruits:\n",
    "    if x == \"banana\":\n",
    "        continue\n",
    "    print(x)"
   ]
  },
  {
   "cell_type": "code",
   "execution_count": 8,
   "id": "2a3abad8",
   "metadata": {},
   "outputs": [
    {
     "name": "stdout",
     "output_type": "stream",
     "text": [
      "0\n",
      "1\n",
      "2\n",
      "3\n",
      "4\n",
      "5\n"
     ]
    }
   ],
   "source": [
    "for i in range(6):\n",
    "    print(i)"
   ]
  },
  {
   "cell_type": "code",
   "execution_count": 9,
   "id": "a1861bb0",
   "metadata": {},
   "outputs": [
    {
     "name": "stdout",
     "output_type": "stream",
     "text": [
      "2\n",
      "3\n",
      "4\n",
      "5\n"
     ]
    }
   ],
   "source": [
    "for i in range(2, 6):\n",
    "    print(i)"
   ]
  },
  {
   "cell_type": "code",
   "execution_count": 11,
   "id": "de7519e9",
   "metadata": {},
   "outputs": [
    {
     "name": "stdout",
     "output_type": "stream",
     "text": [
      "2\n",
      "5\n",
      "8\n",
      "11\n",
      "14\n",
      "17\n",
      "20\n",
      "23\n",
      "26\n",
      "29\n"
     ]
    }
   ],
   "source": [
    "for i in range(2, 30, 3):\n",
    "    print(i)"
   ]
  },
  {
   "cell_type": "code",
   "execution_count": 12,
   "id": "fdbd4974",
   "metadata": {},
   "outputs": [
    {
     "name": "stdout",
     "output_type": "stream",
     "text": [
      "0\n",
      "1\n",
      "2\n",
      "3\n",
      "4\n",
      "5\n",
      "finally\n"
     ]
    }
   ],
   "source": [
    "for x in range(6):\n",
    "    print(x)\n",
    "else: \n",
    "    print(\"finally\")"
   ]
  },
  {
   "cell_type": "code",
   "execution_count": 13,
   "id": "832b145b",
   "metadata": {},
   "outputs": [
    {
     "name": "stdout",
     "output_type": "stream",
     "text": [
      "0\n",
      "1\n",
      "2\n",
      "3\n",
      "4\n",
      "5\n"
     ]
    }
   ],
   "source": [
    "for x in range(10):\n",
    "    if x == 6: break\n",
    "    print(x)\n",
    "else:\n",
    "    print(\"finally\")"
   ]
  },
  {
   "cell_type": "code",
   "execution_count": 16,
   "id": "b854cb96",
   "metadata": {},
   "outputs": [],
   "source": [
    "fruits = [\"apple\", \"banana\", \"cherry\"]\n",
    "tropical = [\"graph\", \"Kiwi\", \"blackcurrent\"]"
   ]
  },
  {
   "cell_type": "code",
   "execution_count": 17,
   "id": "de8a8d42",
   "metadata": {},
   "outputs": [
    {
     "name": "stdout",
     "output_type": "stream",
     "text": [
      "apple graph\n",
      "apple Kiwi\n",
      "apple blackcurrent\n",
      "banana graph\n",
      "banana Kiwi\n",
      "banana blackcurrent\n",
      "cherry graph\n",
      "cherry Kiwi\n",
      "cherry blackcurrent\n"
     ]
    }
   ],
   "source": [
    "for x in fruits:\n",
    "    for y in tropical:\n",
    "        print(x,y)"
   ]
  },
  {
   "cell_type": "code",
   "execution_count": 18,
   "id": "6026fe9e",
   "metadata": {},
   "outputs": [],
   "source": [
    "for i in range(3):\n",
    "    pass"
   ]
  },
  {
   "cell_type": "code",
   "execution_count": 19,
   "id": "e1bd4069",
   "metadata": {},
   "outputs": [],
   "source": [
    "## funcion\n",
    "\n",
    "#Creating function\n",
    "\n",
    "def myFunction():\n",
    "    print(\"Hello\")"
   ]
  },
  {
   "cell_type": "code",
   "execution_count": 20,
   "id": "3ac7ff75",
   "metadata": {},
   "outputs": [
    {
     "name": "stdout",
     "output_type": "stream",
     "text": [
      "Hello Amey\n"
     ]
    }
   ],
   "source": [
    "#calling function which we have created\n",
    "\n",
    "def myFunction():\n",
    "    print(\"Hello Amey\")\n",
    "\n",
    "myFunction()"
   ]
  },
  {
   "cell_type": "code",
   "execution_count": 26,
   "id": "7ab15ed3",
   "metadata": {},
   "outputs": [
    {
     "name": "stdout",
     "output_type": "stream",
     "text": [
      "Amey Didolkar\n",
      "Sayali Didolkar\n"
     ]
    }
   ],
   "source": [
    "## Arguments\n",
    "\n",
    "def myFunction(fName):\n",
    "    print(fName + \" Didolkar\")\n",
    "    \n",
    "myFunction(\"Amey\")\n",
    "myFunction(\"Sayali\")\n"
   ]
  },
  {
   "cell_type": "code",
   "execution_count": 31,
   "id": "0937c491",
   "metadata": {},
   "outputs": [
    {
     "name": "stdout",
     "output_type": "stream",
     "text": [
      "Amey Didolkar\n"
     ]
    }
   ],
   "source": [
    "## Number of Arguments\n",
    "\n",
    "def myFunction(fname, lname):\n",
    "    print(fname+ \" \" + lname)\n",
    "\n",
    "myFunction(\"Amey\",\"Didolkar\")"
   ]
  },
  {
   "cell_type": "code",
   "execution_count": 36,
   "id": "a73c8f21",
   "metadata": {},
   "outputs": [
    {
     "name": "stdout",
     "output_type": "stream",
     "text": [
      "My friends name are: Abhijeet\n"
     ]
    }
   ],
   "source": [
    "# Arbitrary Arguments, *args\n",
    "\n",
    "## If you do not know how many arguments that will be passed into your function, add a * before the parameter name in the function definition.\n",
    "\n",
    "\n",
    "def myFunction(*name):\n",
    "    print(\"My friends name are: \" +name[0])\n",
    "\n",
    "myFunction(\"Abhijeet\", \"Alvin\", \"Sarang\")"
   ]
  },
  {
   "cell_type": "code",
   "execution_count": 37,
   "id": "54e9d0a5",
   "metadata": {},
   "outputs": [
    {
     "name": "stdout",
     "output_type": "stream",
     "text": [
      "the youngest friend is Abhijeet\n"
     ]
    }
   ],
   "source": [
    "## keyword arguments\n",
    "\n",
    "def myFunction(friend3, friend2, friend1):\n",
    "    print(\"the youngest friend is \"+ friend3)\n",
    "\n",
    "myFunction(friend3 = \"Abhijeet\", friend2 = \"Sarang\", friend1 = \"Alvin\")"
   ]
  },
  {
   "cell_type": "code",
   "execution_count": 39,
   "id": "10bf92d7",
   "metadata": {},
   "outputs": [
    {
     "name": "stdout",
     "output_type": "stream",
     "text": [
      "His name is pratik\n"
     ]
    }
   ],
   "source": [
    "## Arbitrary Keyword Arguments, **kwargs\n",
    "\n",
    "\n",
    "def myfunction(**friends):\n",
    "    print(\"His name is \" +friends[\"name2\"])\n",
    "\n",
    "myfunction(name=\"abhijeet\", name2=\"pratik\")"
   ]
  },
  {
   "cell_type": "code",
   "execution_count": 42,
   "id": "97aee720",
   "metadata": {},
   "outputs": [
    {
     "name": "stdout",
     "output_type": "stream",
     "text": [
      "I live in India\n",
      "I live in UK\n",
      "I live in Germany\n"
     ]
    }
   ],
   "source": [
    "#Default parameter\n",
    "\n",
    "def myfunction(country=\"India\"):\n",
    "    print(\"I live in \" +country)\n",
    "\n",
    "myfunction()\n",
    "myfunction(\"UK\")\n",
    "myfunction(\"Germany\")"
   ]
  },
  {
   "cell_type": "code",
   "execution_count": 44,
   "id": "71b04321",
   "metadata": {},
   "outputs": [
    {
     "name": "stdout",
     "output_type": "stream",
     "text": [
      "apple\n",
      "banana\n",
      "cherry\n"
     ]
    }
   ],
   "source": [
    "## Passing a List as an Argument\n",
    "\n",
    "def myfunction(food):\n",
    "    for x in food:\n",
    "        print(x)\n",
    "\n",
    "fruits = [\"apple\", \"banana\", \"cherry\"]\n",
    "    \n",
    "myfunction(fruits)"
   ]
  },
  {
   "cell_type": "code",
   "execution_count": 46,
   "id": "222bd0bc",
   "metadata": {},
   "outputs": [
    {
     "name": "stdout",
     "output_type": "stream",
     "text": [
      "15\n",
      "40\n",
      "20\n",
      "55\n",
      "370\n",
      "277390\n",
      "100\n"
     ]
    }
   ],
   "source": [
    "## return value\n",
    "\n",
    "def myfunction(x):\n",
    "    return 5 * x\n",
    "\n",
    "print(myfunction(3))\n",
    "print(myfunction(8))\n",
    "print(myfunction(4))\n",
    "print(myfunction(11))\n",
    "print(myfunction(74))\n",
    "print(myfunction(55478))\n",
    "print(myfunction(20))"
   ]
  },
  {
   "cell_type": "code",
   "execution_count": 66,
   "id": "372e040d",
   "metadata": {},
   "outputs": [
    {
     "name": "stdout",
     "output_type": "stream",
     "text": [
      "\n",
      "\n",
      "Recursion Example Results\n",
      "1\n",
      "3\n",
      "6\n",
      "10\n",
      "15\n",
      "21\n",
      "28\n",
      "36\n"
     ]
    },
    {
     "data": {
      "text/plain": [
       "36"
      ]
     },
     "execution_count": 66,
     "metadata": {},
     "output_type": "execute_result"
    }
   ],
   "source": [
    "## Recursion\n",
    "\n",
    "def myfunction(k):\n",
    "    if(k>0):\n",
    "        result = k + myfunction(k-1)\n",
    "        print(result)\n",
    "    else:\n",
    "        result = 0\n",
    "    return result\n",
    "\n",
    "print(\"\\n\\nRecursion Example Results\")\n",
    "myfunction(8)"
   ]
  },
  {
   "cell_type": "code",
   "execution_count": null,
   "id": "0a1581e8",
   "metadata": {},
   "outputs": [],
   "source": []
  },
  {
   "cell_type": "code",
   "execution_count": null,
   "id": "09953d40",
   "metadata": {},
   "outputs": [],
   "source": []
  },
  {
   "cell_type": "code",
   "execution_count": null,
   "id": "a95b8848",
   "metadata": {},
   "outputs": [],
   "source": []
  },
  {
   "cell_type": "code",
   "execution_count": null,
   "id": "521e2338",
   "metadata": {},
   "outputs": [],
   "source": []
  },
  {
   "cell_type": "code",
   "execution_count": null,
   "id": "c6546d0e",
   "metadata": {},
   "outputs": [],
   "source": []
  },
  {
   "cell_type": "code",
   "execution_count": null,
   "id": "6e34cdf3",
   "metadata": {},
   "outputs": [],
   "source": []
  },
  {
   "cell_type": "code",
   "execution_count": null,
   "id": "8420fb0b",
   "metadata": {},
   "outputs": [],
   "source": []
  },
  {
   "cell_type": "code",
   "execution_count": null,
   "id": "74de0b58",
   "metadata": {},
   "outputs": [],
   "source": []
  }
 ],
 "metadata": {
  "kernelspec": {
   "display_name": "Python 3 (ipykernel)",
   "language": "python",
   "name": "python3"
  },
  "language_info": {
   "codemirror_mode": {
    "name": "ipython",
    "version": 3
   },
   "file_extension": ".py",
   "mimetype": "text/x-python",
   "name": "python",
   "nbconvert_exporter": "python",
   "pygments_lexer": "ipython3",
   "version": "3.9.13"
  }
 },
 "nbformat": 4,
 "nbformat_minor": 5
}
