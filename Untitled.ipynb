{
 "cells": [
  {
   "cell_type": "code",
   "execution_count": 1,
   "id": "75075b46",
   "metadata": {},
   "outputs": [
    {
     "name": "stdout",
     "output_type": "stream",
     "text": [
      "hello world!\n"
     ]
    }
   ],
   "source": [
    "print('hello world!')"
   ]
  },
  {
   "cell_type": "code",
   "execution_count": 2,
   "id": "69f621da",
   "metadata": {},
   "outputs": [
    {
     "name": "stdout",
     "output_type": "stream",
     "text": [
      "Hello world!\n"
     ]
    }
   ],
   "source": [
    "print(\"Hello world!\")"
   ]
  },
  {
   "cell_type": "code",
   "execution_count": 3,
   "id": "fe336955",
   "metadata": {},
   "outputs": [
    {
     "name": "stdout",
     "output_type": "stream",
     "text": [
      "<class 'int'>\n",
      "<class 'str'>\n"
     ]
    }
   ],
   "source": [
    "x = 5\n",
    "y = \"Amey\"\n",
    "\n",
    "print(type(x))\n",
    "print(type(y))"
   ]
  },
  {
   "cell_type": "code",
   "execution_count": 4,
   "id": "1229e383",
   "metadata": {},
   "outputs": [
    {
     "name": "stdout",
     "output_type": "stream",
     "text": [
      "amey\n"
     ]
    }
   ],
   "source": [
    "x = \"amey\"\n",
    "x = 'amey'\n",
    "print(x)"
   ]
  },
  {
   "cell_type": "code",
   "execution_count": 6,
   "id": "aed16865",
   "metadata": {},
   "outputs": [
    {
     "name": "stdout",
     "output_type": "stream",
     "text": [
      "Amey\n"
     ]
    }
   ],
   "source": [
    "a = 'amey'\n",
    "A = 'Amey'\n",
    "print(A)"
   ]
  },
  {
   "cell_type": "code",
   "execution_count": 7,
   "id": "9b74b1fc",
   "metadata": {},
   "outputs": [],
   "source": [
    "myvar='amey'\n",
    "\n",
    "my_var='amey'\n",
    "\n",
    "_my_var='amey'\n",
    "\n",
    "myVar='amey'\n",
    "\n",
    "MYVAR='amey'\n",
    "\n",
    "myvar2='amey'"
   ]
  },
  {
   "cell_type": "code",
   "execution_count": 8,
   "id": "da0a5ab4",
   "metadata": {},
   "outputs": [],
   "source": [
    "#camel Case\n",
    "\n",
    "myVariableName='john'\n",
    "\n",
    "#Pascal Case\n",
    "\n",
    "MyVariableName='john'\n",
    "\n",
    "#Snake Case\n",
    "\n",
    "my_variable_name='john'"
   ]
  },
  {
   "cell_type": "code",
   "execution_count": 10,
   "id": "fa5e3f38",
   "metadata": {},
   "outputs": [
    {
     "name": "stdout",
     "output_type": "stream",
     "text": [
      "orange\n",
      "pineapple\n",
      "apple\n"
     ]
    }
   ],
   "source": [
    "x,y,z = \"orange\", 'pineapple', \"apple\"\n",
    "\n",
    "print(x)\n",
    "print(y)\n",
    "print(z)"
   ]
  },
  {
   "cell_type": "code",
   "execution_count": 12,
   "id": "6eb90c82",
   "metadata": {},
   "outputs": [
    {
     "name": "stdout",
     "output_type": "stream",
     "text": [
      "banana\n",
      "banana\n",
      "banana\n"
     ]
    }
   ],
   "source": [
    "x=y=z=\"banana\"\n",
    "print(x)\n",
    "print(y)\n",
    "print(z)"
   ]
  },
  {
   "cell_type": "code",
   "execution_count": 13,
   "id": "6a888b80",
   "metadata": {},
   "outputs": [
    {
     "name": "stdout",
     "output_type": "stream",
     "text": [
      "apple\n",
      "banana\n",
      "cherry\n"
     ]
    }
   ],
   "source": [
    "fruits = ['apple','banana', 'cherry']\n",
    "x,y,z = fruits\n",
    "print(x)\n",
    "print(y)\n",
    "print(z)"
   ]
  },
  {
   "cell_type": "code",
   "execution_count": 15,
   "id": "f38b3af5",
   "metadata": {},
   "outputs": [
    {
     "name": "stdout",
     "output_type": "stream",
     "text": [
      "pythonjavaGo\n"
     ]
    }
   ],
   "source": [
    "x='python'\n",
    "y='java'\n",
    "z='Go'\n",
    "\n",
    "print(x+y+z)"
   ]
  },
  {
   "cell_type": "code",
   "execution_count": 16,
   "id": "d19d9405",
   "metadata": {},
   "outputs": [
    {
     "name": "stdout",
     "output_type": "stream",
     "text": [
      "python java Go\n"
     ]
    }
   ],
   "source": [
    "x='python'\n",
    "y='java'\n",
    "z='Go'\n",
    "\n",
    "print(x,y,z)"
   ]
  },
  {
   "cell_type": "code",
   "execution_count": 17,
   "id": "591f505a",
   "metadata": {},
   "outputs": [
    {
     "name": "stdout",
     "output_type": "stream",
     "text": [
      "15\n"
     ]
    }
   ],
   "source": [
    "x,y = 5,10\n",
    "print(x+y)"
   ]
  },
  {
   "cell_type": "code",
   "execution_count": 18,
   "id": "303d9e55",
   "metadata": {},
   "outputs": [
    {
     "ename": "TypeError",
     "evalue": "unsupported operand type(s) for +: 'int' and 'str'",
     "output_type": "error",
     "traceback": [
      "\u001b[0;31m---------------------------------------------------------------------------\u001b[0m",
      "\u001b[0;31mTypeError\u001b[0m                                 Traceback (most recent call last)",
      "\u001b[0;32m/tmp/ipykernel_9533/2523910954.py\u001b[0m in \u001b[0;36m<module>\u001b[0;34m\u001b[0m\n\u001b[1;32m      2\u001b[0m \u001b[0my\u001b[0m\u001b[0;34m=\u001b[0m\u001b[0;34m'steel'\u001b[0m\u001b[0;34m\u001b[0m\u001b[0;34m\u001b[0m\u001b[0m\n\u001b[1;32m      3\u001b[0m \u001b[0;34m\u001b[0m\u001b[0m\n\u001b[0;32m----> 4\u001b[0;31m \u001b[0mprint\u001b[0m\u001b[0;34m(\u001b[0m\u001b[0mx\u001b[0m\u001b[0;34m+\u001b[0m\u001b[0my\u001b[0m\u001b[0;34m)\u001b[0m\u001b[0;34m\u001b[0m\u001b[0;34m\u001b[0m\u001b[0m\n\u001b[0m",
      "\u001b[0;31mTypeError\u001b[0m: unsupported operand type(s) for +: 'int' and 'str'"
     ]
    }
   ],
   "source": [
    "x=5\n",
    "y='steel'\n",
    "\n",
    "print(x+y)"
   ]
  },
  {
   "cell_type": "code",
   "execution_count": 19,
   "id": "e64e864e",
   "metadata": {},
   "outputs": [
    {
     "name": "stdout",
     "output_type": "stream",
     "text": [
      "5 steel\n"
     ]
    }
   ],
   "source": [
    "x=5\n",
    "y='steel'\n",
    "\n",
    "print(x,y)"
   ]
  },
  {
   "cell_type": "code",
   "execution_count": 22,
   "id": "f0713b78",
   "metadata": {},
   "outputs": [
    {
     "name": "stdout",
     "output_type": "stream",
     "text": [
      "python and java\n"
     ]
    }
   ],
   "source": [
    "x=\"and java\"\n",
    "\n",
    "def timepass():\n",
    "    print(\"python \"+x)\n",
    "\n",
    "timepass()"
   ]
  },
  {
   "cell_type": "code",
   "execution_count": 2,
   "id": "6f0abb08",
   "metadata": {},
   "outputs": [
    {
     "name": "stdout",
     "output_type": "stream",
     "text": [
      "python is awesom\n",
      "python and java\n"
     ]
    }
   ],
   "source": [
    "x='and java'\n",
    "\n",
    "def newfunc1():\n",
    "    x=\"is awesom\"\n",
    "    print('python '+x)\n",
    "\n",
    "newfunc1()\n",
    "print('python ' +x)"
   ]
  },
  {
   "cell_type": "code",
   "execution_count": 4,
   "id": "498f62f0",
   "metadata": {},
   "outputs": [
    {
     "name": "stdout",
     "output_type": "stream",
     "text": [
      "python is fantastic\n"
     ]
    }
   ],
   "source": [
    "def newfunct2():\n",
    "    global q\n",
    "    q='fantastic'\n",
    "\n",
    "newfunct2()\n",
    "\n",
    "print('python is '+q)"
   ]
  },
  {
   "cell_type": "code",
   "execution_count": 5,
   "id": "4ebf0540",
   "metadata": {},
   "outputs": [
    {
     "name": "stdout",
     "output_type": "stream",
     "text": [
      "python is fantastic\n"
     ]
    }
   ],
   "source": [
    "w='awesome'\n",
    "def newfunc3():\n",
    "    global w\n",
    "    w='fantastic'\n",
    "\n",
    "newfunc3()\n",
    "\n",
    "print('python is '+w)"
   ]
  },
  {
   "cell_type": "code",
   "execution_count": 2,
   "id": "40757966",
   "metadata": {},
   "outputs": [
    {
     "name": "stdout",
     "output_type": "stream",
     "text": [
      "\n",
      "HI MY NAME IS AMEY\n",
      "\n"
     ]
    }
   ],
   "source": [
    "a = \"\"\"\n",
    "HI MY NAME IS AMEY\n",
    "\"\"\"\n",
    "print(a)"
   ]
  },
  {
   "cell_type": "code",
   "execution_count": 4,
   "id": "607d2276",
   "metadata": {},
   "outputs": [
    {
     "name": "stdout",
     "output_type": "stream",
     "text": [
      "\n",
      "Hi My Name is Amey\n",
      "\n"
     ]
    }
   ],
   "source": [
    "a = '''\n",
    "Hi My Name is Amey\n",
    "'''\n",
    "print(a)"
   ]
  },
  {
   "cell_type": "code",
   "execution_count": 5,
   "id": "dc3356ab",
   "metadata": {},
   "outputs": [
    {
     "name": "stdout",
     "output_type": "stream",
     "text": [
      "e\n"
     ]
    }
   ],
   "source": [
    "a = 'hello world!'\n",
    "print(a[1])"
   ]
  },
  {
   "cell_type": "code",
   "execution_count": 8,
   "id": "0046026f",
   "metadata": {},
   "outputs": [
    {
     "name": "stdout",
     "output_type": "stream",
     "text": [
      "h\n",
      "e\n",
      "l\n",
      "l\n",
      "o\n",
      " \n",
      "w\n",
      "o\n",
      "r\n",
      "l\n",
      "d\n",
      "!\n"
     ]
    }
   ],
   "source": [
    "for x in 'hello world!':\n",
    "    print(x)"
   ]
  },
  {
   "cell_type": "code",
   "execution_count": 10,
   "id": "93162ad3",
   "metadata": {},
   "outputs": [
    {
     "name": "stdout",
     "output_type": "stream",
     "text": [
      "False\n"
     ]
    }
   ],
   "source": [
    "txt = \"the best things in life are free!\"\n",
    "print(\"amey\" in txt)"
   ]
  },
  {
   "cell_type": "code",
   "execution_count": 14,
   "id": "c95d89b0",
   "metadata": {},
   "outputs": [
    {
     "name": "stdout",
     "output_type": "stream",
     "text": [
      "character or statment is exisit\n"
     ]
    }
   ],
   "source": [
    "if \"free\" in txt:\n",
    "    print(\"character or statment is exisit\")\n",
    "else:\n",
    "    print(\"character or statment is not exisit\")"
   ]
  },
  {
   "cell_type": "code",
   "execution_count": 2,
   "id": "ce17de30",
   "metadata": {},
   "outputs": [
    {
     "name": "stdout",
     "output_type": "stream",
     "text": [
      "['apple', 'banana', 'cherry']\n"
     ]
    }
   ],
   "source": [
    "thislist = ['apple', 'banana', 'cherry']\n",
    "print(thislist)"
   ]
  },
  {
   "cell_type": "code",
   "execution_count": 3,
   "id": "e40ad82b",
   "metadata": {},
   "outputs": [
    {
     "name": "stdout",
     "output_type": "stream",
     "text": [
      "yes\n",
      "0\n"
     ]
    }
   ],
   "source": [
    "if 'apple' in thislist:\n",
    "    print('yes')\n",
    "    print(thislist.index('apple'))\n",
    "else:\n",
    "    print('No')"
   ]
  },
  {
   "cell_type": "code",
   "execution_count": 4,
   "id": "36bc7145",
   "metadata": {},
   "outputs": [
    {
     "name": "stdout",
     "output_type": "stream",
     "text": [
      "['apple', 'blackcurrent', 'cherry']\n"
     ]
    }
   ],
   "source": [
    "thislist[1] = 'blackcurrent'\n",
    "print(thislist)"
   ]
  },
  {
   "cell_type": "code",
   "execution_count": 5,
   "id": "0e7454fc",
   "metadata": {},
   "outputs": [
    {
     "name": "stdout",
     "output_type": "stream",
     "text": [
      "['apple', 'banana', 'watermelon']\n"
     ]
    }
   ],
   "source": [
    "thislist[1:3] = ['banana', 'watermelon']\n",
    "print(thislist)"
   ]
  },
  {
   "cell_type": "code",
   "execution_count": 6,
   "id": "80ee0c0f",
   "metadata": {},
   "outputs": [
    {
     "name": "stdout",
     "output_type": "stream",
     "text": [
      "['orange', 'cheery', 'kiwi']\n"
     ]
    }
   ],
   "source": [
    "thislist=['orange','cheery', 'kiwi']\n",
    "print(thislist)"
   ]
  },
  {
   "cell_type": "code",
   "execution_count": 7,
   "id": "9bfbbffa",
   "metadata": {},
   "outputs": [
    {
     "name": "stdout",
     "output_type": "stream",
     "text": [
      "['orange', 'cheery', 'kiwi']\n"
     ]
    }
   ],
   "source": [
    "print(thislist)"
   ]
  },
  {
   "cell_type": "code",
   "execution_count": 8,
   "id": "c866e71a",
   "metadata": {},
   "outputs": [],
   "source": [
    "thislist.insert(3, \"watermelon\")"
   ]
  },
  {
   "cell_type": "code",
   "execution_count": 9,
   "id": "35744841",
   "metadata": {},
   "outputs": [
    {
     "name": "stdout",
     "output_type": "stream",
     "text": [
      "['orange', 'cheery', 'kiwi', 'watermelon']\n"
     ]
    }
   ],
   "source": [
    "print(thislist)"
   ]
  },
  {
   "cell_type": "code",
   "execution_count": 10,
   "id": "1ace5fed",
   "metadata": {},
   "outputs": [
    {
     "name": "stdout",
     "output_type": "stream",
     "text": [
      "['orange', 'cheery', 'kiwi', 'watermelon', 'blackcurrent']\n"
     ]
    }
   ],
   "source": [
    "for i in range(1):\n",
    "    thislist.append(\"blackcurrent\")\n",
    "\n",
    "print(thislist)\n",
    "    "
   ]
  },
  {
   "cell_type": "code",
   "execution_count": 12,
   "id": "2acc661f",
   "metadata": {},
   "outputs": [
    {
     "name": "stdout",
     "output_type": "stream",
     "text": [
      "['orange', 'cheery', 'kiwi', 'watermelon', 'blackcurrent', 'banana', 'pineapple', 'apple', 'banana', 'pineapple', 'apple', 'banana', 'pineapple', 'apple', 'banana', 'pineapple', 'apple', 'banana', 'pineapple', 'apple']\n"
     ]
    }
   ],
   "source": [
    "for i in range(len(thislist)):\n",
    "    thislist.append(\"banana\")\n",
    "    thislist.append(\"pineapple\")\n",
    "    thislist.append(\"apple\")\n",
    "    \n",
    "print(thislist)"
   ]
  },
  {
   "cell_type": "code",
   "execution_count": 14,
   "id": "67dd6fa2",
   "metadata": {},
   "outputs": [
    {
     "data": {
      "text/plain": [
       "['orange',\n",
       " 'cheery',\n",
       " 'kiwi',\n",
       " 'watermelon',\n",
       " 'blackcurrent',\n",
       " 'banana',\n",
       " 'pineapple',\n",
       " 'apple',\n",
       " 'banana',\n",
       " 'pineapple',\n",
       " 'apple',\n",
       " 'banana',\n",
       " 'pineapple',\n",
       " 'apple',\n",
       " 'banana',\n",
       " 'pineapple',\n",
       " 'apple',\n",
       " 'banana',\n",
       " 'pineapple',\n",
       " 'apple']"
      ]
     },
     "execution_count": 14,
     "metadata": {},
     "output_type": "execute_result"
    }
   ],
   "source": [
    "thislist"
   ]
  },
  {
   "cell_type": "code",
   "execution_count": 15,
   "id": "57ef2666",
   "metadata": {},
   "outputs": [
    {
     "name": "stdout",
     "output_type": "stream",
     "text": [
      "['orange', 'banana', 'apple', 'blackcurrent', 'kiwi', 'cheery', 'watermelon', 'pineapple']\n"
     ]
    }
   ],
   "source": [
    "thislist = list(set(thislist))\n",
    "print(thislist)"
   ]
  },
  {
   "cell_type": "code",
   "execution_count": 16,
   "id": "b635ce37",
   "metadata": {},
   "outputs": [
    {
     "name": "stdout",
     "output_type": "stream",
     "text": [
      "['orange', 'apple', 'blackcurrent', 'kiwi', 'cheery', 'watermelon', 'pineapple']\n",
      "['orange', 'apple', 'blackcurrent', 'cheery', 'watermelon', 'pineapple']\n"
     ]
    }
   ],
   "source": [
    "# remove -> method is removes the specified item.\n",
    "\n",
    "thislist.remove(\"banana\")\n",
    "print(thislist)\n",
    "\n",
    "\n",
    "#POP -> method is removes the specified index.\n",
    "\n",
    "thislist.pop(3)\n",
    "print(thislist)"
   ]
  },
  {
   "cell_type": "code",
   "execution_count": 17,
   "id": "da369f46",
   "metadata": {},
   "outputs": [
    {
     "name": "stdout",
     "output_type": "stream",
     "text": [
      "['orange', 'apple', 'blackcurrent', 'cheery', 'watermelon', 'pineapple']\n"
     ]
    }
   ],
   "source": [
    "print(thislist)"
   ]
  },
  {
   "cell_type": "code",
   "execution_count": 19,
   "id": "d65ac820",
   "metadata": {},
   "outputs": [
    {
     "name": "stdout",
     "output_type": "stream",
     "text": [
      "['blackcurrent', 'cheery', 'watermelon', 'pineapple']\n"
     ]
    }
   ],
   "source": [
    "#delete del -> keyword also remove the specified index\n",
    "\n",
    "del thislist[0]\n",
    "print(thislist)\n",
    "\n",
    "#orange and apple is delete from the list"
   ]
  },
  {
   "cell_type": "code",
   "execution_count": 25,
   "id": "af4baef3",
   "metadata": {},
   "outputs": [
    {
     "name": "stdout",
     "output_type": "stream",
     "text": [
      "[]\n"
     ]
    }
   ],
   "source": [
    "#Clear() -> method empties the list\n",
    "\n",
    "thislist.clear()\n",
    "print(thislist)"
   ]
  },
  {
   "cell_type": "code",
   "execution_count": 26,
   "id": "00b217f3",
   "metadata": {},
   "outputs": [],
   "source": [
    "thislist=['orange', 'apple', 'blackcurrent', 'cheery', 'watermelon', 'pineapple']"
   ]
  },
  {
   "cell_type": "code",
   "execution_count": 27,
   "id": "12384c18",
   "metadata": {},
   "outputs": [
    {
     "data": {
      "text/plain": [
       "['orange', 'apple', 'blackcurrent', 'cheery', 'watermelon', 'pineapple']"
      ]
     },
     "execution_count": 27,
     "metadata": {},
     "output_type": "execute_result"
    }
   ],
   "source": [
    "thislist"
   ]
  },
  {
   "cell_type": "code",
   "execution_count": null,
   "id": "866cfb00",
   "metadata": {},
   "outputs": [],
   "source": []
  },
  {
   "cell_type": "code",
   "execution_count": null,
   "id": "e2d07f03",
   "metadata": {},
   "outputs": [],
   "source": []
  }
 ],
 "metadata": {
  "kernelspec": {
   "display_name": "Python 3 (ipykernel)",
   "language": "python",
   "name": "python3"
  },
  "language_info": {
   "codemirror_mode": {
    "name": "ipython",
    "version": 3
   },
   "file_extension": ".py",
   "mimetype": "text/x-python",
   "name": "python",
   "nbconvert_exporter": "python",
   "pygments_lexer": "ipython3",
   "version": "3.9.13"
  }
 },
 "nbformat": 4,
 "nbformat_minor": 5
}
