{
 "cells": [
  {
   "cell_type": "code",
   "execution_count": 1,
   "id": "75075b46",
   "metadata": {},
   "outputs": [
    {
     "name": "stdout",
     "output_type": "stream",
     "text": [
      "hello world!\n"
     ]
    }
   ],
   "source": [
    "print('hello world!')"
   ]
  },
  {
   "cell_type": "code",
   "execution_count": 2,
   "id": "69f621da",
   "metadata": {},
   "outputs": [
    {
     "name": "stdout",
     "output_type": "stream",
     "text": [
      "Hello world!\n"
     ]
    }
   ],
   "source": [
    "print(\"Hello world!\")"
   ]
  },
  {
   "cell_type": "code",
   "execution_count": 3,
   "id": "fe336955",
   "metadata": {},
   "outputs": [
    {
     "name": "stdout",
     "output_type": "stream",
     "text": [
      "<class 'int'>\n",
      "<class 'str'>\n"
     ]
    }
   ],
   "source": [
    "x = 5\n",
    "y = \"Amey\"\n",
    "\n",
    "print(type(x))\n",
    "print(type(y))"
   ]
  },
  {
   "cell_type": "code",
   "execution_count": 4,
   "id": "1229e383",
   "metadata": {},
   "outputs": [
    {
     "name": "stdout",
     "output_type": "stream",
     "text": [
      "amey\n"
     ]
    }
   ],
   "source": [
    "x = \"amey\"\n",
    "x = 'amey'\n",
    "print(x)"
   ]
  },
  {
   "cell_type": "code",
   "execution_count": 6,
   "id": "aed16865",
   "metadata": {},
   "outputs": [
    {
     "name": "stdout",
     "output_type": "stream",
     "text": [
      "Amey\n"
     ]
    }
   ],
   "source": [
    "a = 'amey'\n",
    "A = 'Amey'\n",
    "print(A)"
   ]
  },
  {
   "cell_type": "code",
   "execution_count": 7,
   "id": "9b74b1fc",
   "metadata": {},
   "outputs": [],
   "source": [
    "myvar='amey'\n",
    "\n",
    "my_var='amey'\n",
    "\n",
    "_my_var='amey'\n",
    "\n",
    "myVar='amey'\n",
    "\n",
    "MYVAR='amey'\n",
    "\n",
    "myvar2='amey'"
   ]
  },
  {
   "cell_type": "code",
   "execution_count": 8,
   "id": "da0a5ab4",
   "metadata": {},
   "outputs": [],
   "source": [
    "#camel Case\n",
    "\n",
    "myVariableName='john'\n",
    "\n",
    "#Pascal Case\n",
    "\n",
    "MyVariableName='john'\n",
    "\n",
    "#Snake Case\n",
    "\n",
    "my_variable_name='john'"
   ]
  },
  {
   "cell_type": "code",
   "execution_count": 10,
   "id": "fa5e3f38",
   "metadata": {},
   "outputs": [
    {
     "name": "stdout",
     "output_type": "stream",
     "text": [
      "orange\n",
      "pineapple\n",
      "apple\n"
     ]
    }
   ],
   "source": [
    "x,y,z = \"orange\", 'pineapple', \"apple\"\n",
    "\n",
    "print(x)\n",
    "print(y)\n",
    "print(z)"
   ]
  },
  {
   "cell_type": "code",
   "execution_count": 12,
   "id": "6eb90c82",
   "metadata": {},
   "outputs": [
    {
     "name": "stdout",
     "output_type": "stream",
     "text": [
      "banana\n",
      "banana\n",
      "banana\n"
     ]
    }
   ],
   "source": [
    "x=y=z=\"banana\"\n",
    "print(x)\n",
    "print(y)\n",
    "print(z)"
   ]
  },
  {
   "cell_type": "code",
   "execution_count": 13,
   "id": "6a888b80",
   "metadata": {},
   "outputs": [
    {
     "name": "stdout",
     "output_type": "stream",
     "text": [
      "apple\n",
      "banana\n",
      "cherry\n"
     ]
    }
   ],
   "source": [
    "fruits = ['apple','banana', 'cherry']\n",
    "x,y,z = fruits\n",
    "print(x)\n",
    "print(y)\n",
    "print(z)"
   ]
  },
  {
   "cell_type": "code",
   "execution_count": 15,
   "id": "f38b3af5",
   "metadata": {},
   "outputs": [
    {
     "name": "stdout",
     "output_type": "stream",
     "text": [
      "pythonjavaGo\n"
     ]
    }
   ],
   "source": [
    "x='python'\n",
    "y='java'\n",
    "z='Go'\n",
    "\n",
    "print(x+y+z)"
   ]
  },
  {
   "cell_type": "code",
   "execution_count": 16,
   "id": "d19d9405",
   "metadata": {},
   "outputs": [
    {
     "name": "stdout",
     "output_type": "stream",
     "text": [
      "python java Go\n"
     ]
    }
   ],
   "source": [
    "x='python'\n",
    "y='java'\n",
    "z='Go'\n",
    "\n",
    "print(x,y,z)"
   ]
  },
  {
   "cell_type": "code",
   "execution_count": 17,
   "id": "591f505a",
   "metadata": {},
   "outputs": [
    {
     "name": "stdout",
     "output_type": "stream",
     "text": [
      "15\n"
     ]
    }
   ],
   "source": [
    "x,y = 5,10\n",
    "print(x+y)"
   ]
  },
  {
   "cell_type": "code",
   "execution_count": 18,
   "id": "303d9e55",
   "metadata": {},
   "outputs": [
    {
     "ename": "TypeError",
     "evalue": "unsupported operand type(s) for +: 'int' and 'str'",
     "output_type": "error",
     "traceback": [
      "\u001b[0;31m---------------------------------------------------------------------------\u001b[0m",
      "\u001b[0;31mTypeError\u001b[0m                                 Traceback (most recent call last)",
      "\u001b[0;32m/tmp/ipykernel_9533/2523910954.py\u001b[0m in \u001b[0;36m<module>\u001b[0;34m\u001b[0m\n\u001b[1;32m      2\u001b[0m \u001b[0my\u001b[0m\u001b[0;34m=\u001b[0m\u001b[0;34m'steel'\u001b[0m\u001b[0;34m\u001b[0m\u001b[0;34m\u001b[0m\u001b[0m\n\u001b[1;32m      3\u001b[0m \u001b[0;34m\u001b[0m\u001b[0m\n\u001b[0;32m----> 4\u001b[0;31m \u001b[0mprint\u001b[0m\u001b[0;34m(\u001b[0m\u001b[0mx\u001b[0m\u001b[0;34m+\u001b[0m\u001b[0my\u001b[0m\u001b[0;34m)\u001b[0m\u001b[0;34m\u001b[0m\u001b[0;34m\u001b[0m\u001b[0m\n\u001b[0m",
      "\u001b[0;31mTypeError\u001b[0m: unsupported operand type(s) for +: 'int' and 'str'"
     ]
    }
   ],
   "source": [
    "x=5\n",
    "y='steel'\n",
    "\n",
    "print(x+y)"
   ]
  },
  {
   "cell_type": "code",
   "execution_count": 19,
   "id": "e64e864e",
   "metadata": {},
   "outputs": [
    {
     "name": "stdout",
     "output_type": "stream",
     "text": [
      "5 steel\n"
     ]
    }
   ],
   "source": [
    "x=5\n",
    "y='steel'\n",
    "\n",
    "print(x,y)"
   ]
  },
  {
   "cell_type": "code",
   "execution_count": 22,
   "id": "f0713b78",
   "metadata": {},
   "outputs": [
    {
     "name": "stdout",
     "output_type": "stream",
     "text": [
      "python and java\n"
     ]
    }
   ],
   "source": [
    "x=\"and java\"\n",
    "\n",
    "def timepass():\n",
    "    print(\"python \"+x)\n",
    "\n",
    "timepass()"
   ]
  },
  {
   "cell_type": "code",
   "execution_count": 2,
   "id": "6f0abb08",
   "metadata": {},
   "outputs": [
    {
     "name": "stdout",
     "output_type": "stream",
     "text": [
      "python is awesom\n",
      "python and java\n"
     ]
    }
   ],
   "source": [
    "x='and java'\n",
    "\n",
    "def newfunc1():\n",
    "    x=\"is awesom\"\n",
    "    print('python '+x)\n",
    "\n",
    "newfunc1()\n",
    "print('python ' +x)"
   ]
  },
  {
   "cell_type": "code",
   "execution_count": 4,
   "id": "498f62f0",
   "metadata": {},
   "outputs": [
    {
     "name": "stdout",
     "output_type": "stream",
     "text": [
      "python is fantastic\n"
     ]
    }
   ],
   "source": [
    "def newfunct2():\n",
    "    global q\n",
    "    q='fantastic'\n",
    "\n",
    "newfunct2()\n",
    "\n",
    "print('python is '+q)"
   ]
  },
  {
   "cell_type": "code",
   "execution_count": 5,
   "id": "4ebf0540",
   "metadata": {},
   "outputs": [
    {
     "name": "stdout",
     "output_type": "stream",
     "text": [
      "python is fantastic\n"
     ]
    }
   ],
   "source": [
    "w='awesome'\n",
    "def newfunc3():\n",
    "    global w\n",
    "    w='fantastic'\n",
    "\n",
    "newfunc3()\n",
    "\n",
    "print('python is '+w)"
   ]
  },
  {
   "cell_type": "code",
   "execution_count": 2,
   "id": "40757966",
   "metadata": {},
   "outputs": [
    {
     "name": "stdout",
     "output_type": "stream",
     "text": [
      "\n",
      "HI MY NAME IS AMEY\n",
      "\n"
     ]
    }
   ],
   "source": [
    "a = \"\"\"\n",
    "HI MY NAME IS AMEY\n",
    "\"\"\"\n",
    "print(a)"
   ]
  },
  {
   "cell_type": "code",
   "execution_count": 4,
   "id": "607d2276",
   "metadata": {},
   "outputs": [
    {
     "name": "stdout",
     "output_type": "stream",
     "text": [
      "\n",
      "Hi My Name is Amey\n",
      "\n"
     ]
    }
   ],
   "source": [
    "a = '''\n",
    "Hi My Name is Amey\n",
    "'''\n",
    "print(a)"
   ]
  },
  {
   "cell_type": "code",
   "execution_count": 5,
   "id": "dc3356ab",
   "metadata": {},
   "outputs": [
    {
     "name": "stdout",
     "output_type": "stream",
     "text": [
      "e\n"
     ]
    }
   ],
   "source": [
    "a = 'hello world!'\n",
    "print(a[1])"
   ]
  },
  {
   "cell_type": "code",
   "execution_count": 8,
   "id": "0046026f",
   "metadata": {},
   "outputs": [
    {
     "name": "stdout",
     "output_type": "stream",
     "text": [
      "h\n",
      "e\n",
      "l\n",
      "l\n",
      "o\n",
      " \n",
      "w\n",
      "o\n",
      "r\n",
      "l\n",
      "d\n",
      "!\n"
     ]
    }
   ],
   "source": [
    "for x in 'hello world!':\n",
    "    print(x)"
   ]
  },
  {
   "cell_type": "code",
   "execution_count": 10,
   "id": "93162ad3",
   "metadata": {},
   "outputs": [
    {
     "name": "stdout",
     "output_type": "stream",
     "text": [
      "False\n"
     ]
    }
   ],
   "source": [
    "txt = \"the best things in life are free!\"\n",
    "print(\"amey\" in txt)"
   ]
  },
  {
   "cell_type": "code",
   "execution_count": 14,
   "id": "c95d89b0",
   "metadata": {},
   "outputs": [
    {
     "name": "stdout",
     "output_type": "stream",
     "text": [
      "character or statment is exisit\n"
     ]
    }
   ],
   "source": [
    "if \"free\" in txt:\n",
    "    print(\"character or statment is exisit\")\n",
    "else:\n",
    "    print(\"character or statment is not exisit\")"
   ]
  },
  {
   "cell_type": "code",
   "execution_count": 2,
   "id": "ce17de30",
   "metadata": {},
   "outputs": [
    {
     "name": "stdout",
     "output_type": "stream",
     "text": [
      "['apple', 'banana', 'cherry']\n"
     ]
    }
   ],
   "source": [
    "thislist = ['apple', 'banana', 'cherry']\n",
    "print(thislist)"
   ]
  },
  {
   "cell_type": "code",
   "execution_count": 3,
   "id": "e40ad82b",
   "metadata": {},
   "outputs": [
    {
     "name": "stdout",
     "output_type": "stream",
     "text": [
      "yes\n",
      "0\n"
     ]
    }
   ],
   "source": [
    "if 'apple' in thislist:\n",
    "    print('yes')\n",
    "    print(thislist.index('apple'))\n",
    "else:\n",
    "    print('No')"
   ]
  },
  {
   "cell_type": "code",
   "execution_count": 4,
   "id": "36bc7145",
   "metadata": {},
   "outputs": [
    {
     "name": "stdout",
     "output_type": "stream",
     "text": [
      "['apple', 'blackcurrent', 'cherry']\n"
     ]
    }
   ],
   "source": [
    "thislist[1] = 'blackcurrent'\n",
    "print(thislist)"
   ]
  },
  {
   "cell_type": "code",
   "execution_count": 5,
   "id": "0e7454fc",
   "metadata": {},
   "outputs": [
    {
     "name": "stdout",
     "output_type": "stream",
     "text": [
      "['apple', 'banana', 'watermelon']\n"
     ]
    }
   ],
   "source": [
    "thislist[1:3] = ['banana', 'watermelon']\n",
    "print(thislist)"
   ]
  },
  {
   "cell_type": "code",
   "execution_count": 6,
   "id": "80ee0c0f",
   "metadata": {},
   "outputs": [
    {
     "name": "stdout",
     "output_type": "stream",
     "text": [
      "['orange', 'cheery', 'kiwi']\n"
     ]
    }
   ],
   "source": [
    "thislist=['orange','cheery', 'kiwi']\n",
    "print(thislist)"
   ]
  },
  {
   "cell_type": "code",
   "execution_count": 7,
   "id": "9bfbbffa",
   "metadata": {},
   "outputs": [
    {
     "name": "stdout",
     "output_type": "stream",
     "text": [
      "['orange', 'cheery', 'kiwi']\n"
     ]
    }
   ],
   "source": [
    "print(thislist)"
   ]
  },
  {
   "cell_type": "code",
   "execution_count": 8,
   "id": "c866e71a",
   "metadata": {},
   "outputs": [],
   "source": [
    "thislist.insert(3, \"watermelon\")"
   ]
  },
  {
   "cell_type": "code",
   "execution_count": 9,
   "id": "35744841",
   "metadata": {},
   "outputs": [
    {
     "name": "stdout",
     "output_type": "stream",
     "text": [
      "['orange', 'cheery', 'kiwi', 'watermelon']\n"
     ]
    }
   ],
   "source": [
    "print(thislist)"
   ]
  },
  {
   "cell_type": "code",
   "execution_count": 10,
   "id": "1ace5fed",
   "metadata": {},
   "outputs": [
    {
     "name": "stdout",
     "output_type": "stream",
     "text": [
      "['orange', 'cheery', 'kiwi', 'watermelon', 'blackcurrent']\n"
     ]
    }
   ],
   "source": [
    "for i in range(1):\n",
    "    thislist.append(\"blackcurrent\")\n",
    "\n",
    "print(thislist)\n",
    "    "
   ]
  },
  {
   "cell_type": "code",
   "execution_count": 12,
   "id": "2acc661f",
   "metadata": {},
   "outputs": [
    {
     "name": "stdout",
     "output_type": "stream",
     "text": [
      "['orange', 'cheery', 'kiwi', 'watermelon', 'blackcurrent', 'banana', 'pineapple', 'apple', 'banana', 'pineapple', 'apple', 'banana', 'pineapple', 'apple', 'banana', 'pineapple', 'apple', 'banana', 'pineapple', 'apple']\n"
     ]
    }
   ],
   "source": [
    "for i in range(len(thislist)):\n",
    "    thislist.append(\"banana\")\n",
    "    thislist.append(\"pineapple\")\n",
    "    thislist.append(\"apple\")\n",
    "    \n",
    "print(thislist)"
   ]
  },
  {
   "cell_type": "code",
   "execution_count": 14,
   "id": "67dd6fa2",
   "metadata": {},
   "outputs": [
    {
     "data": {
      "text/plain": [
       "['orange',\n",
       " 'cheery',\n",
       " 'kiwi',\n",
       " 'watermelon',\n",
       " 'blackcurrent',\n",
       " 'banana',\n",
       " 'pineapple',\n",
       " 'apple',\n",
       " 'banana',\n",
       " 'pineapple',\n",
       " 'apple',\n",
       " 'banana',\n",
       " 'pineapple',\n",
       " 'apple',\n",
       " 'banana',\n",
       " 'pineapple',\n",
       " 'apple',\n",
       " 'banana',\n",
       " 'pineapple',\n",
       " 'apple']"
      ]
     },
     "execution_count": 14,
     "metadata": {},
     "output_type": "execute_result"
    }
   ],
   "source": [
    "thislist"
   ]
  },
  {
   "cell_type": "code",
   "execution_count": 15,
   "id": "57ef2666",
   "metadata": {},
   "outputs": [
    {
     "name": "stdout",
     "output_type": "stream",
     "text": [
      "['orange', 'banana', 'apple', 'blackcurrent', 'kiwi', 'cheery', 'watermelon', 'pineapple']\n"
     ]
    }
   ],
   "source": [
    "thislist = list(set(thislist))\n",
    "print(thislist)"
   ]
  },
  {
   "cell_type": "code",
   "execution_count": 16,
   "id": "b635ce37",
   "metadata": {},
   "outputs": [
    {
     "name": "stdout",
     "output_type": "stream",
     "text": [
      "['orange', 'apple', 'blackcurrent', 'kiwi', 'cheery', 'watermelon', 'pineapple']\n",
      "['orange', 'apple', 'blackcurrent', 'cheery', 'watermelon', 'pineapple']\n"
     ]
    }
   ],
   "source": [
    "# remove -> method is removes the specified item.\n",
    "\n",
    "thislist.remove(\"banana\")\n",
    "print(thislist)\n",
    "\n",
    "\n",
    "#POP -> method is removes the specified index.\n",
    "\n",
    "thislist.pop(3)\n",
    "print(thislist)"
   ]
  },
  {
   "cell_type": "code",
   "execution_count": 17,
   "id": "da369f46",
   "metadata": {},
   "outputs": [
    {
     "name": "stdout",
     "output_type": "stream",
     "text": [
      "['orange', 'apple', 'blackcurrent', 'cheery', 'watermelon', 'pineapple']\n"
     ]
    }
   ],
   "source": [
    "print(thislist)"
   ]
  },
  {
   "cell_type": "code",
   "execution_count": 19,
   "id": "d65ac820",
   "metadata": {},
   "outputs": [
    {
     "name": "stdout",
     "output_type": "stream",
     "text": [
      "['blackcurrent', 'cheery', 'watermelon', 'pineapple']\n"
     ]
    }
   ],
   "source": [
    "#delete del -> keyword also remove the specified index\n",
    "\n",
    "del thislist[0]\n",
    "print(thislist)\n",
    "\n",
    "#orange and apple is delete from the list"
   ]
  },
  {
   "cell_type": "code",
   "execution_count": 25,
   "id": "af4baef3",
   "metadata": {},
   "outputs": [
    {
     "name": "stdout",
     "output_type": "stream",
     "text": [
      "[]\n"
     ]
    }
   ],
   "source": [
    "#Clear() -> method empties the list\n",
    "\n",
    "thislist.clear()\n",
    "print(thislist)"
   ]
  },
  {
   "cell_type": "code",
   "execution_count": 26,
   "id": "00b217f3",
   "metadata": {},
   "outputs": [],
   "source": [
    "thislist=['orange', 'apple', 'blackcurrent', 'cheery', 'watermelon', 'pineapple']"
   ]
  },
  {
   "cell_type": "code",
   "execution_count": 27,
   "id": "12384c18",
   "metadata": {},
   "outputs": [
    {
     "data": {
      "text/plain": [
       "['orange', 'apple', 'blackcurrent', 'cheery', 'watermelon', 'pineapple']"
      ]
     },
     "execution_count": 27,
     "metadata": {},
     "output_type": "execute_result"
    }
   ],
   "source": [
    "thislist"
   ]
  },
  {
   "cell_type": "code",
   "execution_count": 2,
   "id": "866cfb00",
   "metadata": {},
   "outputs": [],
   "source": [
    "fruits = ('orange', 'apple', 'blackcurrent', 'cheery', 'watermelon', 'pineapple')"
   ]
  },
  {
   "cell_type": "code",
   "execution_count": 3,
   "id": "ae703a58",
   "metadata": {},
   "outputs": [
    {
     "data": {
      "text/plain": [
       "('orange', 'apple', 'blackcurrent', 'cheery', 'watermelon', 'pineapple')"
      ]
     },
     "execution_count": 3,
     "metadata": {},
     "output_type": "execute_result"
    }
   ],
   "source": [
    "fruits"
   ]
  },
  {
   "cell_type": "code",
   "execution_count": 4,
   "id": "ed85bb49",
   "metadata": {},
   "outputs": [
    {
     "name": "stdout",
     "output_type": "stream",
     "text": [
      "orange\n",
      "apple\n",
      "blackcurrent\n",
      "cheery\n",
      "watermelon\n",
      "pineapple\n"
     ]
    }
   ],
   "source": [
    "for x in fruits:\n",
    "    print(x)"
   ]
  },
  {
   "cell_type": "code",
   "execution_count": 7,
   "id": "13309a0d",
   "metadata": {},
   "outputs": [
    {
     "name": "stdout",
     "output_type": "stream",
     "text": [
      "orange 0\n",
      "apple 1\n",
      "blackcurrent 2\n",
      "cheery 3\n",
      "watermelon 4\n",
      "pineapple 5\n"
     ]
    }
   ],
   "source": [
    "for x in range(len(fruits)):\n",
    "    print(fruits[x], x)"
   ]
  },
  {
   "cell_type": "code",
   "execution_count": 9,
   "id": "6eca82af",
   "metadata": {},
   "outputs": [
    {
     "name": "stdout",
     "output_type": "stream",
     "text": [
      "orange 0\n",
      "apple 1\n",
      "blackcurrent 2\n",
      "cheery 3\n",
      "watermelon 4\n",
      "pineapple 5\n"
     ]
    }
   ],
   "source": [
    "i=0\n",
    "\n",
    "while i < len(fruits):\n",
    "    print(fruits[i], i)\n",
    "    i = i +1"
   ]
  },
  {
   "cell_type": "code",
   "execution_count": 10,
   "id": "ae959fbe",
   "metadata": {},
   "outputs": [],
   "source": [
    "#join two tuples\n",
    "\n",
    "car = (\"BMW\", \"AUDIO\", \"MG\", \"SKODA\")"
   ]
  },
  {
   "cell_type": "code",
   "execution_count": 11,
   "id": "22b0137d",
   "metadata": {},
   "outputs": [
    {
     "name": "stdout",
     "output_type": "stream",
     "text": [
      "('BMW', 'AUDIO', 'MG', 'SKODA', 'orange', 'apple', 'blackcurrent', 'cheery', 'watermelon', 'pineapple')\n"
     ]
    }
   ],
   "source": [
    "joinTuple = car + fruits\n",
    "\n",
    "print(joinTuple)"
   ]
  },
  {
   "cell_type": "code",
   "execution_count": 12,
   "id": "f25f2364",
   "metadata": {},
   "outputs": [
    {
     "name": "stdout",
     "output_type": "stream",
     "text": [
      "('orange', 'apple', 'blackcurrent', 'cheery', 'watermelon', 'pineapple', 'orange', 'apple', 'blackcurrent', 'cheery', 'watermelon', 'pineapple', 'orange', 'apple', 'blackcurrent', 'cheery', 'watermelon', 'pineapple')\n"
     ]
    }
   ],
   "source": [
    "joinTuple = fruits *3\n",
    "print(joinTuple)"
   ]
  },
  {
   "cell_type": "code",
   "execution_count": 13,
   "id": "ff2870d4",
   "metadata": {},
   "outputs": [
    {
     "name": "stdout",
     "output_type": "stream",
     "text": [
      "2\n"
     ]
    }
   ],
   "source": [
    "thistuple = (1, 3, 7, 8, 7, 5, 4, 6, 8, 5)\n",
    "\n",
    "x = thistuple.count(5)\n",
    "\n",
    "print(x)"
   ]
  },
  {
   "cell_type": "code",
   "execution_count": 14,
   "id": "25b33539",
   "metadata": {},
   "outputs": [
    {
     "name": "stdout",
     "output_type": "stream",
     "text": [
      "3\n"
     ]
    }
   ],
   "source": [
    "thistuple = (1, 3, 7, 8, 7, 5, 4, 6, 8, 5)\n",
    "\n",
    "x = thistuple.index(8)\n",
    "\n",
    "print(x)"
   ]
  },
  {
   "cell_type": "code",
   "execution_count": 15,
   "id": "5378906d",
   "metadata": {},
   "outputs": [],
   "source": [
    "# sets\n"
   ]
  },
  {
   "cell_type": "code",
   "execution_count": 16,
   "id": "1a7d8837",
   "metadata": {},
   "outputs": [],
   "source": [
    "thisset = {'orange', 'apple', 'blackcurrent', 'cheery', 'watermelon', 'pineapple'}"
   ]
  },
  {
   "cell_type": "code",
   "execution_count": 17,
   "id": "e0766227",
   "metadata": {},
   "outputs": [
    {
     "data": {
      "text/plain": [
       "{'apple', 'blackcurrent', 'cheery', 'orange', 'pineapple', 'watermelon'}"
      ]
     },
     "execution_count": 17,
     "metadata": {},
     "output_type": "execute_result"
    }
   ],
   "source": [
    "thisset"
   ]
  },
  {
   "cell_type": "code",
   "execution_count": 22,
   "id": "bba246eb",
   "metadata": {},
   "outputs": [
    {
     "name": "stdout",
     "output_type": "stream",
     "text": [
      "{'graph', 'blackcurrent', 'pineapple', 'apple', 'cheery', 'watermelon', 'orange'}\n"
     ]
    }
   ],
   "source": [
    "x = list(thisset)\n",
    "x.append(\"cheery\")\n",
    "thisset= set(x)\n",
    "print(thisset)"
   ]
  },
  {
   "cell_type": "code",
   "execution_count": 24,
   "id": "46a23403",
   "metadata": {},
   "outputs": [
    {
     "name": "stdout",
     "output_type": "stream",
     "text": [
      "('graph', 'blackcurrent', 'pineapple', 'apple', 'cheery', 'watermelon', 'orange', 'cheery', 'cheery')\n"
     ]
    }
   ],
   "source": [
    "x = list(thisset)\n",
    "x.append(\"cheery\")\n",
    "thistuple= tuple(x)\n",
    "print(thistuple)"
   ]
  },
  {
   "cell_type": "code",
   "execution_count": 26,
   "id": "8ab257d8",
   "metadata": {},
   "outputs": [
    {
     "name": "stdout",
     "output_type": "stream",
     "text": [
      "{True, 2, 'cherry', 'banana', 'apple'}\n"
     ]
    }
   ],
   "source": [
    "#set\n",
    "thisset = {\"apple\", \"banana\", \"cherry\", True, 1, 2}\n",
    "\n",
    "print(thisset)"
   ]
  },
  {
   "cell_type": "code",
   "execution_count": 27,
   "id": "ed8c4977",
   "metadata": {},
   "outputs": [
    {
     "name": "stdout",
     "output_type": "stream",
     "text": [
      "5\n"
     ]
    }
   ],
   "source": [
    "print(len(thisset))"
   ]
  },
  {
   "cell_type": "code",
   "execution_count": 28,
   "id": "95d62900",
   "metadata": {},
   "outputs": [
    {
     "name": "stdout",
     "output_type": "stream",
     "text": [
      "{'banana', 'apple', 'cherry'}\n",
      "{1, 3, 5, 7, 9}\n",
      "{False, True}\n"
     ]
    }
   ],
   "source": [
    "set1 = {\"apple\", \"banana\", \"cherry\"}\n",
    "set2 = {1, 5, 7, 9, 3}\n",
    "set3 = {True, False, False}\n",
    "\n",
    "print(set1)\n",
    "print(set2)\n",
    "print(set3)"
   ]
  },
  {
   "cell_type": "code",
   "execution_count": 29,
   "id": "23e4d413",
   "metadata": {},
   "outputs": [
    {
     "name": "stdout",
     "output_type": "stream",
     "text": [
      "<class 'set'>\n"
     ]
    }
   ],
   "source": [
    "print(type(thisset))"
   ]
  },
  {
   "cell_type": "code",
   "execution_count": 69,
   "id": "93647847",
   "metadata": {},
   "outputs": [
    {
     "name": "stdout",
     "output_type": "stream",
     "text": [
      "{'banana', 'apple', 'cherry'}\n"
     ]
    }
   ],
   "source": [
    "## set construstor\n",
    "\n",
    "thisset = set((\"apple\", \"banana\", \"cherry\"))\n",
    "\n",
    "print(thisset)"
   ]
  },
  {
   "cell_type": "code",
   "execution_count": 63,
   "id": "e2d07f03",
   "metadata": {},
   "outputs": [
    {
     "name": "stdout",
     "output_type": "stream",
     "text": [
      "banana\n",
      "apple\n",
      "cherry\n"
     ]
    }
   ],
   "source": [
    "for x in thisset:\n",
    "    print(x)"
   ]
  },
  {
   "cell_type": "code",
   "execution_count": 64,
   "id": "6e537a1e",
   "metadata": {},
   "outputs": [
    {
     "name": "stdout",
     "output_type": "stream",
     "text": [
      "True\n"
     ]
    }
   ],
   "source": [
    "print(\"banana\" in thisset)"
   ]
  },
  {
   "cell_type": "code",
   "execution_count": 65,
   "id": "8f7c3748",
   "metadata": {},
   "outputs": [
    {
     "data": {
      "text/plain": [
       "{'apple', 'banana', 'cherry'}"
      ]
     },
     "execution_count": 65,
     "metadata": {},
     "output_type": "execute_result"
    }
   ],
   "source": [
    "thisset"
   ]
  },
  {
   "cell_type": "code",
   "execution_count": 35,
   "id": "33b0db09",
   "metadata": {},
   "outputs": [],
   "source": [
    "thisset.add(\"orange\")"
   ]
  },
  {
   "cell_type": "code",
   "execution_count": 36,
   "id": "425a3243",
   "metadata": {},
   "outputs": [
    {
     "name": "stdout",
     "output_type": "stream",
     "text": [
      "{'banana', 'apple', 'cherry', 'orange'}\n"
     ]
    }
   ],
   "source": [
    "print(thisset)"
   ]
  },
  {
   "cell_type": "code",
   "execution_count": 70,
   "id": "44388f58",
   "metadata": {},
   "outputs": [],
   "source": [
    "tropicalSet={\"pineapple\", \"mango\", \"papaya\", \"orange\"}"
   ]
  },
  {
   "cell_type": "code",
   "execution_count": 71,
   "id": "c2578be2",
   "metadata": {},
   "outputs": [
    {
     "name": "stdout",
     "output_type": "stream",
     "text": [
      "{'cherry', 'mango', 'pineapple', 'banana', 'apple', 'papaya', 'orange'}\n"
     ]
    }
   ],
   "source": [
    "thisset.update(tropicalSet)\n",
    "print(thisset)"
   ]
  },
  {
   "cell_type": "code",
   "execution_count": 53,
   "id": "095ec340",
   "metadata": {},
   "outputs": [
    {
     "name": "stdout",
     "output_type": "stream",
     "text": [
      "{'bike', 'pineapple', 'car', 'papaya', 'truck', 'mango', 'orange'}\n"
     ]
    }
   ],
   "source": [
    "mySet=[\"car\",\"bike\",\"truck\"]\n",
    "\n",
    "thisset.update(mySet)\n",
    "print(thisset)"
   ]
  },
  {
   "cell_type": "code",
   "execution_count": 54,
   "id": "63c63908",
   "metadata": {},
   "outputs": [
    {
     "name": "stdout",
     "output_type": "stream",
     "text": [
      "{'bike', 'pineapple', 'car', 'papaya', 'truck', 'mango'}\n"
     ]
    }
   ],
   "source": [
    "##remove\n",
    "\n",
    "thisset.remove(\"orange\")\n",
    "print(thisset)"
   ]
  },
  {
   "cell_type": "code",
   "execution_count": 55,
   "id": "f6834b12",
   "metadata": {},
   "outputs": [
    {
     "name": "stdout",
     "output_type": "stream",
     "text": [
      "{'bike', 'pineapple', 'car', 'papaya', 'truck'}\n"
     ]
    }
   ],
   "source": [
    "thisset.discard(\"mango\")\n",
    "print(thisset)"
   ]
  },
  {
   "cell_type": "code",
   "execution_count": 56,
   "id": "9a102bb2",
   "metadata": {},
   "outputs": [
    {
     "name": "stdout",
     "output_type": "stream",
     "text": [
      "{'bike', 'pineapple', 'papaya', 'truck'}\n"
     ]
    }
   ],
   "source": [
    "thisset.pop()\n",
    "print(thisset)"
   ]
  },
  {
   "cell_type": "code",
   "execution_count": 57,
   "id": "90520c87",
   "metadata": {},
   "outputs": [
    {
     "name": "stdout",
     "output_type": "stream",
     "text": [
      "{'bike', 'pineapple', 'truck'}\n"
     ]
    }
   ],
   "source": [
    "thisset.pop()\n",
    "print(thisset)"
   ]
  },
  {
   "cell_type": "code",
   "execution_count": 50,
   "id": "9acdf03f",
   "metadata": {},
   "outputs": [
    {
     "name": "stdout",
     "output_type": "stream",
     "text": [
      "set()\n"
     ]
    }
   ],
   "source": [
    "thisset.clear()\n",
    "print(thisset)"
   ]
  },
  {
   "cell_type": "code",
   "execution_count": 68,
   "id": "092619a9",
   "metadata": {},
   "outputs": [
    {
     "ename": "NameError",
     "evalue": "name 'thisset' is not defined",
     "output_type": "error",
     "traceback": [
      "\u001b[0;31m---------------------------------------------------------------------------\u001b[0m",
      "\u001b[0;31mNameError\u001b[0m                                 Traceback (most recent call last)",
      "\u001b[0;32m/tmp/ipykernel_4615/3720978059.py\u001b[0m in \u001b[0;36m<module>\u001b[0;34m\u001b[0m\n\u001b[1;32m      1\u001b[0m \u001b[0;32mdel\u001b[0m \u001b[0mthisset\u001b[0m\u001b[0;34m\u001b[0m\u001b[0;34m\u001b[0m\u001b[0m\n\u001b[0;32m----> 2\u001b[0;31m \u001b[0mprint\u001b[0m\u001b[0;34m(\u001b[0m\u001b[0mthisset\u001b[0m\u001b[0;34m)\u001b[0m\u001b[0;34m\u001b[0m\u001b[0;34m\u001b[0m\u001b[0m\n\u001b[0m",
      "\u001b[0;31mNameError\u001b[0m: name 'thisset' is not defined"
     ]
    }
   ],
   "source": [
    "del thisset\n",
    "print(thisset)"
   ]
  },
  {
   "cell_type": "code",
   "execution_count": 72,
   "id": "ecb1504c",
   "metadata": {},
   "outputs": [
    {
     "data": {
      "text/plain": [
       "{'apple', 'banana', 'cherry', 'mango', 'orange', 'papaya', 'pineapple'}"
      ]
     },
     "execution_count": 72,
     "metadata": {},
     "output_type": "execute_result"
    }
   ],
   "source": [
    "thisset"
   ]
  },
  {
   "cell_type": "code",
   "execution_count": 73,
   "id": "105c143d",
   "metadata": {},
   "outputs": [
    {
     "name": "stdout",
     "output_type": "stream",
     "text": [
      "cherry\n",
      "mango\n",
      "pineapple\n",
      "banana\n",
      "apple\n",
      "papaya\n",
      "orange\n"
     ]
    }
   ],
   "source": [
    "for x in thisset:\n",
    "    print(x)"
   ]
  },
  {
   "cell_type": "code",
   "execution_count": 74,
   "id": "ef6d4077",
   "metadata": {
    "scrolled": true
   },
   "outputs": [
    {
     "name": "stdout",
     "output_type": "stream",
     "text": [
      "{'pineapple', 'apple', 'papaya', 'cherry', 'banana', 'mango', 'orange'}\n"
     ]
    }
   ],
   "source": [
    "newSet=thisset.union(tropicalSet)\n",
    "print(newSet)"
   ]
  },
  {
   "cell_type": "code",
   "execution_count": 75,
   "id": "76c4d6ff",
   "metadata": {},
   "outputs": [],
   "source": [
    "thisset.update(tropicalSet)"
   ]
  },
  {
   "cell_type": "code",
   "execution_count": 76,
   "id": "05176691",
   "metadata": {},
   "outputs": [
    {
     "name": "stdout",
     "output_type": "stream",
     "text": [
      "{'pineapple', 'apple', 'papaya', 'cherry', 'banana', 'mango', 'orange'}\n"
     ]
    }
   ],
   "source": [
    "print(thisset)"
   ]
  },
  {
   "cell_type": "code",
   "execution_count": 78,
   "id": "1875a89a",
   "metadata": {},
   "outputs": [
    {
     "name": "stdout",
     "output_type": "stream",
     "text": [
      "{'banana', 'apple'}\n"
     ]
    }
   ],
   "source": [
    "##keeping only the duplicates\n",
    "\n",
    "x={\"apple\", \"banana\", \"cherry\"}\n",
    "y={\"google\", \"microsoft\", \"apple\", \"banana\"}\n",
    "\n",
    "x.intersection_update(y)\n",
    "\n",
    "print(x)"
   ]
  },
  {
   "cell_type": "code",
   "execution_count": 80,
   "id": "dbcd6bd6",
   "metadata": {},
   "outputs": [
    {
     "name": "stdout",
     "output_type": "stream",
     "text": [
      "{'banana', 'apple'}\n"
     ]
    }
   ],
   "source": [
    "\n",
    "x={\"apple\", \"banana\", \"cherry\"}\n",
    "y={\"google\", \"microsoft\", \"apple\", \"banana\"}\n",
    "\n",
    "z=x.intersection(y)\n",
    "\n",
    "print(z)"
   ]
  },
  {
   "cell_type": "code",
   "execution_count": 81,
   "id": "427618d7",
   "metadata": {},
   "outputs": [
    {
     "name": "stdout",
     "output_type": "stream",
     "text": [
      "{'cherry', 'goole', 'microsoft'}\n"
     ]
    }
   ],
   "source": [
    "\n",
    "x={\"apple\", \"banana\", \"cherry\"}\n",
    "y={\"goole\", \"microsoft\", \"apple\", \"banana\"}\n",
    "\n",
    "x.symmetric_difference_update(y)\n",
    "\n",
    "print(x)"
   ]
  },
  {
   "cell_type": "code",
   "execution_count": 83,
   "id": "8499debd",
   "metadata": {},
   "outputs": [
    {
     "name": "stdout",
     "output_type": "stream",
     "text": [
      "{'cherry', 'goole', 'microsoft'}\n"
     ]
    }
   ],
   "source": [
    "x={\"apple\", \"banana\", \"cherry\"}\n",
    "y={\"goole\", \"microsoft\", \"apple\", \"banana\"}\n",
    "\n",
    "z=x.symmetric_difference(y)\n",
    "\n",
    "print(z)"
   ]
  },
  {
   "cell_type": "code",
   "execution_count": 85,
   "id": "ad78a713",
   "metadata": {},
   "outputs": [
    {
     "name": "stdout",
     "output_type": "stream",
     "text": [
      "{True, 232323, 'cherry', 'goole', 'microsoft'}\n"
     ]
    }
   ],
   "source": [
    "x={\"apple\", \"banana\", \"cherry\", True}\n",
    "y={\"goole\", \"microsoft\", \"apple\", \"banana\", 232323}\n",
    "\n",
    "z=x.symmetric_difference(y)\n",
    "\n",
    "print(z)"
   ]
  },
  {
   "cell_type": "code",
   "execution_count": 87,
   "id": "d84d93e3",
   "metadata": {},
   "outputs": [
    {
     "name": "stdout",
     "output_type": "stream",
     "text": [
      "{'brand': 'TATA', 'model': 'Nexon', 'year': '2018'}\n"
     ]
    }
   ],
   "source": [
    "## dictionary\n",
    "\n",
    "thisDict={\n",
    "    \"brand\":\"TATA\",\n",
    "    \"model\":\"Nexon\",\n",
    "    \"year\":\"2018\"\n",
    "}\n",
    "\n",
    "print(thisDict)"
   ]
  },
  {
   "cell_type": "code",
   "execution_count": 88,
   "id": "f5938f80",
   "metadata": {},
   "outputs": [
    {
     "name": "stdout",
     "output_type": "stream",
     "text": [
      "TATA\n"
     ]
    }
   ],
   "source": [
    "print(thisDict[\"brand\"])"
   ]
  },
  {
   "cell_type": "code",
   "execution_count": 90,
   "id": "45393222",
   "metadata": {},
   "outputs": [
    {
     "name": "stdout",
     "output_type": "stream",
     "text": [
      "Nexon\n"
     ]
    }
   ],
   "source": [
    "print(thisDict[\"model\"])"
   ]
  },
  {
   "cell_type": "code",
   "execution_count": 91,
   "id": "187b9d7c",
   "metadata": {},
   "outputs": [
    {
     "name": "stdout",
     "output_type": "stream",
     "text": [
      "{'brand': 'TATA', 'model': 'Nexon', 'year': 2024}\n"
     ]
    }
   ],
   "source": [
    "# duplicates not allowed\n",
    "\n",
    "thisDict={\n",
    "    \"brand\":\"TATA\",\n",
    "    \"model\":\"Nexon\",\n",
    "    \"year\":\"2018\",\n",
    "    \"year\":2024\n",
    "}\n",
    "\n",
    "print(thisDict)"
   ]
  },
  {
   "cell_type": "code",
   "execution_count": 92,
   "id": "b40304ff",
   "metadata": {},
   "outputs": [
    {
     "name": "stdout",
     "output_type": "stream",
     "text": [
      "3\n"
     ]
    }
   ],
   "source": [
    "print(len(thisDict))"
   ]
  },
  {
   "cell_type": "code",
   "execution_count": 99,
   "id": "1adba4f8",
   "metadata": {},
   "outputs": [
    {
     "name": "stdout",
     "output_type": "stream",
     "text": [
      "{'brand': 'TATA', 'model': 'Nexon', 'year': 2024, 'colours': ['red', 'white']}\n"
     ]
    }
   ],
   "source": [
    "thisDict={\n",
    "    \"brand\":\"TATA\",\n",
    "    \"model\":\"Nexon\",\n",
    "    \"year\":\"2018\",\n",
    "    \"year\":2024,\n",
    "    \"colours\":[\"red\",\"white\"]\n",
    "}\n",
    "\n",
    "\n",
    "print(thisDict)"
   ]
  },
  {
   "cell_type": "code",
   "execution_count": 96,
   "id": "c5b565ec",
   "metadata": {},
   "outputs": [
    {
     "name": "stdout",
     "output_type": "stream",
     "text": [
      "<class 'dict'>\n"
     ]
    }
   ],
   "source": [
    "print(type(thisDict))"
   ]
  },
  {
   "cell_type": "code",
   "execution_count": 97,
   "id": "a8904ccd",
   "metadata": {},
   "outputs": [
    {
     "data": {
      "text/plain": [
       "dict"
      ]
     },
     "execution_count": 97,
     "metadata": {},
     "output_type": "execute_result"
    }
   ],
   "source": [
    "type(thisDict)"
   ]
  },
  {
   "cell_type": "code",
   "execution_count": 98,
   "id": "490f8977",
   "metadata": {},
   "outputs": [
    {
     "name": "stdout",
     "output_type": "stream",
     "text": [
      "{'firstnamae': 'Amey', 'lastname': 'Didolkar', 'country': 'India'}\n"
     ]
    }
   ],
   "source": [
    "thisDict=dict(firstnamae=\"Amey\", lastname=\"Didolkar\", country=\"India\")\n",
    "print(thisDict)"
   ]
  },
  {
   "cell_type": "code",
   "execution_count": 101,
   "id": "c0aafd81",
   "metadata": {},
   "outputs": [
    {
     "data": {
      "text/plain": [
       "dict_keys(['brand', 'model', 'year', 'colours'])"
      ]
     },
     "execution_count": 101,
     "metadata": {},
     "output_type": "execute_result"
    }
   ],
   "source": [
    "thisDict.keys()"
   ]
  },
  {
   "cell_type": "code",
   "execution_count": 104,
   "id": "3c80439d",
   "metadata": {},
   "outputs": [
    {
     "name": "stdout",
     "output_type": "stream",
     "text": [
      "dict_keys(['brand', 'model', 'year', 'colours'])\n",
      "dict_keys(['brand', 'model', 'year', 'colours', 'Country'])\n"
     ]
    }
   ],
   "source": [
    "##added a new item in the DICT\n",
    "\n",
    "thisDict={\n",
    "    \"brand\":\"TATA\",\n",
    "    \"model\":\"Nexon\",\n",
    "    \"year\":\"2018\",\n",
    "    \"year\":2024,\n",
    "    \"colours\":[\"red\",\"white\"]\n",
    "}\n",
    "\n",
    "x = thisDict.keys()\n",
    "\n",
    "print(x)\n",
    "\n",
    "thisDict[\"Country\"]=\"India\"\n",
    "\n",
    "print(x)"
   ]
  },
  {
   "cell_type": "code",
   "execution_count": 107,
   "id": "089c723d",
   "metadata": {},
   "outputs": [
    {
     "name": "stdout",
     "output_type": "stream",
     "text": [
      "dict_values(['TATA', 'Nexon', 2024, ['red', 'white'], 'India'])\n"
     ]
    }
   ],
   "source": [
    "x = thisDict.values()\n",
    "print(x)"
   ]
  },
  {
   "cell_type": "code",
   "execution_count": 109,
   "id": "7fd8bdce",
   "metadata": {},
   "outputs": [
    {
     "name": "stdout",
     "output_type": "stream",
     "text": [
      "dict_values(['TATA', 'Nexon', 2024, ['red', 'white']])\n",
      "{'brand': 'TATA', 'model': 'Nexon', 'year': 2024, 'colours': 'black'}\n"
     ]
    }
   ],
   "source": [
    "## cahnge the value \n",
    "thisDict={\n",
    "    \"brand\":\"TATA\",\n",
    "    \"model\":\"Nexon\",\n",
    "    \"year\":\"2018\",\n",
    "    \"year\":2024,\n",
    "    \"colours\":[\"red\",\"white\"]\n",
    "}\n",
    "\n",
    "x = thisDict.values()\n",
    "print(x)\n",
    "\n",
    "thisDict[\"colours\"]=\"black\"\n",
    "\n",
    "print(thisDict)"
   ]
  },
  {
   "cell_type": "code",
   "execution_count": 110,
   "id": "1030125c",
   "metadata": {},
   "outputs": [
    {
     "name": "stdout",
     "output_type": "stream",
     "text": [
      "dict_values(['TATA', 'Nexon', 2024, 'black'])\n",
      "{'brand': 'TATA', 'model': 'altroz', 'year': 2024, 'colours': ['red', 'white']}\n"
     ]
    }
   ],
   "source": [
    "thisDict={\n",
    "    \"brand\":\"TATA\",\n",
    "    \"model\":\"Nexon\",\n",
    "    \"year\":\"2018\",\n",
    "    \"year\":2024,\n",
    "    \"colours\":[\"red\",\"white\"]\n",
    "}\n",
    "\n",
    "X = thisDict.items()\n",
    "print(x)\n",
    "\n",
    "thisDict[\"model\"]=\"altroz\"\n",
    "\n",
    "print(thisDict)"
   ]
  },
  {
   "cell_type": "code",
   "execution_count": 112,
   "id": "1fac1869",
   "metadata": {},
   "outputs": [
    {
     "name": "stdout",
     "output_type": "stream",
     "text": [
      "no\n"
     ]
    }
   ],
   "source": [
    "thisDict={\n",
    "    \"brand\":\"TATA\",\n",
    "    \"model\":\"Nexon\",\n",
    "    \"year\":\"2018\",\n",
    "    \"year\":2024,\n",
    "    \"colours\":[\"red\",\"white\"]\n",
    "}\n",
    "\n",
    "if \"models\" in thisDict:\n",
    "    print(\"yes\")\n",
    "else:\n",
    "    print(\"no\")"
   ]
  },
  {
   "cell_type": "code",
   "execution_count": 123,
   "id": "0d2e54d5",
   "metadata": {},
   "outputs": [],
   "source": [
    "thisDict = {\n",
    "    \"brand\":\"TATA\",\n",
    "    \"model\":\"Nexon\",\n",
    "    \"year\":\"2018\",\n",
    "    \"year\":2024,\n",
    "    \"colours\":[\"red\",\"white\"]\n",
    "}"
   ]
  },
  {
   "cell_type": "code",
   "execution_count": 115,
   "id": "677312bb",
   "metadata": {},
   "outputs": [
    {
     "name": "stdout",
     "output_type": "stream",
     "text": [
      "{'brand': 'TATA', 'model': 'Nexon', 'year': 2023, 'colours': ['red', 'white']}\n"
     ]
    }
   ],
   "source": [
    "thisDict[\"year\"]=2023\n",
    "\n",
    "print(thisDict)"
   ]
  },
  {
   "cell_type": "code",
   "execution_count": 116,
   "id": "d23ae92c",
   "metadata": {},
   "outputs": [],
   "source": [
    "thisDict.update({\"year\":2022})"
   ]
  },
  {
   "cell_type": "code",
   "execution_count": 117,
   "id": "a99b846d",
   "metadata": {},
   "outputs": [
    {
     "name": "stdout",
     "output_type": "stream",
     "text": [
      "{'brand': 'TATA', 'model': 'Nexon', 'year': 2022, 'colours': ['red', 'white']}\n"
     ]
    }
   ],
   "source": [
    "print(thisDict)"
   ]
  },
  {
   "cell_type": "code",
   "execution_count": 120,
   "id": "a228bc3a",
   "metadata": {},
   "outputs": [
    {
     "name": "stdout",
     "output_type": "stream",
     "text": [
      "{'brand': 'TATA', 'model': 'Nexon', 'year': 2022}\n"
     ]
    }
   ],
   "source": [
    "thisDict.pop(\"colours\")\n",
    "\n",
    "print(thisDict)"
   ]
  },
  {
   "cell_type": "code",
   "execution_count": 133,
   "id": "c5e33f6b",
   "metadata": {},
   "outputs": [
    {
     "name": "stdout",
     "output_type": "stream",
     "text": [
      "{'brand': 'TATA', 'model': 'Nexon', 'year': 2024, 'colours': ['red', 'white']}\n"
     ]
    }
   ],
   "source": [
    "thisDict = {\n",
    "    \"brand\":\"TATA\",\n",
    "    \"model\":\"Nexon\",\n",
    "    \"year\":\"2018\",\n",
    "    \"year\":2024,\n",
    "    \"colours\":[\"red\",\"white\"]\n",
    "}\n",
    "\n",
    "print(thisDict)"
   ]
  },
  {
   "cell_type": "code",
   "execution_count": 122,
   "id": "0f7d57c4",
   "metadata": {},
   "outputs": [
    {
     "name": "stdout",
     "output_type": "stream",
     "text": [
      "{'brand': 'TATA', 'model': 'Nexon', 'year': 2024}\n"
     ]
    }
   ],
   "source": [
    "thisDict.popitem()\n",
    "\n",
    "print(thisDict)"
   ]
  },
  {
   "cell_type": "code",
   "execution_count": 126,
   "id": "a3686a5e",
   "metadata": {},
   "outputs": [
    {
     "name": "stdout",
     "output_type": "stream",
     "text": [
      "{'brand': 'TATA', 'year': 2024}\n"
     ]
    }
   ],
   "source": [
    "del thisDict[\"model\"]\n",
    "\n",
    "print(thisDict)"
   ]
  },
  {
   "cell_type": "code",
   "execution_count": 132,
   "id": "537d9068",
   "metadata": {},
   "outputs": [
    {
     "ename": "NameError",
     "evalue": "name 'thisDict' is not defined",
     "output_type": "error",
     "traceback": [
      "\u001b[0;31m---------------------------------------------------------------------------\u001b[0m",
      "\u001b[0;31mNameError\u001b[0m                                 Traceback (most recent call last)",
      "\u001b[0;32m/tmp/ipykernel_4615/1575532555.py\u001b[0m in \u001b[0;36m<module>\u001b[0;34m\u001b[0m\n\u001b[1;32m      1\u001b[0m \u001b[0;32mdel\u001b[0m \u001b[0mthisDict\u001b[0m\u001b[0;34m\u001b[0m\u001b[0;34m\u001b[0m\u001b[0m\n\u001b[1;32m      2\u001b[0m \u001b[0;34m\u001b[0m\u001b[0m\n\u001b[0;32m----> 3\u001b[0;31m \u001b[0mprint\u001b[0m\u001b[0;34m(\u001b[0m\u001b[0mthisDict\u001b[0m\u001b[0;34m)\u001b[0m\u001b[0;34m\u001b[0m\u001b[0;34m\u001b[0m\u001b[0m\n\u001b[0m",
      "\u001b[0;31mNameError\u001b[0m: name 'thisDict' is not defined"
     ]
    }
   ],
   "source": [
    "del thisDict\n",
    "\n",
    "print(thisDict)"
   ]
  },
  {
   "cell_type": "code",
   "execution_count": 134,
   "id": "2214701a",
   "metadata": {},
   "outputs": [
    {
     "name": "stdout",
     "output_type": "stream",
     "text": [
      "{}\n"
     ]
    }
   ],
   "source": [
    "thisDict.clear()\n",
    "\n",
    "print(thisDict)"
   ]
  },
  {
   "cell_type": "code",
   "execution_count": 158,
   "id": "48a27b8a",
   "metadata": {},
   "outputs": [
    {
     "name": "stdout",
     "output_type": "stream",
     "text": [
      "{'brand': 'TATA', 'model': 'Nexon', 'year': 2024, 'colours': ['red', 'white']}\n"
     ]
    }
   ],
   "source": [
    "# loop through a dictinory\n",
    "\n",
    "thisDict = {\n",
    "    \"brand\":\"TATA\",\n",
    "    \"model\":\"Nexon\",\n",
    "    \"year\":\"2018\",\n",
    "    \"year\":2024,\n",
    "    \"colours\":[\"red\",\"white\"]\n",
    "}\n",
    "\n",
    "print(thisDict)"
   ]
  },
  {
   "cell_type": "code",
   "execution_count": 136,
   "id": "08359f8a",
   "metadata": {},
   "outputs": [
    {
     "name": "stdout",
     "output_type": "stream",
     "text": [
      "brand\n",
      "model\n",
      "year\n",
      "colours\n"
     ]
    }
   ],
   "source": [
    "for x in thisDict:\n",
    "    print(x)"
   ]
  },
  {
   "cell_type": "code",
   "execution_count": 137,
   "id": "885f4174",
   "metadata": {},
   "outputs": [
    {
     "name": "stdout",
     "output_type": "stream",
     "text": [
      "TATA\n",
      "Nexon\n",
      "2024\n",
      "['red', 'white']\n"
     ]
    }
   ],
   "source": [
    "for x in thisDict:\n",
    "    print(thisDict[x])"
   ]
  },
  {
   "cell_type": "code",
   "execution_count": 138,
   "id": "dda661bf",
   "metadata": {},
   "outputs": [
    {
     "name": "stdout",
     "output_type": "stream",
     "text": [
      "TATA\n",
      "Nexon\n",
      "2024\n",
      "['red', 'white']\n"
     ]
    }
   ],
   "source": [
    "for x in thisDict.values():\n",
    "    print(x)"
   ]
  },
  {
   "cell_type": "code",
   "execution_count": 140,
   "id": "2106cb9b",
   "metadata": {},
   "outputs": [
    {
     "name": "stdout",
     "output_type": "stream",
     "text": [
      "brand\n",
      "model\n",
      "year\n",
      "colours\n"
     ]
    }
   ],
   "source": [
    "for x in thisDict.keys():\n",
    "    print(x)"
   ]
  },
  {
   "cell_type": "code",
   "execution_count": 141,
   "id": "a310037e",
   "metadata": {},
   "outputs": [
    {
     "name": "stdout",
     "output_type": "stream",
     "text": [
      "brand TATA\n",
      "model Nexon\n",
      "year 2024\n",
      "colours ['red', 'white']\n"
     ]
    }
   ],
   "source": [
    "for x, y in thisDict.items():\n",
    "    print(x,y)"
   ]
  },
  {
   "cell_type": "code",
   "execution_count": 142,
   "id": "ceaaff4b",
   "metadata": {},
   "outputs": [
    {
     "name": "stdout",
     "output_type": "stream",
     "text": [
      "{'brand': 'TATA', 'model': 'Nexon', 'year': 2024, 'colours': ['red', 'white']}\n"
     ]
    }
   ],
   "source": [
    "newDict = thisDict\n",
    "\n",
    "print(newDict)"
   ]
  },
  {
   "cell_type": "code",
   "execution_count": 145,
   "id": "501c8912",
   "metadata": {},
   "outputs": [
    {
     "name": "stdout",
     "output_type": "stream",
     "text": [
      "0\n"
     ]
    }
   ],
   "source": [
    "newDict = 0\n",
    "\n",
    "print(newDict)"
   ]
  },
  {
   "cell_type": "code",
   "execution_count": 146,
   "id": "d270dbc6",
   "metadata": {},
   "outputs": [],
   "source": [
    "newDict = dict(thisDict)"
   ]
  },
  {
   "cell_type": "code",
   "execution_count": 147,
   "id": "609dfa7a",
   "metadata": {},
   "outputs": [
    {
     "data": {
      "text/plain": [
       "{'brand': 'TATA', 'model': 'Nexon', 'year': 2024, 'colours': ['red', 'white']}"
      ]
     },
     "execution_count": 147,
     "metadata": {},
     "output_type": "execute_result"
    }
   ],
   "source": [
    "newDict"
   ]
  },
  {
   "cell_type": "code",
   "execution_count": 149,
   "id": "b4cdc003",
   "metadata": {},
   "outputs": [
    {
     "name": "stdout",
     "output_type": "stream",
     "text": [
      "{'car1': {'brand': 'TATA', 'model': 'Nexon', 'year': 2024, 'colours': ['red', 'white']}, 'car2': {'brand': 'TATA', 'model': 'Nexon', 'year': 2024, 'colours': ['red', 'white']}, 'car3': {'brand': 'TATA', 'model': 'Nexon', 'year': 2024, 'colours': ['red', 'white']}, 'car4': {'brand': 'TATA', 'model': 'Nexon', 'year': 2024, 'colours': ['red', 'white']}, 'car5': {'brand': 'TATA', 'model': 'Nexon', 'year': 2024, 'colours': ['red', 'white']}, 'car6': {'brand': 'TATA', 'model': 'Nexon', 'year': 2024, 'colours': ['red', 'white']}}\n"
     ]
    }
   ],
   "source": [
    "thisDict = {\n",
    "    \"car1\":{\n",
    "        \"brand\":\"TATA\",\n",
    "        \"model\":\"Nexon\",\n",
    "        \"year\":2024,\n",
    "        \"colours\":[\"red\",\"white\"]\n",
    "    },\n",
    "    \"car2\":{\n",
    "        \"brand\":\"TATA\",\n",
    "        \"model\":\"Nexon\",\n",
    "        \"year\":2024,\n",
    "        \"colours\":[\"red\",\"white\"]\n",
    "    },\n",
    "    \"car3\":{\n",
    "        \"brand\":\"TATA\",\n",
    "        \"model\":\"Nexon\",\n",
    "        \"year\":2024,\n",
    "        \"colours\":[\"red\",\"white\"]\n",
    "    },\n",
    "    \"car4\":{\n",
    "        \"brand\":\"TATA\",\n",
    "        \"model\":\"Nexon\",\n",
    "        \"year\":2024,\n",
    "        \"colours\":[\"red\",\"white\"]\n",
    "    },\n",
    "    \"car5\":{\n",
    "        \"brand\":\"TATA\",\n",
    "        \"model\":\"Nexon\",\n",
    "        \"year\":2024,\n",
    "        \"colours\":[\"red\",\"white\"]\n",
    "    },\n",
    "    \"car6\":{\n",
    "        \"brand\":\"TATA\",\n",
    "        \"model\":\"Nexon\",\n",
    "        \"year\":2024,\n",
    "        \"colours\":[\"red\",\"white\"]\n",
    "    }\n",
    "    \n",
    "    \n",
    "}\n",
    "\n",
    "print(thisDict)"
   ]
  },
  {
   "cell_type": "code",
   "execution_count": 157,
   "id": "b8c74ad2",
   "metadata": {},
   "outputs": [
    {
     "name": "stdout",
     "output_type": "stream",
     "text": [
      "{'car1': {'brand': 'TATA', 'model': 'Nexon', 'year': 2024, 'colours': ['red', 'white']}, 'car2': {'brand': 'TATA', 'model': 'Nexon', 'year': 2024, 'colours': ['red', 'white']}, 'car3': {'brand': 'TATA', 'model': 'Nexon', 'year': 2024, 'colours': ['red', 'white']}}\n"
     ]
    }
   ],
   "source": [
    "car1={\n",
    "        \"brand\":\"TATA\",\n",
    "        \"model\":\"Nexon\",\n",
    "        \"year\":2024,\n",
    "        \"colours\":[\"red\",\"white\"]\n",
    "}\n",
    "car2={\n",
    "        \"brand\":\"TATA\",\n",
    "        \"model\":\"Nexon\",\n",
    "        \"year\":2024,\n",
    "        \"colours\":[\"red\",\"white\"]\n",
    "}\n",
    "car3={\n",
    "        \"brand\":\"TATA\",\n",
    "        \"model\":\"Nexon\",\n",
    "        \"year\":2024,\n",
    "        \"colours\":[\"red\",\"white\"]\n",
    "}\n",
    "\n",
    "Dfile={\n",
    "    \"car1\":car1,\n",
    "    \"car2\":car2,\n",
    "    \"car3\":car3\n",
    "}\n",
    "\n",
    "print(Dfile)"
   ]
  },
  {
   "cell_type": "code",
   "execution_count": 154,
   "id": "71fac344",
   "metadata": {},
   "outputs": [
    {
     "name": "stdout",
     "output_type": "stream",
     "text": [
      "Nexon\n"
     ]
    }
   ],
   "source": [
    "print(Dfile[\"car3\"][\"model\"])"
   ]
  },
  {
   "cell_type": "code",
   "execution_count": 155,
   "id": "f4425445",
   "metadata": {},
   "outputs": [
    {
     "name": "stdout",
     "output_type": "stream",
     "text": [
      "{'key1': 0, 'key2': 0, 'key3': 0}\n"
     ]
    }
   ],
   "source": [
    "## fromkeys\n",
    "\n",
    "x = ('key1', 'key2', 'key3')\n",
    "y = 0\n",
    "\n",
    "thisDict = dict.fromkeys(x, y)\n",
    "\n",
    "print(thisDict)"
   ]
  },
  {
   "cell_type": "code",
   "execution_count": 156,
   "id": "acfe37be",
   "metadata": {},
   "outputs": [
    {
     "name": "stdout",
     "output_type": "stream",
     "text": [
      "{'key1': None, 'key2': None, 'key3': None}\n"
     ]
    }
   ],
   "source": [
    "## fromkeys\n",
    "\n",
    "x = ('key1', 'key2', 'key3')\n",
    "\n",
    "thisDict = dict.fromkeys(x)\n",
    "\n",
    "print(thisDict)"
   ]
  },
  {
   "cell_type": "code",
   "execution_count": 159,
   "id": "f7b93ac7",
   "metadata": {},
   "outputs": [
    {
     "name": "stdout",
     "output_type": "stream",
     "text": [
      "Nexon\n"
     ]
    }
   ],
   "source": [
    "print(thisDict[\"model\"])"
   ]
  },
  {
   "cell_type": "code",
   "execution_count": 160,
   "id": "8f6f0595",
   "metadata": {},
   "outputs": [
    {
     "name": "stdout",
     "output_type": "stream",
     "text": [
      "Nexon\n"
     ]
    }
   ],
   "source": [
    "print(thisDict.get(\"model\"))"
   ]
  },
  {
   "cell_type": "code",
   "execution_count": 161,
   "id": "da03de51",
   "metadata": {},
   "outputs": [
    {
     "data": {
      "text/plain": [
       "'\\n\\nequals: a == b\\nNot equals: a !=b\\nless than: a < b\\nless than or equal to: a <= b\\nGreater than: a > b\\nGreater than or equal to: a >= b\\n\\n'"
      ]
     },
     "execution_count": 161,
     "metadata": {},
     "output_type": "execute_result"
    }
   ],
   "source": [
    "## python if......Else\n",
    "\"\"\"\n",
    "\n",
    "equals: a == b\n",
    "Not equals: a !=b\n",
    "less than: a < b\n",
    "less than or equal to: a <= b\n",
    "Greater than: a > b\n",
    "Greater than or equal to: a >= b\n",
    "\n",
    "\"\"\"\n"
   ]
  },
  {
   "cell_type": "code",
   "execution_count": 165,
   "id": "ded044f0",
   "metadata": {},
   "outputs": [
    {
     "name": "stdout",
     "output_type": "stream",
     "text": [
      "yes\n"
     ]
    }
   ],
   "source": [
    "a = 449\n",
    "b = 47\n",
    "\n",
    "if a > b:\n",
    "    print(\"yes\")"
   ]
  },
  {
   "cell_type": "code",
   "execution_count": 168,
   "id": "7c3fa986",
   "metadata": {},
   "outputs": [
    {
     "name": "stdout",
     "output_type": "stream",
     "text": [
      "a and b are equal\n"
     ]
    }
   ],
   "source": [
    "## else if\n",
    "\n",
    "a = 449\n",
    "b = 449\n",
    "\n",
    "if a > b:\n",
    "    print(\"b is greater than a\")\n",
    "elif a == b:\n",
    "    print(\"a and b are equal\")"
   ]
  },
  {
   "cell_type": "code",
   "execution_count": 169,
   "id": "bb1e052c",
   "metadata": {},
   "outputs": [
    {
     "name": "stdout",
     "output_type": "stream",
     "text": [
      "a is greater than b\n"
     ]
    }
   ],
   "source": [
    "## else\n",
    "\n",
    "a = 200\n",
    "b = 33\n",
    "\n",
    "if b > a:\n",
    "    print(\"b is greater than a\")\n",
    "elif a == b:\n",
    "    print(\"a and b are equal\")\n",
    "else:\n",
    "    print(\"a is greater than b\")"
   ]
  },
  {
   "cell_type": "code",
   "execution_count": 170,
   "id": "02c8653f",
   "metadata": {},
   "outputs": [
    {
     "name": "stdout",
     "output_type": "stream",
     "text": [
      "a is greater than b\n"
     ]
    }
   ],
   "source": [
    "a=200\n",
    "b=33\n",
    "\n",
    "if a>b:\n",
    "    print(\"a is greater than b\")\n",
    "else:\n",
    "    print(\"b is greater than a\")"
   ]
  },
  {
   "cell_type": "code",
   "execution_count": 171,
   "id": "e05ae9c1",
   "metadata": {},
   "outputs": [
    {
     "name": "stdout",
     "output_type": "stream",
     "text": [
      " a is greater than b\n"
     ]
    }
   ],
   "source": [
    "## short hand if\n",
    "\n",
    "if a > b: print(\" a is greater than b\")"
   ]
  },
  {
   "cell_type": "code",
   "execution_count": 172,
   "id": "5bc5ceaf",
   "metadata": {},
   "outputs": [
    {
     "name": "stdout",
     "output_type": "stream",
     "text": [
      "a is greater than b\n"
     ]
    }
   ],
   "source": [
    "## short hand if else\n",
    "\n",
    "print(\"a is greater than b\") if a > b else print(\"b is greater than a\")"
   ]
  },
  {
   "cell_type": "code",
   "execution_count": 175,
   "id": "433785d2",
   "metadata": {},
   "outputs": [
    {
     "name": "stdout",
     "output_type": "stream",
     "text": [
      "a is equal to b\n"
     ]
    }
   ],
   "source": [
    "a = 3300\n",
    "b = 3300\n",
    "\n",
    "print(\"a is greater than b\") if a > b else print(\"a is equal to b\") if a == b else print(\"b is greater than a\")"
   ]
  },
  {
   "cell_type": "code",
   "execution_count": 176,
   "id": "980c25cf",
   "metadata": {},
   "outputs": [
    {
     "name": "stdout",
     "output_type": "stream",
     "text": [
      "Both conditions are True\n"
     ]
    }
   ],
   "source": [
    "## and\n",
    "\n",
    "a = 200\n",
    "b = 33\n",
    "c = 5656\n",
    "\n",
    "if a > b and c > a:\n",
    "    print(\"Both conditions are True\")"
   ]
  },
  {
   "cell_type": "code",
   "execution_count": 178,
   "id": "b9d37151",
   "metadata": {},
   "outputs": [
    {
     "name": "stdout",
     "output_type": "stream",
     "text": [
      "At least one of the conditions is true\n"
     ]
    }
   ],
   "source": [
    "## or\n",
    "\n",
    "a = 200\n",
    "b = 33\n",
    "c = 5656\n",
    "\n",
    "if a > b or a > c:\n",
    "    print(\"At least one of the conditions is true\")"
   ]
  },
  {
   "cell_type": "code",
   "execution_count": 179,
   "id": "15ad8700",
   "metadata": {},
   "outputs": [
    {
     "name": "stdout",
     "output_type": "stream",
     "text": [
      " a is not greater than b\n"
     ]
    }
   ],
   "source": [
    "## not\n",
    "\n",
    "a = 33\n",
    "b = 200\n",
    "\n",
    "if not a > b:\n",
    "    print(\" a is not greater than b\")"
   ]
  },
  {
   "cell_type": "code",
   "execution_count": 180,
   "id": "d230a2ad",
   "metadata": {},
   "outputs": [
    {
     "name": "stdout",
     "output_type": "stream",
     "text": [
      "above two,\n",
      "and also above 20!\n"
     ]
    }
   ],
   "source": [
    "## nester if \n",
    "\n",
    "q = 49\n",
    "\n",
    "if q > 2:\n",
    "    print(\"above two,\")\n",
    "    if q > 20:\n",
    "        print(\"and also above 20!\")\n",
    "    else:\n",
    "        print(\"but not above 20.\")"
   ]
  },
  {
   "cell_type": "code",
   "execution_count": 181,
   "id": "f61110f2",
   "metadata": {},
   "outputs": [],
   "source": [
    "a = 30\n",
    "b = 60\n",
    "\n",
    "if b > a:\n",
    "    pass"
   ]
  },
  {
   "cell_type": "code",
   "execution_count": 183,
   "id": "35d035d4",
   "metadata": {},
   "outputs": [
    {
     "name": "stdout",
     "output_type": "stream",
     "text": [
      "1\n",
      "2\n",
      "3\n",
      "4\n",
      "5\n",
      "6\n",
      "7\n",
      "8\n"
     ]
    }
   ],
   "source": [
    "## while loop\n",
    "\n",
    "i = 1\n",
    "\n",
    "while i <= 8:\n",
    "    print(i)\n",
    "    i+=1"
   ]
  },
  {
   "cell_type": "code",
   "execution_count": 185,
   "id": "dd7bd09d",
   "metadata": {},
   "outputs": [
    {
     "name": "stdout",
     "output_type": "stream",
     "text": [
      "1\n",
      "2\n",
      "3\n",
      "4\n",
      "5\n"
     ]
    }
   ],
   "source": [
    "## break\n",
    "\n",
    "\n",
    "i = 1\n",
    "\n",
    "while i < 9:\n",
    "    print(i)\n",
    "    if i == 5:\n",
    "        break\n",
    "    i += 1 ## i = i + 1"
   ]
  },
  {
   "cell_type": "code",
   "execution_count": 189,
   "id": "b7339989",
   "metadata": {},
   "outputs": [
    {
     "name": "stdout",
     "output_type": "stream",
     "text": [
      "1\n",
      "2\n",
      "3\n",
      "5\n",
      "6\n",
      "7\n",
      "8\n",
      "9\n"
     ]
    }
   ],
   "source": [
    "## continue\n",
    "\n",
    "i = 0\n",
    "\n",
    "while i < 9:\n",
    "    i = i + 1\n",
    "    if i == 4:\n",
    "        continue\n",
    "    print(i)"
   ]
  },
  {
   "cell_type": "code",
   "execution_count": 191,
   "id": "f23482d0",
   "metadata": {},
   "outputs": [
    {
     "name": "stdout",
     "output_type": "stream",
     "text": [
      "1\n",
      "2\n",
      "3\n",
      "4\n",
      "5\n",
      "\n",
      "i is no longer less than 6\n"
     ]
    }
   ],
   "source": [
    "## else\n",
    "\n",
    "i = 1 \n",
    "\n",
    "\n",
    "while i < 6:\n",
    "    print(i)\n",
    "    i += 1\n",
    "else:\n",
    "    print(\"\\ni is no longer less than 6\")"
   ]
  },
  {
   "cell_type": "code",
   "execution_count": null,
   "id": "0432b714",
   "metadata": {},
   "outputs": [],
   "source": [
    "## for loop"
   ]
  },
  {
   "cell_type": "code",
   "execution_count": 1,
   "id": "150f577e",
   "metadata": {},
   "outputs": [
    {
     "name": "stdout",
     "output_type": "stream",
     "text": [
      "apple\n",
      "banana\n",
      "cherry\n"
     ]
    }
   ],
   "source": [
    "fruits = [\"apple\", \"banana\", \"cherry\"]\n",
    "for x in fruits:\n",
    "    print(x)"
   ]
  },
  {
   "cell_type": "code",
   "execution_count": 2,
   "id": "ea174c1e",
   "metadata": {},
   "outputs": [
    {
     "name": "stdout",
     "output_type": "stream",
     "text": [
      "b\n",
      "a\n",
      "n\n",
      "a\n",
      "n\n",
      "a\n"
     ]
    }
   ],
   "source": [
    "for x in \"banana\":\n",
    "    print(x)"
   ]
  },
  {
   "cell_type": "code",
   "execution_count": 4,
   "id": "f351b466",
   "metadata": {},
   "outputs": [
    {
     "name": "stdout",
     "output_type": "stream",
     "text": [
      "apple\n",
      "banana\n"
     ]
    }
   ],
   "source": [
    "for x in fruits:\n",
    "    print(x)\n",
    "    if x == \"banana\":\n",
    "        break"
   ]
  },
  {
   "cell_type": "code",
   "execution_count": 6,
   "id": "d50512c7",
   "metadata": {},
   "outputs": [
    {
     "name": "stdout",
     "output_type": "stream",
     "text": [
      "apple\n"
     ]
    }
   ],
   "source": [
    "for x in fruits:\n",
    "    if x == \"banana\":\n",
    "        break\n",
    "    print(x)"
   ]
  },
  {
   "cell_type": "code",
   "execution_count": 7,
   "id": "3952bcc5",
   "metadata": {},
   "outputs": [
    {
     "name": "stdout",
     "output_type": "stream",
     "text": [
      "apple\n",
      "cherry\n"
     ]
    }
   ],
   "source": [
    "for x in fruits:\n",
    "    if x == \"banana\":\n",
    "        continue\n",
    "    print(x)"
   ]
  },
  {
   "cell_type": "code",
   "execution_count": 8,
   "id": "2a3abad8",
   "metadata": {},
   "outputs": [
    {
     "name": "stdout",
     "output_type": "stream",
     "text": [
      "0\n",
      "1\n",
      "2\n",
      "3\n",
      "4\n",
      "5\n"
     ]
    }
   ],
   "source": [
    "for i in range(6):\n",
    "    print(i)"
   ]
  },
  {
   "cell_type": "code",
   "execution_count": 9,
   "id": "a1861bb0",
   "metadata": {},
   "outputs": [
    {
     "name": "stdout",
     "output_type": "stream",
     "text": [
      "2\n",
      "3\n",
      "4\n",
      "5\n"
     ]
    }
   ],
   "source": [
    "for i in range(2, 6):\n",
    "    print(i)"
   ]
  },
  {
   "cell_type": "code",
   "execution_count": 11,
   "id": "de7519e9",
   "metadata": {},
   "outputs": [
    {
     "name": "stdout",
     "output_type": "stream",
     "text": [
      "2\n",
      "5\n",
      "8\n",
      "11\n",
      "14\n",
      "17\n",
      "20\n",
      "23\n",
      "26\n",
      "29\n"
     ]
    }
   ],
   "source": [
    "for i in range(2, 30, 3):\n",
    "    print(i)"
   ]
  },
  {
   "cell_type": "code",
   "execution_count": 12,
   "id": "d7108b81",
   "metadata": {},
   "outputs": [
    {
     "name": "stdout",
     "output_type": "stream",
     "text": [
      "0\n",
      "1\n",
      "2\n",
      "3\n",
      "4\n",
      "5\n",
      "finally\n"
     ]
    }
   ],
   "source": [
    "for x in range(6):\n",
    "    print(x)\n",
    "else: \n",
    "    print(\"finally\")"
   ]
  },
  {
   "cell_type": "code",
   "execution_count": 13,
   "id": "26c27046",
   "metadata": {},
   "outputs": [
    {
     "name": "stdout",
     "output_type": "stream",
     "text": [
      "0\n",
      "1\n",
      "2\n",
      "3\n",
      "4\n",
      "5\n"
     ]
    }
   ],
   "source": [
    "for x in range(10):\n",
    "    if x == 6: break\n",
    "    print(x)\n",
    "else:\n",
    "    print(\"finally\")"
   ]
  },
  {
   "cell_type": "code",
   "execution_count": 16,
   "id": "252a4f9b",
   "metadata": {},
   "outputs": [],
   "source": [
    "fruits = [\"apple\", \"banana\", \"cherry\"]\n",
    "tropical = [\"graph\", \"Kiwi\", \"blackcurrent\"]"
   ]
  },
  {
   "cell_type": "code",
   "execution_count": 17,
   "id": "8ba65368",
   "metadata": {},
   "outputs": [
    {
     "name": "stdout",
     "output_type": "stream",
     "text": [
      "apple graph\n",
      "apple Kiwi\n",
      "apple blackcurrent\n",
      "banana graph\n",
      "banana Kiwi\n",
      "banana blackcurrent\n",
      "cherry graph\n",
      "cherry Kiwi\n",
      "cherry blackcurrent\n"
     ]
    }
   ],
   "source": [
    "for x in fruits:\n",
    "    for y in tropical:\n",
    "        print(x,y)"
   ]
  },
  {
   "cell_type": "code",
   "execution_count": 18,
   "id": "d89d4cab",
   "metadata": {},
   "outputs": [],
   "source": [
    "for i in range(3):\n",
    "    pass"
   ]
  },
  {
   "cell_type": "code",
   "execution_count": 19,
   "id": "8f03cb45",
   "metadata": {},
   "outputs": [],
   "source": [
    "## funcion\n",
    "\n",
    "#Creating function\n",
    "\n",
    "def myFunction():\n",
    "    print(\"Hello\")"
   ]
  },
  {
   "cell_type": "code",
   "execution_count": 20,
   "id": "9c4764c5",
   "metadata": {},
   "outputs": [
    {
     "name": "stdout",
     "output_type": "stream",
     "text": [
      "Hello Amey\n"
     ]
    }
   ],
   "source": [
    "#calling function which we have created\n",
    "\n",
    "def myFunction():\n",
    "    print(\"Hello Amey\")\n",
    "\n",
    "myFunction()"
   ]
  },
  {
   "cell_type": "code",
   "execution_count": 26,
   "id": "773d5436",
   "metadata": {},
   "outputs": [
    {
     "name": "stdout",
     "output_type": "stream",
     "text": [
      "Amey Didolkar\n",
      "Sayali Didolkar\n"
     ]
    }
   ],
   "source": [
    "## Arguments\n",
    "\n",
    "def myFunction(fName):\n",
    "    print(fName + \" Didolkar\")\n",
    "    \n",
    "myFunction(\"Amey\")\n",
    "myFunction(\"Sayali\")\n"
   ]
  },
  {
   "cell_type": "code",
   "execution_count": 31,
   "id": "9bce34de",
   "metadata": {},
   "outputs": [
    {
     "name": "stdout",
     "output_type": "stream",
     "text": [
      "Amey Didolkar\n"
     ]
    }
   ],
   "source": [
    "## Number of Arguments\n",
    "\n",
    "def myFunction(fname, lname):\n",
    "    print(fname+ \" \" + lname)\n",
    "\n",
    "myFunction(\"Amey\",\"Didolkar\")"
   ]
  },
  {
   "cell_type": "code",
   "execution_count": 36,
   "id": "d0f7d35b",
   "metadata": {},
   "outputs": [
    {
     "name": "stdout",
     "output_type": "stream",
     "text": [
      "My friends name are: Abhijeet\n"
     ]
    }
   ],
   "source": [
    "# Arbitrary Arguments, *args\n",
    "\n",
    "## If you do not know how many arguments that will be passed into your function, add a * before the parameter name in the function definition.\n",
    "\n",
    "\n",
    "def myFunction(*name):\n",
    "    print(\"My friends name are: \" +name[0])\n",
    "\n",
    "myFunction(\"Abhijeet\", \"Alvin\", \"Sarang\")"
   ]
  },
  {
   "cell_type": "code",
   "execution_count": 37,
   "id": "c0c83991",
   "metadata": {},
   "outputs": [
    {
     "name": "stdout",
     "output_type": "stream",
     "text": [
      "the youngest friend is Abhijeet\n"
     ]
    }
   ],
   "source": [
    "## keyword arguments\n",
    "\n",
    "def myFunction(friend3, friend2, friend1):\n",
    "    print(\"the youngest friend is \"+ friend3)\n",
    "\n",
    "myFunction(friend3 = \"Abhijeet\", friend2 = \"Sarang\", friend1 = \"Alvin\")"
   ]
  },
  {
   "cell_type": "code",
   "execution_count": 39,
   "id": "7986be46",
   "metadata": {},
   "outputs": [
    {
     "name": "stdout",
     "output_type": "stream",
     "text": [
      "His name is pratik\n"
     ]
    }
   ],
   "source": [
    "## Arbitrary Keyword Arguments, **kwargs\n",
    "\n",
    "\n",
    "def myfunction(**friends):\n",
    "    print(\"His name is \" +friends[\"name2\"])\n",
    "\n",
    "myfunction(name=\"abhijeet\", name2=\"pratik\")"
   ]
  },
  {
   "cell_type": "code",
   "execution_count": 42,
   "id": "ca511f1e",
   "metadata": {},
   "outputs": [
    {
     "name": "stdout",
     "output_type": "stream",
     "text": [
      "I live in India\n",
      "I live in UK\n",
      "I live in Germany\n"
     ]
    }
   ],
   "source": [
    "#Default parameter\n",
    "\n",
    "def myfunction(country=\"India\"):\n",
    "    print(\"I live in \" +country)\n",
    "\n",
    "myfunction()\n",
    "myfunction(\"UK\")\n",
    "myfunction(\"Germany\")"
   ]
  },
  {
   "cell_type": "code",
   "execution_count": 44,
   "id": "842122d2",
   "metadata": {},
   "outputs": [
    {
     "name": "stdout",
     "output_type": "stream",
     "text": [
      "apple\n",
      "banana\n",
      "cherry\n"
     ]
    }
   ],
   "source": [
    "## Passing a List as an Argument\n",
    "\n",
    "def myfunction(food):\n",
    "    for x in food:\n",
    "        print(x)\n",
    "\n",
    "fruits = [\"apple\", \"banana\", \"cherry\"]\n",
    "    \n",
    "myfunction(fruits)"
   ]
  },
  {
   "cell_type": "code",
   "execution_count": 46,
   "id": "2ae5daeb",
   "metadata": {},
   "outputs": [
    {
     "name": "stdout",
     "output_type": "stream",
     "text": [
      "15\n",
      "40\n",
      "20\n",
      "55\n",
      "370\n",
      "277390\n",
      "100\n"
     ]
    }
   ],
   "source": [
    "## return value\n",
    "\n",
    "def myfunction(x):\n",
    "    return 5 * x\n",
    "\n",
    "print(myfunction(3))\n",
    "print(myfunction(8))\n",
    "print(myfunction(4))\n",
    "print(myfunction(11))\n",
    "print(myfunction(74))\n",
    "print(myfunction(55478))\n",
    "print(myfunction(20))"
   ]
  },
  {
   "cell_type": "code",
   "execution_count": 66,
   "id": "ec95a658",
   "metadata": {},
   "outputs": [
    {
     "name": "stdout",
     "output_type": "stream",
     "text": [
      "\n",
      "\n",
      "Recursion Example Results\n",
      "1\n",
      "3\n",
      "6\n",
      "10\n",
      "15\n",
      "21\n",
      "28\n",
      "36\n"
     ]
    },
    {
     "data": {
      "text/plain": [
       "36"
      ]
     },
     "execution_count": 66,
     "metadata": {},
     "output_type": "execute_result"
    }
   ],
   "source": [
    "## Recursion\n",
    "\n",
    "def myfunction(k):\n",
    "    if(k>0):\n",
    "        result = k + myfunction(k-1)\n",
    "        print(result)\n",
    "    else:\n",
    "        result = 0\n",
    "    return result\n",
    "\n",
    "print(\"\\n\\nRecursion Example Results\")\n",
    "myfunction(8)"
   ]
  },
  {
   "cell_type": "code",
   "execution_count": null,
   "id": "894a0f69",
   "metadata": {},
   "outputs": [],
   "source": [
    "# Lambda\n",
    "\n",
    "## A lambda function is a small anonymous function\n",
    "## A lambda function can take any number of arguments, but can only have one expression.\n"
   ]
  },
  {
   "cell_type": "code",
   "execution_count": 4,
   "id": "37a2c209",
   "metadata": {},
   "outputs": [
    {
     "name": "stdout",
     "output_type": "stream",
     "text": [
      "15\n"
     ]
    }
   ],
   "source": [
    "x = lambda a :a + 10\n",
    "print(x(5))"
   ]
  },
  {
   "cell_type": "code",
   "execution_count": 8,
   "id": "552a85bf",
   "metadata": {},
   "outputs": [
    {
     "name": "stdout",
     "output_type": "stream",
     "text": [
      "30\n"
     ]
    }
   ],
   "source": [
    "x = lambda a,b : a * b\n",
    "print(x(5 , 6))"
   ]
  },
  {
   "cell_type": "code",
   "execution_count": 9,
   "id": "644f7906",
   "metadata": {},
   "outputs": [
    {
     "name": "stdout",
     "output_type": "stream",
     "text": [
      "24\n"
     ]
    }
   ],
   "source": [
    "x = lambda a, b, c : a+b+c\n",
    "print(x(8,8,8))"
   ]
  },
  {
   "cell_type": "code",
   "execution_count": 10,
   "id": "cc932d49",
   "metadata": {},
   "outputs": [],
   "source": [
    "## why use lambda function\n",
    "\n",
    "## The power of lambda is better shown when you use them as an anonymous function inside another function."
   ]
  },
  {
   "cell_type": "code",
   "execution_count": 14,
   "id": "85789873",
   "metadata": {},
   "outputs": [
    {
     "name": "stdout",
     "output_type": "stream",
     "text": [
      "30\n"
     ]
    }
   ],
   "source": [
    "def myfunction(n):\n",
    "    return lambda a : a * n\n",
    "\n",
    "newfunction = myfunction(3)\n",
    "\n",
    "print(newfunction(10))"
   ]
  },
  {
   "cell_type": "code",
   "execution_count": 15,
   "id": "7aa59f8a",
   "metadata": {},
   "outputs": [
    {
     "name": "stdout",
     "output_type": "stream",
     "text": [
      "900\n",
      "1600\n"
     ]
    }
   ],
   "source": [
    "def myfunction(n):\n",
    "    return lambda a : a * n\n",
    "\n",
    "newfunction = myfunction(30)\n",
    "newfunction2 = myfunction(40)\n",
    "\n",
    "print(newfunction(30))\n",
    "print(newfunction2(40))"
   ]
  },
  {
   "cell_type": "code",
   "execution_count": 22,
   "id": "3a1ea406",
   "metadata": {},
   "outputs": [
    {
     "name": "stdout",
     "output_type": "stream",
     "text": [
      "['Ford', 'Volvo', 'BMW']\n"
     ]
    }
   ],
   "source": [
    "## python array\n",
    "\n",
    "cars = [\"Ford\", \"Volvo\", \"BMW\"]\n",
    "\n",
    "print(cars)"
   ]
  },
  {
   "cell_type": "code",
   "execution_count": 18,
   "id": "7ac8af22",
   "metadata": {},
   "outputs": [
    {
     "name": "stdout",
     "output_type": "stream",
     "text": [
      "Ford\n"
     ]
    }
   ],
   "source": [
    "x = cars[0]\n",
    "print(x)"
   ]
  },
  {
   "cell_type": "code",
   "execution_count": 23,
   "id": "01d7b848",
   "metadata": {},
   "outputs": [],
   "source": [
    "cars[2] = \"Toyota\""
   ]
  },
  {
   "cell_type": "code",
   "execution_count": 38,
   "id": "e77d3bb8",
   "metadata": {},
   "outputs": [
    {
     "name": "stdout",
     "output_type": "stream",
     "text": [
      "['Ford', 'Volvo', 'Toyota', 'BMW']\n"
     ]
    }
   ],
   "source": [
    "print(cars)"
   ]
  },
  {
   "cell_type": "code",
   "execution_count": 30,
   "id": "c92e3664",
   "metadata": {},
   "outputs": [
    {
     "name": "stdout",
     "output_type": "stream",
     "text": [
      "['Ford', 'Volvo', 'Toyota', 'BMW', 'BMW', 'BMW', 'BMW', 'BMW']\n"
     ]
    }
   ],
   "source": [
    "cars.append(\"BMW\")\n",
    "print(cars)"
   ]
  },
  {
   "cell_type": "code",
   "execution_count": 37,
   "id": "203a1672",
   "metadata": {},
   "outputs": [
    {
     "data": {
      "text/plain": [
       "'BMW'"
      ]
     },
     "execution_count": 37,
     "metadata": {},
     "output_type": "execute_result"
    }
   ],
   "source": [
    "cars.pop(3)"
   ]
  },
  {
   "cell_type": "code",
   "execution_count": 39,
   "id": "78e85fa8",
   "metadata": {},
   "outputs": [],
   "source": [
    "## python classes and object\n",
    "\n",
    "## Python is an object oriented programming language.\n",
    "\n",
    "## Almost everything in Python is an object, with its properties and methods.\n",
    "\n",
    "## A Class is like an object constructor, or a \"blueprint\" for creating objects.\n"
   ]
  },
  {
   "cell_type": "code",
   "execution_count": 40,
   "id": "50c3ea9b",
   "metadata": {},
   "outputs": [],
   "source": [
    "class MyClass:\n",
    "    x =3"
   ]
  },
  {
   "cell_type": "code",
   "execution_count": 41,
   "id": "7c27cd7e",
   "metadata": {},
   "outputs": [
    {
     "name": "stdout",
     "output_type": "stream",
     "text": [
      "3\n"
     ]
    }
   ],
   "source": [
    "p1 = MyClass()\n",
    "print(p1.x)"
   ]
  },
  {
   "cell_type": "code",
   "execution_count": 42,
   "id": "f0ada722",
   "metadata": {},
   "outputs": [
    {
     "name": "stdout",
     "output_type": "stream",
     "text": [
      "Amey\n",
      "India\n"
     ]
    }
   ],
   "source": [
    "class Program:\n",
    "    def __init__(self, name, country):\n",
    "        self.name = name\n",
    "        self.country = country\n",
    "\n",
    "p1 = Program(\"Amey\", \"India\")\n",
    "\n",
    "print(p1.name)\n",
    "print(p1.country)"
   ]
  },
  {
   "cell_type": "code",
   "execution_count": 54,
   "id": "ff3d028f",
   "metadata": {},
   "outputs": [],
   "source": [
    "#The __init__() Function\n",
    "\n",
    "# Use the __init__() function to assign values to object properties, or other operations that are necessary to do when the object is being created:"
   ]
  },
  {
   "cell_type": "code",
   "execution_count": 53,
   "id": "79e70561",
   "metadata": {},
   "outputs": [
    {
     "name": "stdout",
     "output_type": "stream",
     "text": [
      "Amey\n",
      "Data Science\n",
      "4140\n",
      "Pyspark \n",
      "\n",
      "Pratik\n",
      "MSO\n",
      "6523\n",
      "Dynamics \n",
      "\n",
      "Akshay\n",
      "Sitecore\n",
      "7412\n",
      "Html&Css\n"
     ]
    }
   ],
   "source": [
    "class OfficeDepartmentListClass:\n",
    "    def __init__(self, EmpName, DepartmentName, EmpNumber, TechnologyWorkingOn):\n",
    "        self.EmpName = EmpName\n",
    "        self.DepartmentName = DepartmentName\n",
    "        self.EmpNumber = EmpNumber\n",
    "        self.TechnologyWorkingOn = TechnologyWorkingOn\n",
    "\n",
    "ph1 = OfficeDepartmentListClass(\"Amey\", \"Data Science\", \"4140\", \"Pyspark \\n\")\n",
    "ph2 = OfficeDepartmentListClass(\"Pratik\", \"MSO\", \"6523\", \"Dynamics \\n\")\n",
    "ph3 = OfficeDepartmentListClass(\"Akshay\", \"Sitecore\", \"7412\", \"Html&Css\")\n",
    "\n",
    "\n",
    "print(ph1.EmpName)\n",
    "print(ph1.DepartmentName)\n",
    "print(ph1.EmpNumber)\n",
    "print(ph1.TechnologyWorkingOn)\n",
    "\n",
    "\n",
    "print(ph2.EmpName)\n",
    "print(ph2.DepartmentName)\n",
    "print(ph2.EmpNumber)\n",
    "print(ph2.TechnologyWorkingOn)\n",
    "\n",
    "\n",
    "print(ph3.EmpName)\n",
    "print(ph3.DepartmentName)\n",
    "print(ph3.EmpNumber)\n",
    "print(ph3.TechnologyWorkingOn)"
   ]
  },
  {
   "cell_type": "code",
   "execution_count": 61,
   "id": "52bb7223",
   "metadata": {},
   "outputs": [
    {
     "name": "stdout",
     "output_type": "stream",
     "text": [
      "<__main__.Person object at 0x7f0d63eb4130>\n"
     ]
    }
   ],
   "source": [
    "class Person:\n",
    "    def __init__(self, name, age):\n",
    "        self.name = name\n",
    "        self.age = age\n",
    "\n",
    "p1 = Person(\"Amey\", 27)\n",
    "\n",
    "print(p1)"
   ]
  },
  {
   "cell_type": "code",
   "execution_count": 55,
   "id": "7aa6d7ef",
   "metadata": {},
   "outputs": [],
   "source": [
    "# The __str__() Function"
   ]
  },
  {
   "cell_type": "code",
   "execution_count": 64,
   "id": "9021849f",
   "metadata": {},
   "outputs": [
    {
     "name": "stdout",
     "output_type": "stream",
     "text": [
      "Amey (27)\n"
     ]
    }
   ],
   "source": [
    "class Person:\n",
    "    def __init__(self, name, age):\n",
    "        self.name = name\n",
    "        self.age = age\n",
    "    \n",
    "    def __str__(self):\n",
    "        return f\"{self.name} ({self.age})\"\n",
    "\n",
    "p1 = Person(\"Amey\", \"27\")\n",
    "\n",
    "print(p1)"
   ]
  },
  {
   "cell_type": "code",
   "execution_count": 72,
   "id": "65ee1043",
   "metadata": {},
   "outputs": [
    {
     "name": "stdout",
     "output_type": "stream",
     "text": [
      "Hello my name is Amey\n",
      "\n",
      "Amey age is 27\n"
     ]
    }
   ],
   "source": [
    "class program:\n",
    "    def __init__(self, name, age):\n",
    "        self.name = name\n",
    "        self.age = age\n",
    "        \n",
    "    def myfunc1(self):\n",
    "        print(\"Hello my name is \" +self.name+ \"\\n\")\n",
    "    \n",
    "    def myfunc2(self):\n",
    "        print(self.name + \" age is \" +self.age)\n",
    "\n",
    "p1 = program(\"Amey\", \"27\")\n",
    "\n",
    "p1.myfunc1()\n",
    "p1.myfunc2()"
   ]
  },
  {
   "cell_type": "code",
   "execution_count": 73,
   "id": "b0bfede7",
   "metadata": {},
   "outputs": [],
   "source": [
    "# self paramenter is a reference to the current instance of the class, and is used to access variable that belongs to the class."
   ]
  },
  {
   "cell_type": "code",
   "execution_count": 86,
   "id": "d40c263e",
   "metadata": {},
   "outputs": [
    {
     "name": "stdout",
     "output_type": "stream",
     "text": [
      "Hello!, My name is Amey\n",
      "Amey age is 27\n",
      "\n",
      "Hello!, My name is Sayali\n",
      "Sayali age is 26\n",
      "\n",
      "Hello!, My name is Abhijeet\n",
      "Abhijeet age is 27\n",
      "\n",
      "Hello!, My name is Puspa\n",
      "Puspa age is 26\n",
      "\n"
     ]
    }
   ],
   "source": [
    "# We haven't use self paramenter----->\n",
    "\n",
    "class person:\n",
    "    def __init__(skills, name, age):\n",
    "        skills.name = name\n",
    "        skills. age = age\n",
    "    \n",
    "    def nameFunction(pratices):\n",
    "        print(\"Hello!, My name is \" +pratices.name)\n",
    "    \n",
    "    def ageFunction(timep):\n",
    "        print(timep.name + \" age is \" + timep.age + \"\\n\")\n",
    "    \n",
    "p1 = person(\"Amey\", \"27\")\n",
    "p2 = person(\"Sayali\", \"26\")\n",
    "p3 = person(\"Abhijeet\", \"27\")\n",
    "p4 = person(\"Puspa\", \"26\")\n",
    "\n",
    "\n",
    "p1.nameFunction()\n",
    "p1.ageFunction()\n",
    "\n",
    "p2.nameFunction()\n",
    "p2.ageFunction()\n",
    "\n",
    "p3.nameFunction()\n",
    "p3.ageFunction()\n",
    "\n",
    "p4.nameFunction()\n",
    "p4.ageFunction()"
   ]
  },
  {
   "cell_type": "code",
   "execution_count": 82,
   "id": "6ab4256e",
   "metadata": {},
   "outputs": [],
   "source": [
    "p1.age = \"28\""
   ]
  },
  {
   "cell_type": "code",
   "execution_count": 83,
   "id": "40675e68",
   "metadata": {},
   "outputs": [
    {
     "name": "stdout",
     "output_type": "stream",
     "text": [
      "Hello!, My name is Amey\n",
      "Amey age is 28\n",
      "\n"
     ]
    }
   ],
   "source": [
    "\n",
    "p1.nameFunction()\n",
    "p1.ageFunction()"
   ]
  },
  {
   "cell_type": "code",
   "execution_count": 89,
   "id": "4c1b3ed8",
   "metadata": {},
   "outputs": [
    {
     "ename": "NameError",
     "evalue": "name 'p4' is not defined",
     "output_type": "error",
     "traceback": [
      "\u001b[0;31m---------------------------------------------------------------------------\u001b[0m",
      "\u001b[0;31mNameError\u001b[0m                                 Traceback (most recent call last)",
      "\u001b[0;32m/tmp/ipykernel_6562/2517953137.py\u001b[0m in \u001b[0;36m<module>\u001b[0;34m\u001b[0m\n\u001b[0;32m----> 1\u001b[0;31m \u001b[0mp4\u001b[0m\u001b[0;34m.\u001b[0m\u001b[0mnameFunction\u001b[0m\u001b[0;34m(\u001b[0m\u001b[0;34m)\u001b[0m\u001b[0;34m\u001b[0m\u001b[0;34m\u001b[0m\u001b[0m\n\u001b[0m\u001b[1;32m      2\u001b[0m \u001b[0mp4\u001b[0m\u001b[0;34m.\u001b[0m\u001b[0mageFunction\u001b[0m\u001b[0;34m(\u001b[0m\u001b[0;34m)\u001b[0m\u001b[0;34m\u001b[0m\u001b[0;34m\u001b[0m\u001b[0m\n",
      "\u001b[0;31mNameError\u001b[0m: name 'p4' is not defined"
     ]
    }
   ],
   "source": [
    "p4.nameFunction()\n",
    "p4.ageFunction()"
   ]
  },
  {
   "cell_type": "code",
   "execution_count": 88,
   "id": "259aaf4b",
   "metadata": {},
   "outputs": [],
   "source": [
    "del p4"
   ]
  },
  {
   "cell_type": "code",
   "execution_count": 91,
   "id": "c93e2a21",
   "metadata": {},
   "outputs": [],
   "source": [
    "# we use pass keyword for pass statement to avoid getting error.\n",
    "\n",
    "class program: \n",
    "    pass"
   ]
  },
  {
   "cell_type": "code",
   "execution_count": 92,
   "id": "aa6bda6f",
   "metadata": {},
   "outputs": [],
   "source": [
    "## Inheritance allows us to define a class that inherits all the methods and properties from another class."
   ]
  },
  {
   "cell_type": "code",
   "execution_count": 93,
   "id": "90860f4b",
   "metadata": {},
   "outputs": [],
   "source": [
    "## Parent class is the class being inherited from, also called base class."
   ]
  },
  {
   "cell_type": "code",
   "execution_count": 94,
   "id": "181fe056",
   "metadata": {},
   "outputs": [],
   "source": [
    "## Child class is the class that inherits from another class, also called derived class."
   ]
  },
  {
   "cell_type": "code",
   "execution_count": 95,
   "id": "59b75105",
   "metadata": {},
   "outputs": [],
   "source": [
    "## create a class name person with firstname and lastname properties and a printname method"
   ]
  },
  {
   "cell_type": "code",
   "execution_count": 102,
   "id": "fd195b40",
   "metadata": {},
   "outputs": [
    {
     "name": "stdout",
     "output_type": "stream",
     "text": [
      "Hello!, My firstname is Amey and my lastname is Didolkar\n",
      "\n",
      "Hello!, My firstname is Sayali and my lastname is Didolkar\n",
      "\n"
     ]
    }
   ],
   "source": [
    "class Person:\n",
    "    def __init__(self, FName, LName):\n",
    "        self.FName = FName\n",
    "        self.LName = LName\n",
    "    \n",
    "    def printnamefunction(self):\n",
    "        print(\"Hello!, My firstname is \" +self.FName+ \" and my lastname is \"+self.LName+\"\\n\")\n",
    "        \n",
    "p1 = Person(\"Amey\", \"Didolkar\")\n",
    "p1.printnamefunction()\n",
    "\n",
    "class Student(Person):\n",
    "    pass\n",
    "\n",
    "p2 = Student(\"Sayali\", \"Didolkar\")\n",
    "p2.printnamefunction()\n",
    "        "
   ]
  },
  {
   "cell_type": "code",
   "execution_count": null,
   "id": "ca9032cf",
   "metadata": {},
   "outputs": [],
   "source": []
  },
  {
   "cell_type": "code",
   "execution_count": null,
   "id": "03998ae7",
   "metadata": {},
   "outputs": [],
   "source": []
  },
  {
   "cell_type": "code",
   "execution_count": 105,
   "id": "7452c4d0",
   "metadata": {},
   "outputs": [
    {
     "name": "stdout",
     "output_type": "stream",
     "text": [
      "Hello!, My firstname is Amey and my lastname is Didolkar\n",
      "\n",
      "Hello!, My firstname is Alvin and my lastname is Pinkman\n",
      "\n"
     ]
    }
   ],
   "source": [
    "class Person:\n",
    "    def __init__(self, FName, LName):\n",
    "        self.FName = FName\n",
    "        self.LName = LName\n",
    "    \n",
    "    def printnamefunction(self):\n",
    "        print(\"Hello!, My firstname is \" +self.FName+ \" and my lastname is \"+self.LName+\"\\n\")\n",
    "        \n",
    "p1 = Person(\"Amey\", \"Didolkar\")\n",
    "p1.printnamefunction()\n",
    "\n",
    "class Student(Person):\n",
    "    def __init__(self, FName, LName):\n",
    "        Person.__init__(self, FName, LName)\n",
    "\n",
    "p2 = Student(\"Alvin\", \"Pinkman\")\n",
    "p2.printnamefunction()"
   ]
  },
  {
   "cell_type": "code",
   "execution_count": null,
   "id": "1a6d03a1",
   "metadata": {},
   "outputs": [],
   "source": []
  },
  {
   "cell_type": "code",
   "execution_count": null,
   "id": "fe430a69",
   "metadata": {},
   "outputs": [],
   "source": [
    "## using super class"
   ]
  },
  {
   "cell_type": "code",
   "execution_count": 119,
   "id": "02619241",
   "metadata": {},
   "outputs": [
    {
     "name": "stdout",
     "output_type": "stream",
     "text": [
      "Hello!, My firstname is Amey and my lastname is Didolkar\n",
      "\n",
      "Your department name is Data Solution\n"
     ]
    }
   ],
   "source": [
    "class Person:\n",
    "    def __init__(self, FName, LName):\n",
    "        self.FName = FName\n",
    "        self.LName = LName\n",
    "    \n",
    "    def printnamefunction(self):\n",
    "        print(self.FName, self.LName)\n",
    "\n",
    "class Student(Person):\n",
    "    def __init__(self, FName, LNamse, department):\n",
    "        super().__init__(FName, LName)\n",
    "        self.department = department\n",
    "    \n",
    "    def detailsOfEmp(self):\n",
    "        print(\"Hello!, My firstname is \" +self.FName+ \" and my lastname is \"+self.LName+\"\\n\")\n",
    "        print(\"Your department name is \" +self.department)\n",
    "        \n",
    "\n",
    "p2 = Student(\"Amey\", \"Didolkar\", \"Data Solution\")\n",
    "p2.detailsOfEmp()"
   ]
  },
  {
   "cell_type": "code",
   "execution_count": 5,
   "id": "2acf4bf1",
   "metadata": {},
   "outputs": [
    {
     "name": "stdout",
     "output_type": "stream",
     "text": [
      "apple\n",
      "banana\n",
      "cherry\n"
     ]
    }
   ],
   "source": [
    "## python iterators\n",
    "\n",
    "mytuple = (\"apple\", \"banana\", \"cherry\")\n",
    "myit = iter(mytuple)\n",
    "\n",
    "print(next(myit))\n",
    "print(next(myit))\n",
    "print(next(myit))\n",
    "#print(myit)"
   ]
  },
  {
   "cell_type": "code",
   "execution_count": 6,
   "id": "a0d7f02d",
   "metadata": {},
   "outputs": [],
   "source": [
    "## strings are iterable objects and can return an iterator"
   ]
  },
  {
   "cell_type": "code",
   "execution_count": 10,
   "id": "dec5a5a5",
   "metadata": {},
   "outputs": [
    {
     "name": "stdout",
     "output_type": "stream",
     "text": [
      "b\n",
      "a\n",
      "n\n",
      "a\n",
      "n\n",
      "a\n"
     ]
    }
   ],
   "source": [
    "mystr = \"banana\"\n",
    "\n",
    "myit = iter(mystr)\n",
    "\n",
    "print(next(myit))\n",
    "print(next(myit))\n",
    "print(next(myit))\n",
    "print(next(myit))\n",
    "print(next(myit))\n",
    "print(next(myit))"
   ]
  },
  {
   "cell_type": "code",
   "execution_count": 12,
   "id": "b60931cc",
   "metadata": {},
   "outputs": [
    {
     "name": "stdout",
     "output_type": "stream",
     "text": [
      "('apple', 'banana', 'cherry')\n",
      "apple\n",
      "banana\n",
      "cherry\n"
     ]
    }
   ],
   "source": [
    "print(mytuple)\n",
    "\n",
    "for x in mytuple:\n",
    "    print(x)"
   ]
  },
  {
   "cell_type": "code",
   "execution_count": 14,
   "id": "2ad93557",
   "metadata": {},
   "outputs": [
    {
     "name": "stdout",
     "output_type": "stream",
     "text": [
      "b\n",
      "a\n",
      "n\n",
      "a\n",
      "n\n",
      "a\n"
     ]
    }
   ],
   "source": [
    "for x in mystr:\n",
    "    print(x)"
   ]
  },
  {
   "cell_type": "code",
   "execution_count": null,
   "id": "4fc7a1a8",
   "metadata": {},
   "outputs": [],
   "source": [
    "## The for loop actually creates an iterator object and executes the next() method for each loop."
   ]
  },
  {
   "cell_type": "code",
   "execution_count": 20,
   "id": "d6139b5a",
   "metadata": {},
   "outputs": [
    {
     "name": "stdout",
     "output_type": "stream",
     "text": [
      "1\n",
      "2\n",
      "3\n",
      "4\n",
      "5\n",
      "6\n",
      "7\n",
      "8\n",
      "9\n",
      "10\n"
     ]
    }
   ],
   "source": [
    "# create iteration\n",
    "\n",
    "class myNumber:\n",
    "    def __iter__(self):\n",
    "        self.a = 1\n",
    "        return self\n",
    "    \n",
    "    def __next__(self):\n",
    "        x = self.a\n",
    "        self.a = self.a+1\n",
    "        return x\n",
    "\n",
    "myclass = myNumber()\n",
    "myiter = iter(myclass)\n",
    "\n",
    "print(next(myiter))\n",
    "print(next(myiter))\n",
    "print(next(myiter))\n",
    "print(next(myiter))\n",
    "print(next(myiter))\n",
    "print(next(myiter))\n",
    "print(next(myiter))\n",
    "print(next(myiter))\n",
    "print(next(myiter))\n",
    "print(next(myiter))\n",
    "\n",
    "        "
   ]
  },
  {
   "cell_type": "code",
   "execution_count": 24,
   "id": "0ec50a9a",
   "metadata": {},
   "outputs": [
    {
     "name": "stdout",
     "output_type": "stream",
     "text": [
      "1\n",
      "2\n",
      "3\n",
      "4\n",
      "5\n",
      "6\n",
      "7\n",
      "8\n",
      "9\n"
     ]
    }
   ],
   "source": [
    "## stop iteration\n",
    "\n",
    "class Mynumber:\n",
    "    def __iter__(self):\n",
    "        self.a = 1\n",
    "        return self\n",
    "    \n",
    "    def __next__(self):\n",
    "        if self.a<10:\n",
    "            x = self.a\n",
    "            self.a+=1\n",
    "            return x\n",
    "        else:\n",
    "            raise StopIteration\n",
    "            \n",
    "            \n",
    "myclass = Mynumber()\n",
    "myitera = iter(myclass)\n",
    "\n",
    "\n",
    "for x in myitera:\n",
    "    print(x)\n",
    "        \n",
    "        "
   ]
  },
  {
   "cell_type": "code",
   "execution_count": 25,
   "id": "5f1b7eac",
   "metadata": {},
   "outputs": [
    {
     "name": "stdout",
     "output_type": "stream",
     "text": [
      "200\n"
     ]
    }
   ],
   "source": [
    "## local scope\n",
    "\n",
    "##A variable created inside a function is available inside that function:\n",
    "\n",
    "\n",
    "\n",
    "def myfun():\n",
    "    x = 200\n",
    "    print(x)\n",
    "\n",
    "myfun()"
   ]
  },
  {
   "cell_type": "code",
   "execution_count": 26,
   "id": "d33a4cc4",
   "metadata": {},
   "outputs": [
    {
     "name": "stdout",
     "output_type": "stream",
     "text": [
      "300\n"
     ]
    }
   ],
   "source": [
    "## function inside function\n",
    "\n",
    "# The local variable can be accessed from a function within the function:\n",
    "\n",
    "def myfun():\n",
    "    x=300\n",
    "    def myinnerfun():\n",
    "        print(x)\n",
    "    myinnerfun()\n",
    "myfun()"
   ]
  },
  {
   "cell_type": "code",
   "execution_count": 28,
   "id": "2a6304e8",
   "metadata": {},
   "outputs": [
    {
     "name": "stdout",
     "output_type": "stream",
     "text": [
      "222\n",
      "222\n"
     ]
    }
   ],
   "source": [
    "## Global scope\n",
    "\n",
    "# A variable created outside of a function is global and can be used by anyone:\n",
    "\n",
    "x=222\n",
    "def myfun():\n",
    "    print(x)\n",
    "\n",
    "myfun()\n",
    "\n",
    "print(x)"
   ]
  },
  {
   "cell_type": "code",
   "execution_count": 29,
   "id": "efcc1fb4",
   "metadata": {},
   "outputs": [
    {
     "name": "stdout",
     "output_type": "stream",
     "text": [
      "111\n",
      "300\n"
     ]
    }
   ],
   "source": [
    "x = 300\n",
    "\n",
    "def myfunc():\n",
    "    x = 111\n",
    "    print(x)\n",
    "\n",
    "myfunc()\n",
    "\n",
    "print(x)"
   ]
  },
  {
   "cell_type": "code",
   "execution_count": 33,
   "id": "1e95302a",
   "metadata": {},
   "outputs": [
    {
     "name": "stdout",
     "output_type": "stream",
     "text": [
      "200\n"
     ]
    }
   ],
   "source": [
    "## Global keyword\n",
    "\n",
    "# The global keyword makes the variable global.\n",
    "\n",
    "def myfunc():\n",
    "    global  x \n",
    "    x = 200\n",
    "\n",
    "myfunc()\n",
    "\n",
    "print(x)"
   ]
  },
  {
   "cell_type": "code",
   "execution_count": 36,
   "id": "ca44b095",
   "metadata": {},
   "outputs": [
    {
     "name": "stdout",
     "output_type": "stream",
     "text": [
      "211\n",
      "211\n"
     ]
    }
   ],
   "source": [
    "x = 300\n",
    "\n",
    "def myfunc():\n",
    "    global x \n",
    "    x =211\n",
    "    print(x)\n",
    "\n",
    "myfunc()\n",
    "print(x)"
   ]
  },
  {
   "cell_type": "code",
   "execution_count": null,
   "id": "20ddf12f",
   "metadata": {},
   "outputs": [],
   "source": [
    "## module"
   ]
  },
  {
   "cell_type": "code",
   "execution_count": null,
   "id": "0e1c20fe",
   "metadata": {},
   "outputs": [],
   "source": []
  },
  {
   "cell_type": "code",
   "execution_count": null,
   "id": "330d6d9a",
   "metadata": {},
   "outputs": [],
   "source": []
  },
  {
   "cell_type": "code",
   "execution_count": null,
   "id": "c60d8fba",
   "metadata": {},
   "outputs": [],
   "source": []
  },
  {
   "cell_type": "code",
   "execution_count": null,
   "id": "10230985",
   "metadata": {},
   "outputs": [],
   "source": []
  },
  {
   "cell_type": "code",
   "execution_count": null,
   "id": "059f707c",
   "metadata": {},
   "outputs": [],
   "source": []
  },
  {
   "cell_type": "code",
   "execution_count": null,
   "id": "a536a446",
   "metadata": {},
   "outputs": [],
   "source": []
  },
  {
   "cell_type": "code",
   "execution_count": null,
   "id": "a12a3023",
   "metadata": {},
   "outputs": [],
   "source": []
  },
  {
   "cell_type": "code",
   "execution_count": null,
   "id": "be50323e",
   "metadata": {},
   "outputs": [],
   "source": []
  },
  {
   "cell_type": "code",
   "execution_count": null,
   "id": "8577a9b5",
   "metadata": {},
   "outputs": [],
   "source": []
  },
  {
   "cell_type": "code",
   "execution_count": null,
   "id": "d4eb8752",
   "metadata": {},
   "outputs": [],
   "source": []
  },
  {
   "cell_type": "code",
   "execution_count": null,
   "id": "028c2f02",
   "metadata": {},
   "outputs": [],
   "source": []
  },
  {
   "cell_type": "code",
   "execution_count": null,
   "id": "44ce15de",
   "metadata": {},
   "outputs": [],
   "source": []
  },
  {
   "cell_type": "code",
   "execution_count": null,
   "id": "2bd50a62",
   "metadata": {},
   "outputs": [],
   "source": []
  },
  {
   "cell_type": "code",
   "execution_count": null,
   "id": "36f6af9c",
   "metadata": {},
   "outputs": [],
   "source": []
  },
  {
   "cell_type": "code",
   "execution_count": null,
   "id": "29606154",
   "metadata": {},
   "outputs": [],
   "source": []
  },
  {
   "cell_type": "code",
   "execution_count": null,
   "id": "b7cfa8ba",
   "metadata": {},
   "outputs": [],
   "source": []
  },
  {
   "cell_type": "code",
   "execution_count": null,
   "id": "5d512fad",
   "metadata": {},
   "outputs": [],
   "source": []
  },
  {
   "cell_type": "code",
   "execution_count": null,
   "id": "e8e911b4",
   "metadata": {},
   "outputs": [],
   "source": []
  },
  {
   "cell_type": "code",
   "execution_count": null,
   "id": "3d647aa4",
   "metadata": {},
   "outputs": [],
   "source": []
  },
  {
   "cell_type": "code",
   "execution_count": null,
   "id": "cf79fb6e",
   "metadata": {},
   "outputs": [],
   "source": []
  },
  {
   "cell_type": "code",
   "execution_count": null,
   "id": "331cffd2",
   "metadata": {},
   "outputs": [],
   "source": []
  },
  {
   "cell_type": "code",
   "execution_count": null,
   "id": "69698ffc",
   "metadata": {},
   "outputs": [],
   "source": []
  },
  {
   "cell_type": "code",
   "execution_count": null,
   "id": "15001df0",
   "metadata": {},
   "outputs": [],
   "source": []
  },
  {
   "cell_type": "code",
   "execution_count": null,
   "id": "c3579dd6",
   "metadata": {},
   "outputs": [],
   "source": []
  },
  {
   "cell_type": "code",
   "execution_count": null,
   "id": "ed65d924",
   "metadata": {},
   "outputs": [],
   "source": []
  },
  {
   "cell_type": "code",
   "execution_count": null,
   "id": "c8c338d1",
   "metadata": {},
   "outputs": [],
   "source": []
  },
  {
   "cell_type": "code",
   "execution_count": null,
   "id": "55ed952f",
   "metadata": {},
   "outputs": [],
   "source": []
  },
  {
   "cell_type": "code",
   "execution_count": null,
   "id": "1440e7cd",
   "metadata": {},
   "outputs": [],
   "source": []
  },
  {
   "cell_type": "code",
   "execution_count": null,
   "id": "c1837258",
   "metadata": {},
   "outputs": [],
   "source": []
  },
  {
   "cell_type": "code",
   "execution_count": null,
   "id": "87d0214d",
   "metadata": {},
   "outputs": [],
   "source": []
  },
  {
   "cell_type": "code",
   "execution_count": null,
   "id": "0b9a2a94",
   "metadata": {},
   "outputs": [],
   "source": []
  },
  {
   "cell_type": "code",
   "execution_count": null,
   "id": "db8ddd9d",
   "metadata": {},
   "outputs": [],
   "source": []
  },
  {
   "cell_type": "code",
   "execution_count": null,
   "id": "f36e7ab1",
   "metadata": {},
   "outputs": [],
   "source": []
  },
  {
   "cell_type": "code",
   "execution_count": null,
   "id": "b128ebaf",
   "metadata": {},
   "outputs": [],
   "source": []
  },
  {
   "cell_type": "code",
   "execution_count": null,
   "id": "39489a00",
   "metadata": {},
   "outputs": [],
   "source": []
  },
  {
   "cell_type": "code",
   "execution_count": null,
   "id": "9205142e",
   "metadata": {},
   "outputs": [],
   "source": []
  },
  {
   "cell_type": "code",
   "execution_count": null,
   "id": "eebf3305",
   "metadata": {},
   "outputs": [],
   "source": []
  },
  {
   "cell_type": "code",
   "execution_count": null,
   "id": "299354c1",
   "metadata": {},
   "outputs": [],
   "source": []
  },
  {
   "cell_type": "code",
   "execution_count": null,
   "id": "04445a87",
   "metadata": {},
   "outputs": [],
   "source": []
  },
  {
   "cell_type": "code",
   "execution_count": null,
   "id": "4c62ba0b",
   "metadata": {},
   "outputs": [],
   "source": []
  },
  {
   "cell_type": "code",
   "execution_count": null,
   "id": "961bda39",
   "metadata": {},
   "outputs": [],
   "source": []
  },
  {
   "cell_type": "code",
   "execution_count": null,
   "id": "5d394823",
   "metadata": {},
   "outputs": [],
   "source": []
  },
  {
   "cell_type": "code",
   "execution_count": null,
   "id": "94f95858",
   "metadata": {},
   "outputs": [],
   "source": []
  },
  {
   "cell_type": "code",
   "execution_count": null,
   "id": "1b900a94",
   "metadata": {},
   "outputs": [],
   "source": []
  },
  {
   "cell_type": "code",
   "execution_count": null,
   "id": "b5da0887",
   "metadata": {},
   "outputs": [],
   "source": []
  },
  {
   "cell_type": "code",
   "execution_count": null,
   "id": "b4b5bb34",
   "metadata": {},
   "outputs": [],
   "source": []
  },
  {
   "cell_type": "code",
   "execution_count": null,
   "id": "a9f10b70",
   "metadata": {},
   "outputs": [],
   "source": []
  },
  {
   "cell_type": "code",
   "execution_count": null,
   "id": "907c7bf1",
   "metadata": {},
   "outputs": [],
   "source": []
  },
  {
   "cell_type": "code",
   "execution_count": null,
   "id": "e415b9f5",
   "metadata": {},
   "outputs": [],
   "source": []
  },
  {
   "cell_type": "code",
   "execution_count": null,
   "id": "bd6cf24b",
   "metadata": {},
   "outputs": [],
   "source": []
  },
  {
   "cell_type": "code",
   "execution_count": null,
   "id": "0a347546",
   "metadata": {},
   "outputs": [],
   "source": []
  },
  {
   "cell_type": "code",
   "execution_count": null,
   "id": "c48f009b",
   "metadata": {},
   "outputs": [],
   "source": []
  },
  {
   "cell_type": "code",
   "execution_count": null,
   "id": "7213e3d4",
   "metadata": {},
   "outputs": [],
   "source": []
  },
  {
   "cell_type": "code",
   "execution_count": null,
   "id": "0fcde41e",
   "metadata": {},
   "outputs": [],
   "source": []
  },
  {
   "cell_type": "code",
   "execution_count": null,
   "id": "427a159a",
   "metadata": {},
   "outputs": [],
   "source": []
  },
  {
   "cell_type": "code",
   "execution_count": null,
   "id": "41a296ba",
   "metadata": {},
   "outputs": [],
   "source": []
  },
  {
   "cell_type": "code",
   "execution_count": null,
   "id": "b2cb6a04",
   "metadata": {},
   "outputs": [],
   "source": []
  },
  {
   "cell_type": "code",
   "execution_count": null,
   "id": "8f5f16e0",
   "metadata": {},
   "outputs": [],
   "source": []
  },
  {
   "cell_type": "code",
   "execution_count": null,
   "id": "5f86c0ec",
   "metadata": {},
   "outputs": [],
   "source": []
  },
  {
   "cell_type": "code",
   "execution_count": null,
   "id": "0645228b",
   "metadata": {},
   "outputs": [],
   "source": []
  },
  {
   "cell_type": "code",
   "execution_count": null,
   "id": "2e329073",
   "metadata": {},
   "outputs": [],
   "source": []
  },
  {
   "cell_type": "code",
   "execution_count": null,
   "id": "5bd9ceb3",
   "metadata": {},
   "outputs": [],
   "source": []
  },
  {
   "cell_type": "code",
   "execution_count": null,
   "id": "74827272",
   "metadata": {},
   "outputs": [],
   "source": []
  },
  {
   "cell_type": "code",
   "execution_count": null,
   "id": "0a4c03fb",
   "metadata": {},
   "outputs": [],
   "source": []
  },
  {
   "cell_type": "code",
   "execution_count": null,
   "id": "f20a9b16",
   "metadata": {},
   "outputs": [],
   "source": []
  },
  {
   "cell_type": "code",
   "execution_count": null,
   "id": "f0449dab",
   "metadata": {},
   "outputs": [],
   "source": []
  },
  {
   "cell_type": "code",
   "execution_count": null,
   "id": "58db3b21",
   "metadata": {},
   "outputs": [],
   "source": []
  },
  {
   "cell_type": "code",
   "execution_count": null,
   "id": "afe1517a",
   "metadata": {},
   "outputs": [],
   "source": []
  },
  {
   "cell_type": "code",
   "execution_count": null,
   "id": "2c2c8aa4",
   "metadata": {},
   "outputs": [],
   "source": []
  },
  {
   "cell_type": "code",
   "execution_count": null,
   "id": "2b86b0d4",
   "metadata": {},
   "outputs": [],
   "source": []
  },
  {
   "cell_type": "code",
   "execution_count": null,
   "id": "1b5c1641",
   "metadata": {},
   "outputs": [],
   "source": []
  },
  {
   "cell_type": "code",
   "execution_count": null,
   "id": "d00258b1",
   "metadata": {},
   "outputs": [],
   "source": []
  },
  {
   "cell_type": "code",
   "execution_count": null,
   "id": "7a13a9fe",
   "metadata": {},
   "outputs": [],
   "source": []
  },
  {
   "cell_type": "code",
   "execution_count": null,
   "id": "9872d66f",
   "metadata": {},
   "outputs": [],
   "source": []
  },
  {
   "cell_type": "code",
   "execution_count": null,
   "id": "3ee2d930",
   "metadata": {},
   "outputs": [],
   "source": []
  },
  {
   "cell_type": "code",
   "execution_count": null,
   "id": "0794f489",
   "metadata": {},
   "outputs": [],
   "source": []
  },
  {
   "cell_type": "code",
   "execution_count": null,
   "id": "358e13c8",
   "metadata": {},
   "outputs": [],
   "source": []
  },
  {
   "cell_type": "code",
   "execution_count": null,
   "id": "ccfc6aea",
   "metadata": {},
   "outputs": [],
   "source": []
  },
  {
   "cell_type": "code",
   "execution_count": null,
   "id": "063cfa7c",
   "metadata": {},
   "outputs": [],
   "source": []
  },
  {
   "cell_type": "code",
   "execution_count": null,
   "id": "d7208bdf",
   "metadata": {},
   "outputs": [],
   "source": []
  },
  {
   "cell_type": "code",
   "execution_count": null,
   "id": "dd085c15",
   "metadata": {},
   "outputs": [],
   "source": []
  },
  {
   "cell_type": "code",
   "execution_count": null,
   "id": "89cbd3b7",
   "metadata": {},
   "outputs": [],
   "source": []
  },
  {
   "cell_type": "code",
   "execution_count": null,
   "id": "29d38f0d",
   "metadata": {},
   "outputs": [],
   "source": []
  },
  {
   "cell_type": "code",
   "execution_count": null,
   "id": "f22b09ad",
   "metadata": {},
   "outputs": [],
   "source": []
  },
  {
   "cell_type": "code",
   "execution_count": null,
   "id": "78f53820",
   "metadata": {},
   "outputs": [],
   "source": []
  },
  {
   "cell_type": "code",
   "execution_count": null,
   "id": "9c64989c",
   "metadata": {},
   "outputs": [],
   "source": []
  },
  {
   "cell_type": "code",
   "execution_count": null,
   "id": "fc47cf34",
   "metadata": {},
   "outputs": [],
   "source": []
  },
  {
   "cell_type": "code",
   "execution_count": null,
   "id": "002d9e5e",
   "metadata": {},
   "outputs": [],
   "source": []
  },
  {
   "cell_type": "code",
   "execution_count": null,
   "id": "663ffdad",
   "metadata": {},
   "outputs": [],
   "source": []
  },
  {
   "cell_type": "code",
   "execution_count": null,
   "id": "16d34175",
   "metadata": {},
   "outputs": [],
   "source": []
  },
  {
   "cell_type": "code",
   "execution_count": null,
   "id": "8367f656",
   "metadata": {},
   "outputs": [],
   "source": []
  },
  {
   "cell_type": "code",
   "execution_count": null,
   "id": "25279e76",
   "metadata": {},
   "outputs": [],
   "source": []
  },
  {
   "cell_type": "code",
   "execution_count": null,
   "id": "4879f4f7",
   "metadata": {},
   "outputs": [],
   "source": []
  },
  {
   "cell_type": "code",
   "execution_count": null,
   "id": "35d8403d",
   "metadata": {},
   "outputs": [],
   "source": []
  },
  {
   "cell_type": "code",
   "execution_count": null,
   "id": "9a7a8287",
   "metadata": {},
   "outputs": [],
   "source": []
  },
  {
   "cell_type": "code",
   "execution_count": null,
   "id": "a3282aac",
   "metadata": {},
   "outputs": [],
   "source": []
  },
  {
   "cell_type": "code",
   "execution_count": null,
   "id": "0773ceeb",
   "metadata": {},
   "outputs": [],
   "source": []
  },
  {
   "cell_type": "code",
   "execution_count": null,
   "id": "f63f762d",
   "metadata": {},
   "outputs": [],
   "source": []
  },
  {
   "cell_type": "code",
   "execution_count": null,
   "id": "fbccc286",
   "metadata": {},
   "outputs": [],
   "source": []
  },
  {
   "cell_type": "code",
   "execution_count": null,
   "id": "6ed19b1d",
   "metadata": {},
   "outputs": [],
   "source": []
  },
  {
   "cell_type": "code",
   "execution_count": null,
   "id": "ded0331e",
   "metadata": {},
   "outputs": [],
   "source": []
  },
  {
   "cell_type": "code",
   "execution_count": null,
   "id": "4ac7291d",
   "metadata": {},
   "outputs": [],
   "source": []
  },
  {
   "cell_type": "code",
   "execution_count": null,
   "id": "c9da0218",
   "metadata": {},
   "outputs": [],
   "source": []
  },
  {
   "cell_type": "code",
   "execution_count": null,
   "id": "a40152ca",
   "metadata": {},
   "outputs": [],
   "source": []
  },
  {
   "cell_type": "code",
   "execution_count": null,
   "id": "7a5ad15e",
   "metadata": {},
   "outputs": [],
   "source": []
  },
  {
   "cell_type": "code",
   "execution_count": null,
   "id": "504ba424",
   "metadata": {},
   "outputs": [],
   "source": []
  },
  {
   "cell_type": "code",
   "execution_count": null,
   "id": "2d71d225",
   "metadata": {},
   "outputs": [],
   "source": []
  },
  {
   "cell_type": "code",
   "execution_count": null,
   "id": "6c7ee391",
   "metadata": {},
   "outputs": [],
   "source": []
  },
  {
   "cell_type": "code",
   "execution_count": null,
   "id": "e5760809",
   "metadata": {},
   "outputs": [],
   "source": []
  },
  {
   "cell_type": "code",
   "execution_count": null,
   "id": "f6ac31fe",
   "metadata": {},
   "outputs": [],
   "source": []
  },
  {
   "cell_type": "code",
   "execution_count": null,
   "id": "c197113e",
   "metadata": {},
   "outputs": [],
   "source": []
  },
  {
   "cell_type": "code",
   "execution_count": null,
   "id": "f34ff0d3",
   "metadata": {},
   "outputs": [],
   "source": []
  },
  {
   "cell_type": "code",
   "execution_count": null,
   "id": "b6a2a599",
   "metadata": {},
   "outputs": [],
   "source": []
  },
  {
   "cell_type": "code",
   "execution_count": null,
   "id": "d8915149",
   "metadata": {},
   "outputs": [],
   "source": []
  },
  {
   "cell_type": "code",
   "execution_count": null,
   "id": "63fbf15f",
   "metadata": {},
   "outputs": [],
   "source": []
  },
  {
   "cell_type": "code",
   "execution_count": null,
   "id": "7d68af66",
   "metadata": {},
   "outputs": [],
   "source": []
  },
  {
   "cell_type": "code",
   "execution_count": null,
   "id": "801413d7",
   "metadata": {},
   "outputs": [],
   "source": []
  },
  {
   "cell_type": "code",
   "execution_count": null,
   "id": "1bcccdb1",
   "metadata": {},
   "outputs": [],
   "source": []
  },
  {
   "cell_type": "code",
   "execution_count": null,
   "id": "7c550638",
   "metadata": {},
   "outputs": [],
   "source": []
  },
  {
   "cell_type": "code",
   "execution_count": null,
   "id": "10510ed6",
   "metadata": {},
   "outputs": [],
   "source": []
  },
  {
   "cell_type": "code",
   "execution_count": null,
   "id": "e9777421",
   "metadata": {},
   "outputs": [],
   "source": []
  },
  {
   "cell_type": "code",
   "execution_count": null,
   "id": "308ea4c9",
   "metadata": {},
   "outputs": [],
   "source": []
  },
  {
   "cell_type": "code",
   "execution_count": null,
   "id": "155b81b0",
   "metadata": {},
   "outputs": [],
   "source": []
  },
  {
   "cell_type": "code",
   "execution_count": null,
   "id": "54a23d15",
   "metadata": {},
   "outputs": [],
   "source": []
  },
  {
   "cell_type": "code",
   "execution_count": null,
   "id": "fa6d803e",
   "metadata": {},
   "outputs": [],
   "source": []
  },
  {
   "cell_type": "code",
   "execution_count": null,
   "id": "c9c58d6c",
   "metadata": {},
   "outputs": [],
   "source": []
  },
  {
   "cell_type": "code",
   "execution_count": null,
   "id": "f8e646cb",
   "metadata": {},
   "outputs": [],
   "source": []
  },
  {
   "cell_type": "code",
   "execution_count": null,
   "id": "4e5161ff",
   "metadata": {},
   "outputs": [],
   "source": []
  },
  {
   "cell_type": "code",
   "execution_count": null,
   "id": "9c5ca07c",
   "metadata": {},
   "outputs": [],
   "source": []
  },
  {
   "cell_type": "code",
   "execution_count": null,
   "id": "0c6ecc32",
   "metadata": {},
   "outputs": [],
   "source": []
  },
  {
   "cell_type": "code",
   "execution_count": null,
   "id": "ac5ad823",
   "metadata": {},
   "outputs": [],
   "source": []
  },
  {
   "cell_type": "code",
   "execution_count": null,
   "id": "0efb5754",
   "metadata": {},
   "outputs": [],
   "source": []
  },
  {
   "cell_type": "code",
   "execution_count": null,
   "id": "b1db2ae2",
   "metadata": {},
   "outputs": [],
   "source": []
  },
  {
   "cell_type": "code",
   "execution_count": null,
   "id": "a4f5edb8",
   "metadata": {},
   "outputs": [],
   "source": []
  },
  {
   "cell_type": "code",
   "execution_count": null,
   "id": "b0b4752e",
   "metadata": {},
   "outputs": [],
   "source": []
  },
  {
   "cell_type": "code",
   "execution_count": null,
   "id": "a5faaa0e",
   "metadata": {},
   "outputs": [],
   "source": []
  }
 ],
 "metadata": {
  "kernelspec": {
   "display_name": "Python 3 (ipykernel)",
   "language": "python",
   "name": "python3"
  },
  "language_info": {
   "codemirror_mode": {
    "name": "ipython",
    "version": 3
   },
   "file_extension": ".py",
   "mimetype": "text/x-python",
   "name": "python",
   "nbconvert_exporter": "python",
   "pygments_lexer": "ipython3",
   "version": "3.9.13"
  }
 },
 "nbformat": 4,
 "nbformat_minor": 5
}
